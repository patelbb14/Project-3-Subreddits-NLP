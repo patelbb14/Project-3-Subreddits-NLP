{
 "cells": [
  {
   "cell_type": "markdown",
   "id": "04082d76",
   "metadata": {},
   "source": [
    "# Project 3: Web APIs & NLP"
   ]
  },
  {
   "cell_type": "code",
   "execution_count": 170,
   "id": "5e7c1891",
   "metadata": {},
   "outputs": [],
   "source": [
    "# Import packages\n",
    "import numpy as np\n",
    "import pandas as pd       \n",
    "import matplotlib.pyplot as plt\n",
    "import seaborn as sns\n",
    "\n",
    "from sklearn.feature_extraction.text import CountVectorizer\n",
    "from nltk.sentiment.vader import SentimentIntensityAnalyzer"
   ]
  },
  {
   "cell_type": "code",
   "execution_count": 171,
   "id": "ce2f8b61",
   "metadata": {},
   "outputs": [
    {
     "data": {
      "text/html": [
       "<div>\n",
       "<style scoped>\n",
       "    .dataframe tbody tr th:only-of-type {\n",
       "        vertical-align: middle;\n",
       "    }\n",
       "\n",
       "    .dataframe tbody tr th {\n",
       "        vertical-align: top;\n",
       "    }\n",
       "\n",
       "    .dataframe thead th {\n",
       "        text-align: right;\n",
       "    }\n",
       "</style>\n",
       "<table border=\"1\" class=\"dataframe\">\n",
       "  <thead>\n",
       "    <tr style=\"text-align: right;\">\n",
       "      <th></th>\n",
       "      <th>Unnamed: 0</th>\n",
       "      <th>created_utc</th>\n",
       "      <th>title</th>\n",
       "      <th>self_text</th>\n",
       "      <th>subreddit</th>\n",
       "      <th>score</th>\n",
       "      <th>num_comments</th>\n",
       "    </tr>\n",
       "  </thead>\n",
       "  <tbody>\n",
       "    <tr>\n",
       "      <th>0</th>\n",
       "      <td>0</td>\n",
       "      <td>1.709248e+09</td>\n",
       "      <td>Jim Mordecai and the Santa Rosa Hitchhiker Mur...</td>\n",
       "      <td>Was Mordecai the serial killer who abducted an...</td>\n",
       "      <td>UnresolvedMysteries</td>\n",
       "      <td>20</td>\n",
       "      <td>10</td>\n",
       "    </tr>\n",
       "    <tr>\n",
       "      <th>1</th>\n",
       "      <td>1</td>\n",
       "      <td>1.709228e+09</td>\n",
       "      <td>A ten year old goes out to run errands and nev...</td>\n",
       "      <td>Ten-year-old Mary Ann Verdecchia was excited o...</td>\n",
       "      <td>UnresolvedMysteries</td>\n",
       "      <td>168</td>\n",
       "      <td>20</td>\n",
       "    </tr>\n",
       "    <tr>\n",
       "      <th>2</th>\n",
       "      <td>2</td>\n",
       "      <td>1.709215e+09</td>\n",
       "      <td>A Shadow Over Leigh: The Unsolved Murder of 14...</td>\n",
       "      <td>**Background**  \\nLisa Hession was a 14 year o...</td>\n",
       "      <td>UnresolvedMysteries</td>\n",
       "      <td>121</td>\n",
       "      <td>13</td>\n",
       "    </tr>\n",
       "    <tr>\n",
       "      <th>3</th>\n",
       "      <td>3</td>\n",
       "      <td>1.709175e+09</td>\n",
       "      <td>Tera Tracy</td>\n",
       "      <td>Saw this story online and thought it was worth...</td>\n",
       "      <td>UnresolvedMysteries</td>\n",
       "      <td>53</td>\n",
       "      <td>8</td>\n",
       "    </tr>\n",
       "    <tr>\n",
       "      <th>4</th>\n",
       "      <td>4</td>\n",
       "      <td>1.709069e+09</td>\n",
       "      <td>The Boy and the Bike: the Disappearance of Dav...</td>\n",
       "      <td>I know this has been covered a few times, but ...</td>\n",
       "      <td>UnresolvedMysteries</td>\n",
       "      <td>337</td>\n",
       "      <td>51</td>\n",
       "    </tr>\n",
       "  </tbody>\n",
       "</table>\n",
       "</div>"
      ],
      "text/plain": [
       "   Unnamed: 0   created_utc  \\\n",
       "0           0  1.709248e+09   \n",
       "1           1  1.709228e+09   \n",
       "2           2  1.709215e+09   \n",
       "3           3  1.709175e+09   \n",
       "4           4  1.709069e+09   \n",
       "\n",
       "                                               title  \\\n",
       "0  Jim Mordecai and the Santa Rosa Hitchhiker Mur...   \n",
       "1  A ten year old goes out to run errands and nev...   \n",
       "2  A Shadow Over Leigh: The Unsolved Murder of 14...   \n",
       "3                                         Tera Tracy   \n",
       "4  The Boy and the Bike: the Disappearance of Dav...   \n",
       "\n",
       "                                           self_text            subreddit  \\\n",
       "0  Was Mordecai the serial killer who abducted an...  UnresolvedMysteries   \n",
       "1  Ten-year-old Mary Ann Verdecchia was excited o...  UnresolvedMysteries   \n",
       "2  **Background**  \\nLisa Hession was a 14 year o...  UnresolvedMysteries   \n",
       "3  Saw this story online and thought it was worth...  UnresolvedMysteries   \n",
       "4  I know this has been covered a few times, but ...  UnresolvedMysteries   \n",
       "\n",
       "   score  num_comments  \n",
       "0     20            10  \n",
       "1    168            20  \n",
       "2    121            13  \n",
       "3     53             8  \n",
       "4    337            51  "
      ]
     },
     "execution_count": 171,
     "metadata": {},
     "output_type": "execute_result"
    }
   ],
   "source": [
    "reddit_data = pd.read_csv('./data/reddit_data.csv')\n",
    "reddit_data.head()"
   ]
  },
  {
   "cell_type": "code",
   "execution_count": 172,
   "id": "cfe4f89e",
   "metadata": {},
   "outputs": [],
   "source": [
    "reddit_data.drop(columns = ['Unnamed: 0'], inplace = True)"
   ]
  },
  {
   "cell_type": "code",
   "execution_count": 173,
   "id": "3b806753",
   "metadata": {},
   "outputs": [
    {
     "data": {
      "text/plain": [
       "(4788, 6)"
      ]
     },
     "execution_count": 173,
     "metadata": {},
     "output_type": "execute_result"
    }
   ],
   "source": [
    "reddit_data.shape"
   ]
  },
  {
   "cell_type": "code",
   "execution_count": 174,
   "id": "a7a5873c",
   "metadata": {},
   "outputs": [
    {
     "data": {
      "text/plain": [
       "subreddit\n",
       "FanTheories            2451\n",
       "UnresolvedMysteries    2337\n",
       "Name: count, dtype: int64"
      ]
     },
     "execution_count": 174,
     "metadata": {},
     "output_type": "execute_result"
    }
   ],
   "source": [
    "reddit_data[\"subreddit\"].value_counts()"
   ]
  },
  {
   "cell_type": "code",
   "execution_count": 177,
   "id": "008a88a5",
   "metadata": {
    "scrolled": true
   },
   "outputs": [
    {
     "data": {
      "text/html": [
       "<div>\n",
       "<style scoped>\n",
       "    .dataframe tbody tr th:only-of-type {\n",
       "        vertical-align: middle;\n",
       "    }\n",
       "\n",
       "    .dataframe tbody tr th {\n",
       "        vertical-align: top;\n",
       "    }\n",
       "\n",
       "    .dataframe thead th {\n",
       "        text-align: right;\n",
       "    }\n",
       "</style>\n",
       "<table border=\"1\" class=\"dataframe\">\n",
       "  <thead>\n",
       "    <tr style=\"text-align: right;\">\n",
       "      <th></th>\n",
       "      <th>created_utc</th>\n",
       "      <th>title</th>\n",
       "      <th>self_text</th>\n",
       "      <th>subreddit</th>\n",
       "      <th>score</th>\n",
       "      <th>num_comments</th>\n",
       "      <th>target</th>\n",
       "    </tr>\n",
       "  </thead>\n",
       "  <tbody>\n",
       "    <tr>\n",
       "      <th>0</th>\n",
       "      <td>1.709248e+09</td>\n",
       "      <td>Jim Mordecai and the Santa Rosa Hitchhiker Mur...</td>\n",
       "      <td>Was Mordecai the serial killer who abducted an...</td>\n",
       "      <td>UnresolvedMysteries</td>\n",
       "      <td>20</td>\n",
       "      <td>10</td>\n",
       "      <td>1</td>\n",
       "    </tr>\n",
       "    <tr>\n",
       "      <th>1</th>\n",
       "      <td>1.709228e+09</td>\n",
       "      <td>A ten year old goes out to run errands and nev...</td>\n",
       "      <td>Ten-year-old Mary Ann Verdecchia was excited o...</td>\n",
       "      <td>UnresolvedMysteries</td>\n",
       "      <td>168</td>\n",
       "      <td>20</td>\n",
       "      <td>1</td>\n",
       "    </tr>\n",
       "    <tr>\n",
       "      <th>2</th>\n",
       "      <td>1.709215e+09</td>\n",
       "      <td>A Shadow Over Leigh: The Unsolved Murder of 14...</td>\n",
       "      <td>**Background**  \\nLisa Hession was a 14 year o...</td>\n",
       "      <td>UnresolvedMysteries</td>\n",
       "      <td>121</td>\n",
       "      <td>13</td>\n",
       "      <td>1</td>\n",
       "    </tr>\n",
       "    <tr>\n",
       "      <th>3</th>\n",
       "      <td>1.709175e+09</td>\n",
       "      <td>Tera Tracy</td>\n",
       "      <td>Saw this story online and thought it was worth...</td>\n",
       "      <td>UnresolvedMysteries</td>\n",
       "      <td>53</td>\n",
       "      <td>8</td>\n",
       "      <td>1</td>\n",
       "    </tr>\n",
       "    <tr>\n",
       "      <th>4</th>\n",
       "      <td>1.709069e+09</td>\n",
       "      <td>The Boy and the Bike: the Disappearance of Dav...</td>\n",
       "      <td>I know this has been covered a few times, but ...</td>\n",
       "      <td>UnresolvedMysteries</td>\n",
       "      <td>337</td>\n",
       "      <td>51</td>\n",
       "      <td>1</td>\n",
       "    </tr>\n",
       "  </tbody>\n",
       "</table>\n",
       "</div>"
      ],
      "text/plain": [
       "    created_utc                                              title  \\\n",
       "0  1.709248e+09  Jim Mordecai and the Santa Rosa Hitchhiker Mur...   \n",
       "1  1.709228e+09  A ten year old goes out to run errands and nev...   \n",
       "2  1.709215e+09  A Shadow Over Leigh: The Unsolved Murder of 14...   \n",
       "3  1.709175e+09                                         Tera Tracy   \n",
       "4  1.709069e+09  The Boy and the Bike: the Disappearance of Dav...   \n",
       "\n",
       "                                           self_text            subreddit  \\\n",
       "0  Was Mordecai the serial killer who abducted an...  UnresolvedMysteries   \n",
       "1  Ten-year-old Mary Ann Verdecchia was excited o...  UnresolvedMysteries   \n",
       "2  **Background**  \\nLisa Hession was a 14 year o...  UnresolvedMysteries   \n",
       "3  Saw this story online and thought it was worth...  UnresolvedMysteries   \n",
       "4  I know this has been covered a few times, but ...  UnresolvedMysteries   \n",
       "\n",
       "   score  num_comments  target  \n",
       "0     20            10       1  \n",
       "1    168            20       1  \n",
       "2    121            13       1  \n",
       "3     53             8       1  \n",
       "4    337            51       1  "
      ]
     },
     "execution_count": 177,
     "metadata": {},
     "output_type": "execute_result"
    }
   ],
   "source": [
    "reddit_data.head()"
   ]
  },
  {
   "cell_type": "code",
   "execution_count": 178,
   "id": "5cd3e587",
   "metadata": {},
   "outputs": [
    {
     "data": {
      "text/plain": [
       "created_utc      0\n",
       "title            0\n",
       "self_text       57\n",
       "subreddit        0\n",
       "score            0\n",
       "num_comments     0\n",
       "target           0\n",
       "dtype: int64"
      ]
     },
     "execution_count": 178,
     "metadata": {},
     "output_type": "execute_result"
    }
   ],
   "source": [
    "reddit_data.isna().sum()"
   ]
  },
  {
   "cell_type": "code",
   "execution_count": 179,
   "id": "2aa52b11",
   "metadata": {},
   "outputs": [],
   "source": [
    "reddit_data = reddit_data.dropna()"
   ]
  },
  {
   "cell_type": "code",
   "execution_count": 180,
   "id": "8593f887",
   "metadata": {
    "scrolled": true
   },
   "outputs": [
    {
     "data": {
      "text/plain": [
       "created_utc     0\n",
       "title           0\n",
       "self_text       0\n",
       "subreddit       0\n",
       "score           0\n",
       "num_comments    0\n",
       "target          0\n",
       "dtype: int64"
      ]
     },
     "execution_count": 180,
     "metadata": {},
     "output_type": "execute_result"
    }
   ],
   "source": [
    "reddit_data.isna().sum()"
   ]
  },
  {
   "cell_type": "code",
   "execution_count": 181,
   "id": "11247ba7",
   "metadata": {
    "scrolled": true
   },
   "outputs": [
    {
     "data": {
      "text/plain": [
       "(4731, 7)"
      ]
     },
     "execution_count": 181,
     "metadata": {},
     "output_type": "execute_result"
    }
   ],
   "source": [
    "reddit_data.shape"
   ]
  },
  {
   "cell_type": "markdown",
   "id": "31a067f0",
   "metadata": {},
   "source": [
    "EDA"
   ]
  },
  {
   "cell_type": "code",
   "execution_count": 182,
   "id": "ea0e75c9",
   "metadata": {},
   "outputs": [
    {
     "data": {
      "text/plain": [
       "created_utc     float64\n",
       "title            object\n",
       "self_text        object\n",
       "subreddit        object\n",
       "score             int64\n",
       "num_comments      int64\n",
       "target            int32\n",
       "dtype: object"
      ]
     },
     "execution_count": 182,
     "metadata": {},
     "output_type": "execute_result"
    }
   ],
   "source": [
    "reddit_data.dtypes"
   ]
  },
  {
   "cell_type": "code",
   "execution_count": 183,
   "id": "1768075a",
   "metadata": {},
   "outputs": [
    {
     "data": {
      "text/html": [
       "<div>\n",
       "<style scoped>\n",
       "    .dataframe tbody tr th:only-of-type {\n",
       "        vertical-align: middle;\n",
       "    }\n",
       "\n",
       "    .dataframe tbody tr th {\n",
       "        vertical-align: top;\n",
       "    }\n",
       "\n",
       "    .dataframe thead th {\n",
       "        text-align: right;\n",
       "    }\n",
       "</style>\n",
       "<table border=\"1\" class=\"dataframe\">\n",
       "  <thead>\n",
       "    <tr style=\"text-align: right;\">\n",
       "      <th></th>\n",
       "      <th>created_utc</th>\n",
       "      <th>score</th>\n",
       "      <th>num_comments</th>\n",
       "      <th>target</th>\n",
       "    </tr>\n",
       "  </thead>\n",
       "  <tbody>\n",
       "    <tr>\n",
       "      <th>count</th>\n",
       "      <td>4.731000e+03</td>\n",
       "      <td>4731.000000</td>\n",
       "      <td>4731.000000</td>\n",
       "      <td>4731.000000</td>\n",
       "    </tr>\n",
       "    <tr>\n",
       "      <th>mean</th>\n",
       "      <td>1.652332e+09</td>\n",
       "      <td>1357.891989</td>\n",
       "      <td>144.878250</td>\n",
       "      <td>0.492496</td>\n",
       "    </tr>\n",
       "    <tr>\n",
       "      <th>std</th>\n",
       "      <td>6.808914e+07</td>\n",
       "      <td>2129.159516</td>\n",
       "      <td>266.007668</td>\n",
       "      <td>0.499997</td>\n",
       "    </tr>\n",
       "    <tr>\n",
       "      <th>min</th>\n",
       "      <td>1.352556e+09</td>\n",
       "      <td>0.000000</td>\n",
       "      <td>0.000000</td>\n",
       "      <td>0.000000</td>\n",
       "    </tr>\n",
       "    <tr>\n",
       "      <th>25%</th>\n",
       "      <td>1.604632e+09</td>\n",
       "      <td>72.500000</td>\n",
       "      <td>15.000000</td>\n",
       "      <td>0.000000</td>\n",
       "    </tr>\n",
       "    <tr>\n",
       "      <th>50%</th>\n",
       "      <td>1.693389e+09</td>\n",
       "      <td>501.000000</td>\n",
       "      <td>63.000000</td>\n",
       "      <td>0.000000</td>\n",
       "    </tr>\n",
       "    <tr>\n",
       "      <th>75%</th>\n",
       "      <td>1.701396e+09</td>\n",
       "      <td>2118.000000</td>\n",
       "      <td>172.500000</td>\n",
       "      <td>1.000000</td>\n",
       "    </tr>\n",
       "    <tr>\n",
       "      <th>max</th>\n",
       "      <td>1.709248e+09</td>\n",
       "      <td>62418.000000</td>\n",
       "      <td>5137.000000</td>\n",
       "      <td>1.000000</td>\n",
       "    </tr>\n",
       "  </tbody>\n",
       "</table>\n",
       "</div>"
      ],
      "text/plain": [
       "        created_utc         score  num_comments       target\n",
       "count  4.731000e+03   4731.000000   4731.000000  4731.000000\n",
       "mean   1.652332e+09   1357.891989    144.878250     0.492496\n",
       "std    6.808914e+07   2129.159516    266.007668     0.499997\n",
       "min    1.352556e+09      0.000000      0.000000     0.000000\n",
       "25%    1.604632e+09     72.500000     15.000000     0.000000\n",
       "50%    1.693389e+09    501.000000     63.000000     0.000000\n",
       "75%    1.701396e+09   2118.000000    172.500000     1.000000\n",
       "max    1.709248e+09  62418.000000   5137.000000     1.000000"
      ]
     },
     "execution_count": 183,
     "metadata": {},
     "output_type": "execute_result"
    }
   ],
   "source": [
    "reddit_data.describe()"
   ]
  },
  {
   "cell_type": "code",
   "execution_count": 184,
   "id": "05980b2e",
   "metadata": {},
   "outputs": [
    {
     "data": {
      "text/html": [
       "<div>\n",
       "<style scoped>\n",
       "    .dataframe tbody tr th:only-of-type {\n",
       "        vertical-align: middle;\n",
       "    }\n",
       "\n",
       "    .dataframe tbody tr th {\n",
       "        vertical-align: top;\n",
       "    }\n",
       "\n",
       "    .dataframe thead th {\n",
       "        text-align: right;\n",
       "    }\n",
       "</style>\n",
       "<table border=\"1\" class=\"dataframe\">\n",
       "  <thead>\n",
       "    <tr style=\"text-align: right;\">\n",
       "      <th></th>\n",
       "      <th>created_utc</th>\n",
       "      <th>title</th>\n",
       "      <th>self_text</th>\n",
       "      <th>subreddit</th>\n",
       "      <th>score</th>\n",
       "      <th>num_comments</th>\n",
       "      <th>target</th>\n",
       "    </tr>\n",
       "  </thead>\n",
       "  <tbody>\n",
       "    <tr>\n",
       "      <th>1341</th>\n",
       "      <td>1.607713e+09</td>\n",
       "      <td>FBI confirms that the Zodiac Killer’s “340 Cyp...</td>\n",
       "      <td>The Zodiac Killer is an unidentified serial ki...</td>\n",
       "      <td>UnresolvedMysteries</td>\n",
       "      <td>62418</td>\n",
       "      <td>2844</td>\n",
       "      <td>1</td>\n",
       "    </tr>\n",
       "  </tbody>\n",
       "</table>\n",
       "</div>"
      ],
      "text/plain": [
       "       created_utc                                              title  \\\n",
       "1341  1.607713e+09  FBI confirms that the Zodiac Killer’s “340 Cyp...   \n",
       "\n",
       "                                              self_text            subreddit  \\\n",
       "1341  The Zodiac Killer is an unidentified serial ki...  UnresolvedMysteries   \n",
       "\n",
       "      score  num_comments  target  \n",
       "1341  62418          2844       1  "
      ]
     },
     "execution_count": 184,
     "metadata": {},
     "output_type": "execute_result"
    }
   ],
   "source": [
    "reddit_data[reddit_data['score'] == 62418]"
   ]
  },
  {
   "cell_type": "code",
   "execution_count": 185,
   "id": "1624090b",
   "metadata": {},
   "outputs": [],
   "source": [
    "reddit_data = reddit_data.drop(index=[1341])"
   ]
  },
  {
   "cell_type": "code",
   "execution_count": 186,
   "id": "3a4fb333",
   "metadata": {},
   "outputs": [
    {
     "data": {
      "text/html": [
       "<div>\n",
       "<style scoped>\n",
       "    .dataframe tbody tr th:only-of-type {\n",
       "        vertical-align: middle;\n",
       "    }\n",
       "\n",
       "    .dataframe tbody tr th {\n",
       "        vertical-align: top;\n",
       "    }\n",
       "\n",
       "    .dataframe thead th {\n",
       "        text-align: right;\n",
       "    }\n",
       "</style>\n",
       "<table border=\"1\" class=\"dataframe\">\n",
       "  <thead>\n",
       "    <tr style=\"text-align: right;\">\n",
       "      <th></th>\n",
       "      <th>created_utc</th>\n",
       "      <th>score</th>\n",
       "      <th>num_comments</th>\n",
       "      <th>target</th>\n",
       "    </tr>\n",
       "  </thead>\n",
       "  <tbody>\n",
       "    <tr>\n",
       "      <th>count</th>\n",
       "      <td>4.730000e+03</td>\n",
       "      <td>4730.000000</td>\n",
       "      <td>4730.000000</td>\n",
       "      <td>4730.000000</td>\n",
       "    </tr>\n",
       "    <tr>\n",
       "      <th>mean</th>\n",
       "      <td>1.652342e+09</td>\n",
       "      <td>1344.982875</td>\n",
       "      <td>144.307611</td>\n",
       "      <td>0.492389</td>\n",
       "    </tr>\n",
       "    <tr>\n",
       "      <th>std</th>\n",
       "      <td>6.809324e+07</td>\n",
       "      <td>1935.384620</td>\n",
       "      <td>263.123863</td>\n",
       "      <td>0.499995</td>\n",
       "    </tr>\n",
       "    <tr>\n",
       "      <th>min</th>\n",
       "      <td>1.352556e+09</td>\n",
       "      <td>0.000000</td>\n",
       "      <td>0.000000</td>\n",
       "      <td>0.000000</td>\n",
       "    </tr>\n",
       "    <tr>\n",
       "      <th>25%</th>\n",
       "      <td>1.604607e+09</td>\n",
       "      <td>72.250000</td>\n",
       "      <td>15.000000</td>\n",
       "      <td>0.000000</td>\n",
       "    </tr>\n",
       "    <tr>\n",
       "      <th>50%</th>\n",
       "      <td>1.693391e+09</td>\n",
       "      <td>500.500000</td>\n",
       "      <td>63.000000</td>\n",
       "      <td>0.000000</td>\n",
       "    </tr>\n",
       "    <tr>\n",
       "      <th>75%</th>\n",
       "      <td>1.701396e+09</td>\n",
       "      <td>2118.000000</td>\n",
       "      <td>172.000000</td>\n",
       "      <td>1.000000</td>\n",
       "    </tr>\n",
       "    <tr>\n",
       "      <th>max</th>\n",
       "      <td>1.709248e+09</td>\n",
       "      <td>29997.000000</td>\n",
       "      <td>5137.000000</td>\n",
       "      <td>1.000000</td>\n",
       "    </tr>\n",
       "  </tbody>\n",
       "</table>\n",
       "</div>"
      ],
      "text/plain": [
       "        created_utc         score  num_comments       target\n",
       "count  4.730000e+03   4730.000000   4730.000000  4730.000000\n",
       "mean   1.652342e+09   1344.982875    144.307611     0.492389\n",
       "std    6.809324e+07   1935.384620    263.123863     0.499995\n",
       "min    1.352556e+09      0.000000      0.000000     0.000000\n",
       "25%    1.604607e+09     72.250000     15.000000     0.000000\n",
       "50%    1.693391e+09    500.500000     63.000000     0.000000\n",
       "75%    1.701396e+09   2118.000000    172.000000     1.000000\n",
       "max    1.709248e+09  29997.000000   5137.000000     1.000000"
      ]
     },
     "execution_count": 186,
     "metadata": {},
     "output_type": "execute_result"
    }
   ],
   "source": [
    "reddit_data.describe()"
   ]
  },
  {
   "cell_type": "code",
   "execution_count": 187,
   "id": "2510a690",
   "metadata": {},
   "outputs": [
    {
     "data": {
      "image/png": "[encoded data removed]",
      "text/plain": [
       "<Figure size 640x480 with 1 Axes>"
      ]
     },
     "metadata": {},
     "output_type": "display_data"
    }
   ],
   "source": [
    "sns.scatterplot(data=reddit_data, x='num_comments', y='score')\n",
    "plt.title('Scatterplot of score vs num_comments');"
   ]
  },
  {
   "cell_type": "code",
   "execution_count": 188,
   "id": "5a2b9e34",
   "metadata": {},
   "outputs": [],
   "source": [
    "def top_posts(df, value):\n",
    "    top_title = []\n",
    "    for i in range(value):\n",
    "        top_title.append(df.title.value_counts().index[i])\n",
    "    return top_title"
   ]
  },
  {
   "cell_type": "code",
   "execution_count": 189,
   "id": "70c6ed37",
   "metadata": {},
   "outputs": [
    {
     "data": {
      "text/plain": [
       "[\"[Groundhog Day] Ned Ryerson is the devil, and he imprisons Phil Conners in the time loop when Phil refuses to purchase Ned's insurance. The only way Phil escapes is by finally agreeing to buy it.\",\n",
       " 'Batman never shows up to court',\n",
       " 'What’s a case where you believe the person is alive/ being kept hostage/confined ?',\n",
       " 'In honor of the International Day of Older Persons and in order to combat ageism in the true crime community, I wanted to share an EXPANDED collection of the stories of older people who have gone missing or whose stories are otherwise unresolved',\n",
       " 'In 2005, an infant was found dead in a trash can at a Phoenix airport. She was given the nickname Baby Skylar by investigators. Her mother was just arrested for her murder.']"
      ]
     },
     "execution_count": 189,
     "metadata": {},
     "output_type": "execute_result"
    }
   ],
   "source": [
    "top_posts = top_posts(reddit_data, 5)\n",
    "top_posts"
   ]
  },
  {
   "cell_type": "code",
   "execution_count": 190,
   "id": "964ca4e3",
   "metadata": {},
   "outputs": [],
   "source": [
    "reddit_data['post_length'] = reddit_data['self_text'].map(len)"
   ]
  },
  {
   "cell_type": "code",
   "execution_count": 191,
   "id": "526dd4db",
   "metadata": {},
   "outputs": [],
   "source": [
    "reddit_data['post_word_count'] = reddit_data['self_text'].map(lambda x: len(x.split()))"
   ]
  },
  {
   "cell_type": "code",
   "execution_count": 192,
   "id": "22b7025e",
   "metadata": {},
   "outputs": [],
   "source": [
    "reddit_data['ratio'] = reddit_data.post_length/reddit_data.post_word_count"
   ]
  },
  {
   "cell_type": "code",
   "execution_count": 193,
   "id": "0a942110",
   "metadata": {},
   "outputs": [
    {
     "data": {
      "text/html": [
       "<div>\n",
       "<style scoped>\n",
       "    .dataframe tbody tr th:only-of-type {\n",
       "        vertical-align: middle;\n",
       "    }\n",
       "\n",
       "    .dataframe tbody tr th {\n",
       "        vertical-align: top;\n",
       "    }\n",
       "\n",
       "    .dataframe thead th {\n",
       "        text-align: right;\n",
       "    }\n",
       "</style>\n",
       "<table border=\"1\" class=\"dataframe\">\n",
       "  <thead>\n",
       "    <tr style=\"text-align: right;\">\n",
       "      <th></th>\n",
       "      <th>post_length</th>\n",
       "      <th>post_word_count</th>\n",
       "      <th>ratio</th>\n",
       "    </tr>\n",
       "  </thead>\n",
       "  <tbody>\n",
       "    <tr>\n",
       "      <th>count</th>\n",
       "      <td>4730.000000</td>\n",
       "      <td>4730.000000</td>\n",
       "      <td>4730.000000</td>\n",
       "    </tr>\n",
       "    <tr>\n",
       "      <th>mean</th>\n",
       "      <td>3673.293023</td>\n",
       "      <td>582.831924</td>\n",
       "      <td>6.263889</td>\n",
       "    </tr>\n",
       "    <tr>\n",
       "      <th>std</th>\n",
       "      <td>4681.000834</td>\n",
       "      <td>738.407804</td>\n",
       "      <td>1.865190</td>\n",
       "    </tr>\n",
       "    <tr>\n",
       "      <th>min</th>\n",
       "      <td>6.000000</td>\n",
       "      <td>1.000000</td>\n",
       "      <td>3.875000</td>\n",
       "    </tr>\n",
       "    <tr>\n",
       "      <th>25%</th>\n",
       "      <td>1086.500000</td>\n",
       "      <td>177.000000</td>\n",
       "      <td>5.620000</td>\n",
       "    </tr>\n",
       "    <tr>\n",
       "      <th>50%</th>\n",
       "      <td>2078.500000</td>\n",
       "      <td>330.500000</td>\n",
       "      <td>5.957941</td>\n",
       "    </tr>\n",
       "    <tr>\n",
       "      <th>75%</th>\n",
       "      <td>4256.000000</td>\n",
       "      <td>678.000000</td>\n",
       "      <td>6.535073</td>\n",
       "    </tr>\n",
       "    <tr>\n",
       "      <th>max</th>\n",
       "      <td>38584.000000</td>\n",
       "      <td>6586.000000</td>\n",
       "      <td>97.710145</td>\n",
       "    </tr>\n",
       "  </tbody>\n",
       "</table>\n",
       "</div>"
      ],
      "text/plain": [
       "        post_length  post_word_count        ratio\n",
       "count   4730.000000      4730.000000  4730.000000\n",
       "mean    3673.293023       582.831924     6.263889\n",
       "std     4681.000834       738.407804     1.865190\n",
       "min        6.000000         1.000000     3.875000\n",
       "25%     1086.500000       177.000000     5.620000\n",
       "50%     2078.500000       330.500000     5.957941\n",
       "75%     4256.000000       678.000000     6.535073\n",
       "max    38584.000000      6586.000000    97.710145"
      ]
     },
     "execution_count": 193,
     "metadata": {},
     "output_type": "execute_result"
    }
   ],
   "source": [
    "reddit_data[['post_length','post_word_count','ratio']].describe()"
   ]
  },
  {
   "cell_type": "code",
   "execution_count": 194,
   "id": "a3675210",
   "metadata": {},
   "outputs": [
    {
     "data": {
      "text/html": [
       "<div>\n",
       "<style scoped>\n",
       "    .dataframe tbody tr th:only-of-type {\n",
       "        vertical-align: middle;\n",
       "    }\n",
       "\n",
       "    .dataframe tbody tr th {\n",
       "        vertical-align: top;\n",
       "    }\n",
       "\n",
       "    .dataframe thead th {\n",
       "        text-align: right;\n",
       "    }\n",
       "</style>\n",
       "<table border=\"1\" class=\"dataframe\">\n",
       "  <thead>\n",
       "    <tr style=\"text-align: right;\">\n",
       "      <th></th>\n",
       "      <th>subreddit</th>\n",
       "      <th>post_word_count</th>\n",
       "      <th>post_length</th>\n",
       "      <th>ratio</th>\n",
       "      <th>self_text</th>\n",
       "      <th>score</th>\n",
       "      <th>num_comments</th>\n",
       "    </tr>\n",
       "  </thead>\n",
       "  <tbody>\n",
       "    <tr>\n",
       "      <th>4230</th>\n",
       "      <td>FanTheories</td>\n",
       "      <td>1</td>\n",
       "      <td>6</td>\n",
       "      <td>6.000000</td>\n",
       "      <td>Right?</td>\n",
       "      <td>1822</td>\n",
       "      <td>207</td>\n",
       "    </tr>\n",
       "    <tr>\n",
       "      <th>3839</th>\n",
       "      <td>FanTheories</td>\n",
       "      <td>3</td>\n",
       "      <td>12</td>\n",
       "      <td>4.000000</td>\n",
       "      <td>Which is it?</td>\n",
       "      <td>4538</td>\n",
       "      <td>131</td>\n",
       "    </tr>\n",
       "    <tr>\n",
       "      <th>1359</th>\n",
       "      <td>UnresolvedMysteries</td>\n",
       "      <td>5</td>\n",
       "      <td>83</td>\n",
       "      <td>16.600000</td>\n",
       "      <td>[Link can be found here](http://www.sacbee.com...</td>\n",
       "      <td>11639</td>\n",
       "      <td>1192</td>\n",
       "    </tr>\n",
       "    <tr>\n",
       "      <th>4338</th>\n",
       "      <td>FanTheories</td>\n",
       "      <td>7</td>\n",
       "      <td>33</td>\n",
       "      <td>4.714286</td>\n",
       "      <td>He succumbed to the sin of pride.</td>\n",
       "      <td>1676</td>\n",
       "      <td>171</td>\n",
       "    </tr>\n",
       "    <tr>\n",
       "      <th>3863</th>\n",
       "      <td>FanTheories</td>\n",
       "      <td>8</td>\n",
       "      <td>57</td>\n",
       "      <td>7.125000</td>\n",
       "      <td>A Demi-god's microaggression\\n\\nEdit: FULL god...</td>\n",
       "      <td>3726</td>\n",
       "      <td>144</td>\n",
       "    </tr>\n",
       "    <tr>\n",
       "      <th>4627</th>\n",
       "      <td>FanTheories</td>\n",
       "      <td>8</td>\n",
       "      <td>31</td>\n",
       "      <td>3.875000</td>\n",
       "      <td>He was made by a nine year old</td>\n",
       "      <td>1388</td>\n",
       "      <td>115</td>\n",
       "    </tr>\n",
       "    <tr>\n",
       "      <th>2304</th>\n",
       "      <td>UnresolvedMysteries</td>\n",
       "      <td>11</td>\n",
       "      <td>53</td>\n",
       "      <td>4.818182</td>\n",
       "      <td>And yes, they did give credit to the DNA Doe p...</td>\n",
       "      <td>2031</td>\n",
       "      <td>210</td>\n",
       "    </tr>\n",
       "    <tr>\n",
       "      <th>4551</th>\n",
       "      <td>FanTheories</td>\n",
       "      <td>20</td>\n",
       "      <td>126</td>\n",
       "      <td>6.300000</td>\n",
       "      <td>I believe that neither Wolverine nor Deadpool ...</td>\n",
       "      <td>1444</td>\n",
       "      <td>139</td>\n",
       "    </tr>\n",
       "    <tr>\n",
       "      <th>2285</th>\n",
       "      <td>UnresolvedMysteries</td>\n",
       "      <td>21</td>\n",
       "      <td>625</td>\n",
       "      <td>29.761905</td>\n",
       "      <td>[Announcement](https://www.hollywoodreporter.c...</td>\n",
       "      <td>2059</td>\n",
       "      <td>136</td>\n",
       "    </tr>\n",
       "    <tr>\n",
       "      <th>1808</th>\n",
       "      <td>UnresolvedMysteries</td>\n",
       "      <td>22</td>\n",
       "      <td>127</td>\n",
       "      <td>5.772727</td>\n",
       "      <td>Husband: “ what are you looking up online?”\\n\\...</td>\n",
       "      <td>3003</td>\n",
       "      <td>415</td>\n",
       "    </tr>\n",
       "  </tbody>\n",
       "</table>\n",
       "</div>"
      ],
      "text/plain": [
       "                subreddit  post_word_count  post_length      ratio  \\\n",
       "4230          FanTheories                1            6   6.000000   \n",
       "3839          FanTheories                3           12   4.000000   \n",
       "1359  UnresolvedMysteries                5           83  16.600000   \n",
       "4338          FanTheories                7           33   4.714286   \n",
       "3863          FanTheories                8           57   7.125000   \n",
       "4627          FanTheories                8           31   3.875000   \n",
       "2304  UnresolvedMysteries               11           53   4.818182   \n",
       "4551          FanTheories               20          126   6.300000   \n",
       "2285  UnresolvedMysteries               21          625  29.761905   \n",
       "1808  UnresolvedMysteries               22          127   5.772727   \n",
       "\n",
       "                                              self_text  score  num_comments  \n",
       "4230                                             Right?   1822           207  \n",
       "3839                                       Which is it?   4538           131  \n",
       "1359  [Link can be found here](http://www.sacbee.com...  11639          1192  \n",
       "4338                  He succumbed to the sin of pride.   1676           171  \n",
       "3863  A Demi-god's microaggression\\n\\nEdit: FULL god...   3726           144  \n",
       "4627                    He was made by a nine year old    1388           115  \n",
       "2304  And yes, they did give credit to the DNA Doe p...   2031           210  \n",
       "4551  I believe that neither Wolverine nor Deadpool ...   1444           139  \n",
       "2285  [Announcement](https://www.hollywoodreporter.c...   2059           136  \n",
       "1808  Husband: “ what are you looking up online?”\\n\\...   3003           415  "
      ]
     },
     "execution_count": 194,
     "metadata": {},
     "output_type": "execute_result"
    }
   ],
   "source": [
    "# Top 10 Shortest post for reddit_data\n",
    "reddit_data.sort_values(by='post_word_count', ascending=True)[['subreddit','post_word_count','post_length','ratio','self_text','score','num_comments']].head(10)"
   ]
  },
  {
   "cell_type": "code",
   "execution_count": 195,
   "id": "11107b2f",
   "metadata": {},
   "outputs": [
    {
     "data": {
      "text/html": [
       "<div>\n",
       "<style scoped>\n",
       "    .dataframe tbody tr th:only-of-type {\n",
       "        vertical-align: middle;\n",
       "    }\n",
       "\n",
       "    .dataframe tbody tr th {\n",
       "        vertical-align: top;\n",
       "    }\n",
       "\n",
       "    .dataframe thead th {\n",
       "        text-align: right;\n",
       "    }\n",
       "</style>\n",
       "<table border=\"1\" class=\"dataframe\">\n",
       "  <thead>\n",
       "    <tr style=\"text-align: right;\">\n",
       "      <th></th>\n",
       "      <th>subreddit</th>\n",
       "      <th>post_word_count</th>\n",
       "      <th>post_length</th>\n",
       "      <th>ratio</th>\n",
       "      <th>self_text</th>\n",
       "      <th>score</th>\n",
       "      <th>num_comments</th>\n",
       "    </tr>\n",
       "  </thead>\n",
       "  <tbody>\n",
       "    <tr>\n",
       "      <th>2332</th>\n",
       "      <td>UnresolvedMysteries</td>\n",
       "      <td>6586</td>\n",
       "      <td>38584</td>\n",
       "      <td>5.858488</td>\n",
       "      <td>On August 18th 2010, [Ben McDaniel](https://im...</td>\n",
       "      <td>1997</td>\n",
       "      <td>521</td>\n",
       "    </tr>\n",
       "    <tr>\n",
       "      <th>1547</th>\n",
       "      <td>UnresolvedMysteries</td>\n",
       "      <td>6457</td>\n",
       "      <td>36279</td>\n",
       "      <td>5.618554</td>\n",
       "      <td>March 2, 1978. An old woman lay in bed, but sh...</td>\n",
       "      <td>4281</td>\n",
       "      <td>303</td>\n",
       "    </tr>\n",
       "    <tr>\n",
       "      <th>2005</th>\n",
       "      <td>UnresolvedMysteries</td>\n",
       "      <td>6411</td>\n",
       "      <td>37699</td>\n",
       "      <td>5.880362</td>\n",
       "      <td>On 30.06.2014, Lars Mittank flew with three fr...</td>\n",
       "      <td>2497</td>\n",
       "      <td>250</td>\n",
       "    </tr>\n",
       "    <tr>\n",
       "      <th>3796</th>\n",
       "      <td>FanTheories</td>\n",
       "      <td>6275</td>\n",
       "      <td>37864</td>\n",
       "      <td>6.034104</td>\n",
       "      <td>**This theory has a lot of evidence and took a...</td>\n",
       "      <td>10293</td>\n",
       "      <td>626</td>\n",
       "    </tr>\n",
       "    <tr>\n",
       "      <th>890</th>\n",
       "      <td>UnresolvedMysteries</td>\n",
       "      <td>5940</td>\n",
       "      <td>34575</td>\n",
       "      <td>5.820707</td>\n",
       "      <td>ETA: There should be a period at the end of th...</td>\n",
       "      <td>746</td>\n",
       "      <td>179</td>\n",
       "    </tr>\n",
       "    <tr>\n",
       "      <th>1798</th>\n",
       "      <td>UnresolvedMysteries</td>\n",
       "      <td>5915</td>\n",
       "      <td>34518</td>\n",
       "      <td>5.835672</td>\n",
       "      <td>I’ve been captivated by this one for a while. ...</td>\n",
       "      <td>3063</td>\n",
       "      <td>195</td>\n",
       "    </tr>\n",
       "    <tr>\n",
       "      <th>1366</th>\n",
       "      <td>UnresolvedMysteries</td>\n",
       "      <td>5729</td>\n",
       "      <td>35162</td>\n",
       "      <td>6.137546</td>\n",
       "      <td>In Waidhofen, Germany, on the night of March 3...</td>\n",
       "      <td>10036</td>\n",
       "      <td>633</td>\n",
       "    </tr>\n",
       "    <tr>\n",
       "      <th>640</th>\n",
       "      <td>UnresolvedMysteries</td>\n",
       "      <td>5716</td>\n",
       "      <td>35580</td>\n",
       "      <td>6.224633</td>\n",
       "      <td>Cloverdale, B.C.  - On June 23, 2018 around 4 ...</td>\n",
       "      <td>114</td>\n",
       "      <td>7</td>\n",
       "    </tr>\n",
       "    <tr>\n",
       "      <th>3793</th>\n",
       "      <td>FanTheories</td>\n",
       "      <td>5691</td>\n",
       "      <td>37338</td>\n",
       "      <td>6.560886</td>\n",
       "      <td>**WARNING: SPOILERS ARE ALL OVER THIS THEORY L...</td>\n",
       "      <td>11330</td>\n",
       "      <td>864</td>\n",
       "    </tr>\n",
       "    <tr>\n",
       "      <th>1330</th>\n",
       "      <td>UnresolvedMysteries</td>\n",
       "      <td>5565</td>\n",
       "      <td>36060</td>\n",
       "      <td>6.479784</td>\n",
       "      <td>International Day of Older Persons is held ann...</td>\n",
       "      <td>574</td>\n",
       "      <td>58</td>\n",
       "    </tr>\n",
       "  </tbody>\n",
       "</table>\n",
       "</div>"
      ],
      "text/plain": [
       "                subreddit  post_word_count  post_length     ratio  \\\n",
       "2332  UnresolvedMysteries             6586        38584  5.858488   \n",
       "1547  UnresolvedMysteries             6457        36279  5.618554   \n",
       "2005  UnresolvedMysteries             6411        37699  5.880362   \n",
       "3796          FanTheories             6275        37864  6.034104   \n",
       "890   UnresolvedMysteries             5940        34575  5.820707   \n",
       "1798  UnresolvedMysteries             5915        34518  5.835672   \n",
       "1366  UnresolvedMysteries             5729        35162  6.137546   \n",
       "640   UnresolvedMysteries             5716        35580  6.224633   \n",
       "3793          FanTheories             5691        37338  6.560886   \n",
       "1330  UnresolvedMysteries             5565        36060  6.479784   \n",
       "\n",
       "                                              self_text  score  num_comments  \n",
       "2332  On August 18th 2010, [Ben McDaniel](https://im...   1997           521  \n",
       "1547  March 2, 1978. An old woman lay in bed, but sh...   4281           303  \n",
       "2005  On 30.06.2014, Lars Mittank flew with three fr...   2497           250  \n",
       "3796  **This theory has a lot of evidence and took a...  10293           626  \n",
       "890   ETA: There should be a period at the end of th...    746           179  \n",
       "1798  I’ve been captivated by this one for a while. ...   3063           195  \n",
       "1366  In Waidhofen, Germany, on the night of March 3...  10036           633  \n",
       "640   Cloverdale, B.C.  - On June 23, 2018 around 4 ...    114             7  \n",
       "3793  **WARNING: SPOILERS ARE ALL OVER THIS THEORY L...  11330           864  \n",
       "1330  International Day of Older Persons is held ann...    574            58  "
      ]
     },
     "execution_count": 195,
     "metadata": {},
     "output_type": "execute_result"
    }
   ],
   "source": [
    "# Top 10 Longest post for reddit_data\n",
    "\n",
    "reddit_data.sort_values(by='post_word_count', ascending=False)[['subreddit','post_word_count','post_length','ratio','self_text','score','num_comments']].head(10)"
   ]
  },
  {
   "cell_type": "code",
   "execution_count": 197,
   "id": "747f238d",
   "metadata": {},
   "outputs": [
    {
     "data": {
      "image/png": "[encoded data removed]",
      "text/plain": [
       "<Figure size 1200x600 with 1 Axes>"
      ]
     },
     "metadata": {},
     "output_type": "display_data"
    }
   ],
   "source": [
    "plt.figure(figsize=(12,6))\n",
    "sns.histplot(reddit_data['post_word_count'])\n",
    "plt.title('Distribution of Post Word Count');"
   ]
  },
  {
   "cell_type": "code",
   "execution_count": 198,
   "id": "10409b88",
   "metadata": {},
   "outputs": [
    {
     "data": {
      "image/png": "[encoded data removed]",
      "text/plain": [
       "<Figure size 640x480 with 1 Axes>"
      ]
     },
     "metadata": {},
     "output_type": "display_data"
    }
   ],
   "source": [
    "sns.scatterplot(data=reddit_data, x='post_length', y='post_word_count')\n",
    "plt.title('Scatterplot between post length and word count');"
   ]
  },
  {
   "cell_type": "code",
   "execution_count": 203,
   "id": "fc60c951",
   "metadata": {},
   "outputs": [
    {
     "data": {
      "text/html": [
       "<div>\n",
       "<style scoped>\n",
       "    .dataframe tbody tr th:only-of-type {\n",
       "        vertical-align: middle;\n",
       "    }\n",
       "\n",
       "    .dataframe tbody tr th {\n",
       "        vertical-align: top;\n",
       "    }\n",
       "\n",
       "    .dataframe thead th {\n",
       "        text-align: right;\n",
       "    }\n",
       "</style>\n",
       "<table border=\"1\" class=\"dataframe\">\n",
       "  <thead>\n",
       "    <tr style=\"text-align: right;\">\n",
       "      <th></th>\n",
       "      <th>subreddit</th>\n",
       "      <th>post_word_count</th>\n",
       "      <th>post_length</th>\n",
       "      <th>ratio</th>\n",
       "      <th>self_text</th>\n",
       "      <th>score</th>\n",
       "      <th>num_comments</th>\n",
       "    </tr>\n",
       "  </thead>\n",
       "  <tbody>\n",
       "    <tr>\n",
       "      <th>4230</th>\n",
       "      <td>FanTheories</td>\n",
       "      <td>1</td>\n",
       "      <td>6</td>\n",
       "      <td>6.0</td>\n",
       "      <td>Right?</td>\n",
       "      <td>1822</td>\n",
       "      <td>207</td>\n",
       "    </tr>\n",
       "  </tbody>\n",
       "</table>\n",
       "</div>"
      ],
      "text/plain": [
       "        subreddit  post_word_count  post_length  ratio self_text  score  \\\n",
       "4230  FanTheories                1            6    6.0    Right?   1822   \n",
       "\n",
       "      num_comments  \n",
       "4230           207  "
      ]
     },
     "execution_count": 203,
     "metadata": {},
     "output_type": "execute_result"
    }
   ],
   "source": [
    "reddit_data[reddit_data.post_word_count==1][['subreddit','post_word_count','post_length','ratio','self_text','score','num_comments']].sort_values(by='post_length')"
   ]
  },
  {
   "cell_type": "markdown",
   "id": "18e96b2f",
   "metadata": {},
   "source": [
    "EDA: CountVectorize"
   ]
  },
  {
   "cell_type": "code",
   "execution_count": 201,
   "id": "577db076",
   "metadata": {},
   "outputs": [],
   "source": [
    "# Top 15 common words\n",
    "cv = CountVectorizer(stop_words='english')\n",
    "cv.fit(reddit_data['self_text'])\n",
    "\n",
    "reddit_data_cv = cv.transform(reddit_data['self_text'])\n",
    "reddit_data_df = pd.DataFrame(reddit_data_cv.todense(), columns=cv.get_feature_names_out())"
   ]
  },
  {
   "cell_type": "code",
   "execution_count": 202,
   "id": "ac3ba402",
   "metadata": {},
   "outputs": [
    {
     "data": {
      "text/html": [
       "<div>\n",
       "<style scoped>\n",
       "    .dataframe tbody tr th:only-of-type {\n",
       "        vertical-align: middle;\n",
       "    }\n",
       "\n",
       "    .dataframe tbody tr th {\n",
       "        vertical-align: top;\n",
       "    }\n",
       "\n",
       "    .dataframe thead th {\n",
       "        text-align: right;\n",
       "    }\n",
       "</style>\n",
       "<table border=\"1\" class=\"dataframe\">\n",
       "  <thead>\n",
       "    <tr style=\"text-align: right;\">\n",
       "      <th></th>\n",
       "      <th>Count</th>\n",
       "    </tr>\n",
       "  </thead>\n",
       "  <tbody>\n",
       "    <tr>\n",
       "      <th>https</th>\n",
       "      <td>16501</td>\n",
       "    </tr>\n",
       "    <tr>\n",
       "      <th>com</th>\n",
       "      <td>11775</td>\n",
       "    </tr>\n",
       "    <tr>\n",
       "      <th>www</th>\n",
       "      <td>9499</td>\n",
       "    </tr>\n",
       "    <tr>\n",
       "      <th>case</th>\n",
       "      <td>7712</td>\n",
       "    </tr>\n",
       "    <tr>\n",
       "      <th>time</th>\n",
       "      <td>7267</td>\n",
       "    </tr>\n",
       "    <tr>\n",
       "      <th>police</th>\n",
       "      <td>7248</td>\n",
       "    </tr>\n",
       "    <tr>\n",
       "      <th>family</th>\n",
       "      <td>5125</td>\n",
       "    </tr>\n",
       "    <tr>\n",
       "      <th>just</th>\n",
       "      <td>5017</td>\n",
       "    </tr>\n",
       "    <tr>\n",
       "      <th>like</th>\n",
       "      <td>4879</td>\n",
       "    </tr>\n",
       "    <tr>\n",
       "      <th>missing</th>\n",
       "      <td>4780</td>\n",
       "    </tr>\n",
       "    <tr>\n",
       "      <th>years</th>\n",
       "      <td>4772</td>\n",
       "    </tr>\n",
       "    <tr>\n",
       "      <th>man</th>\n",
       "      <td>4319</td>\n",
       "    </tr>\n",
       "    <tr>\n",
       "      <th>old</th>\n",
       "      <td>4127</td>\n",
       "    </tr>\n",
       "    <tr>\n",
       "      <th>said</th>\n",
       "      <td>4127</td>\n",
       "    </tr>\n",
       "    <tr>\n",
       "      <th>x200b</th>\n",
       "      <td>3996</td>\n",
       "    </tr>\n",
       "  </tbody>\n",
       "</table>\n",
       "</div>"
      ],
      "text/plain": [
       "         Count\n",
       "https    16501\n",
       "com      11775\n",
       "www       9499\n",
       "case      7712\n",
       "time      7267\n",
       "police    7248\n",
       "family    5125\n",
       "just      5017\n",
       "like      4879\n",
       "missing   4780\n",
       "years     4772\n",
       "man       4319\n",
       "old       4127\n",
       "said      4127\n",
       "x200b     3996"
      ]
     },
     "execution_count": 202,
     "metadata": {},
     "output_type": "execute_result"
    }
   ],
   "source": [
    "reddit_data_top_words = pd.DataFrame(reddit_data_df.sum().sort_values(ascending=False).head(15), columns = ['Count'])\n",
    "reddit_data_top_words"
   ]
  },
  {
   "cell_type": "code",
   "execution_count": 204,
   "id": "b28c6d80",
   "metadata": {},
   "outputs": [
    {
     "data": {
      "image/png": "[encoded data removed]",
      "text/plain": [
       "<Figure size 1200x800 with 1 Axes>"
      ]
     },
     "metadata": {},
     "output_type": "display_data"
    }
   ],
   "source": [
    "fig, ax = plt.subplots(figsize=(12,8))\n",
    "sns.barplot(x='Count', y=reddit_data_top_words.index , data=reddit_data_top_words, palette = \"rainbow\")\n",
    "plt.title('Top 15 common words',fontsize=20)\n",
    "plt.xlabel('Word Count', fontsize=12)\n",
    "plt.yticks(fontsize=15)\n",
    "plt.tight_layout()"
   ]
  },
  {
   "cell_type": "code",
   "execution_count": 206,
   "id": "660a359b",
   "metadata": {},
   "outputs": [
    {
     "ename": "MemoryError",
     "evalue": "Unable to allocate 29.9 GiB for an array with shape (4730, 848147) and data type int64",
     "output_type": "error",
     "traceback": [
      "\u001b[1;31m---------------------------------------------------------------------------\u001b[0m",
      "\u001b[1;31mMemoryError\u001b[0m                               Traceback (most recent call last)",
      "Cell \u001b[1;32mIn[206], line 5\u001b[0m\n\u001b[0;32m      2\u001b[0m cv_bigrams\u001b[38;5;241m.\u001b[39mfit(reddit_data[\u001b[38;5;124m'\u001b[39m\u001b[38;5;124mself_text\u001b[39m\u001b[38;5;124m'\u001b[39m])\n\u001b[0;32m      4\u001b[0m bigrams_cv \u001b[38;5;241m=\u001b[39m cv_bigrams\u001b[38;5;241m.\u001b[39mtransform(reddit_data[\u001b[38;5;124m'\u001b[39m\u001b[38;5;124mself_text\u001b[39m\u001b[38;5;124m'\u001b[39m])\n\u001b[1;32m----> 5\u001b[0m bigrams_df \u001b[38;5;241m=\u001b[39m pd\u001b[38;5;241m.\u001b[39mDataFrame(bigrams_cv\u001b[38;5;241m.\u001b[39mtodense(), columns\u001b[38;5;241m=\u001b[39mcv_bigrams\u001b[38;5;241m.\u001b[39mget_feature_names_out())\n\u001b[0;32m      7\u001b[0m bigrams_df\u001b[38;5;241m.\u001b[39msum()\u001b[38;5;241m.\u001b[39msort_values(ascending\u001b[38;5;241m=\u001b[39m\u001b[38;5;28;01mFalse\u001b[39;00m)\u001b[38;5;241m.\u001b[39mhead(\u001b[38;5;241m15\u001b[39m)\n\u001b[0;32m      9\u001b[0m reddit_data_top_biwords \u001b[38;5;241m=\u001b[39m pd\u001b[38;5;241m.\u001b[39mDataFrame(bigrams_df\u001b[38;5;241m.\u001b[39msum()\u001b[38;5;241m.\u001b[39msort_values(ascending\u001b[38;5;241m=\u001b[39m\u001b[38;5;28;01mFalse\u001b[39;00m)\u001b[38;5;241m.\u001b[39mhead(\u001b[38;5;241m15\u001b[39m), columns \u001b[38;5;241m=\u001b[39m [\u001b[38;5;124m'\u001b[39m\u001b[38;5;124mCount\u001b[39m\u001b[38;5;124m'\u001b[39m])\n",
      "File \u001b[1;32m~\\anaconda\\Lib\\site-packages\\scipy\\sparse\\_base.py:912\u001b[0m, in \u001b[0;36m_spbase.todense\u001b[1;34m(self, order, out)\u001b[0m\n\u001b[0;32m    882\u001b[0m \u001b[38;5;28;01mdef\u001b[39;00m \u001b[38;5;21mtodense\u001b[39m(\u001b[38;5;28mself\u001b[39m, order\u001b[38;5;241m=\u001b[39m\u001b[38;5;28;01mNone\u001b[39;00m, out\u001b[38;5;241m=\u001b[39m\u001b[38;5;28;01mNone\u001b[39;00m):\n\u001b[0;32m    883\u001b[0m \u001b[38;5;250m    \u001b[39m\u001b[38;5;124;03m\"\"\"\u001b[39;00m\n\u001b[0;32m    884\u001b[0m \u001b[38;5;124;03m    Return a dense matrix representation of this sparse array.\u001b[39;00m\n\u001b[0;32m    885\u001b[0m \n\u001b[1;32m   (...)\u001b[0m\n\u001b[0;32m    910\u001b[0m \u001b[38;5;124;03m        `numpy.matrix` object that shares the same memory.\u001b[39;00m\n\u001b[0;32m    911\u001b[0m \u001b[38;5;124;03m    \"\"\"\u001b[39;00m\n\u001b[1;32m--> 912\u001b[0m     \u001b[38;5;28;01mreturn\u001b[39;00m \u001b[38;5;28mself\u001b[39m\u001b[38;5;241m.\u001b[39m_ascontainer(\u001b[38;5;28mself\u001b[39m\u001b[38;5;241m.\u001b[39mtoarray(order\u001b[38;5;241m=\u001b[39morder, out\u001b[38;5;241m=\u001b[39mout))\n",
      "File \u001b[1;32m~\\anaconda\\Lib\\site-packages\\scipy\\sparse\\_compressed.py:1050\u001b[0m, in \u001b[0;36m_cs_matrix.toarray\u001b[1;34m(self, order, out)\u001b[0m\n\u001b[0;32m   1048\u001b[0m \u001b[38;5;28;01mif\u001b[39;00m out \u001b[38;5;129;01mis\u001b[39;00m \u001b[38;5;28;01mNone\u001b[39;00m \u001b[38;5;129;01mand\u001b[39;00m order \u001b[38;5;129;01mis\u001b[39;00m \u001b[38;5;28;01mNone\u001b[39;00m:\n\u001b[0;32m   1049\u001b[0m     order \u001b[38;5;241m=\u001b[39m \u001b[38;5;28mself\u001b[39m\u001b[38;5;241m.\u001b[39m_swap(\u001b[38;5;124m'\u001b[39m\u001b[38;5;124mcf\u001b[39m\u001b[38;5;124m'\u001b[39m)[\u001b[38;5;241m0\u001b[39m]\n\u001b[1;32m-> 1050\u001b[0m out \u001b[38;5;241m=\u001b[39m \u001b[38;5;28mself\u001b[39m\u001b[38;5;241m.\u001b[39m_process_toarray_args(order, out)\n\u001b[0;32m   1051\u001b[0m \u001b[38;5;28;01mif\u001b[39;00m \u001b[38;5;129;01mnot\u001b[39;00m (out\u001b[38;5;241m.\u001b[39mflags\u001b[38;5;241m.\u001b[39mc_contiguous \u001b[38;5;129;01mor\u001b[39;00m out\u001b[38;5;241m.\u001b[39mflags\u001b[38;5;241m.\u001b[39mf_contiguous):\n\u001b[0;32m   1052\u001b[0m     \u001b[38;5;28;01mraise\u001b[39;00m \u001b[38;5;167;01mValueError\u001b[39;00m(\u001b[38;5;124m'\u001b[39m\u001b[38;5;124mOutput array must be C or F contiguous\u001b[39m\u001b[38;5;124m'\u001b[39m)\n",
      "File \u001b[1;32m~\\anaconda\\Lib\\site-packages\\scipy\\sparse\\_base.py:1267\u001b[0m, in \u001b[0;36m_spbase._process_toarray_args\u001b[1;34m(self, order, out)\u001b[0m\n\u001b[0;32m   1265\u001b[0m     \u001b[38;5;28;01mreturn\u001b[39;00m out\n\u001b[0;32m   1266\u001b[0m \u001b[38;5;28;01melse\u001b[39;00m:\n\u001b[1;32m-> 1267\u001b[0m     \u001b[38;5;28;01mreturn\u001b[39;00m np\u001b[38;5;241m.\u001b[39mzeros(\u001b[38;5;28mself\u001b[39m\u001b[38;5;241m.\u001b[39mshape, dtype\u001b[38;5;241m=\u001b[39m\u001b[38;5;28mself\u001b[39m\u001b[38;5;241m.\u001b[39mdtype, order\u001b[38;5;241m=\u001b[39morder)\n",
      "\u001b[1;31mMemoryError\u001b[0m: Unable to allocate 29.9 GiB for an array with shape (4730, 848147) and data type int64"
     ]
    }
   ],
   "source": [
    "cv_bigrams = CountVectorizer(ngram_range=(2, 2), stop_words='english')\n",
    "cv_bigrams.fit(reddit_data['self_text'])\n",
    "\n",
    "bigrams_cv = cv_bigrams.transform(reddit_data['self_text'])\n",
    "bigrams_df = pd.DataFrame(bigrams_cv.todense(), columns=cv_bigrams.get_feature_names_out())\n",
    "\n",
    "bigrams_df.sum().sort_values(ascending=False).head(15)\n",
    "\n",
    "reddit_data_top_biwords = pd.DataFrame(bigrams_df.sum().sort_values(ascending=False).head(15), columns = ['Count'])\n",
    "reddit_data_top_biwords"
   ]
  },
  {
   "cell_type": "code",
   "execution_count": null,
   "id": "303a9273",
   "metadata": {},
   "outputs": [],
   "source": [
    "cv_trigrams = CountVectorizer(ngram_range=(3, 3), stop_words='english')\n",
    "cv_trigrams.fit(reddit_data['self_text'])\n",
    "\n",
    "trigrams_cv = cv_trigrams.transform(reddit_data['self_text'])\n",
    "trigrams_df = pd.DataFrame(trigrams_cv.todense(), columns=cv_trigrams.get_feature_names_out())\n",
    "\n",
    "reddit_data_top_triwords = pd.DataFrame(trigrams_df.sum().sort_values(ascending=False).head(15), columns = ['Count'])\n",
    "reddit_data_top_triwords"
   ]
  },
  {
   "cell_type": "markdown",
   "id": "5c9a8f48",
   "metadata": {},
   "source": [
    "EDA : Sentiment Analysis"
   ]
  },
  {
   "cell_type": "code",
   "execution_count": null,
   "id": "2adc7121",
   "metadata": {},
   "outputs": [],
   "source": [
    "#identify the columns needed for sentiment analysis\n",
    "sent_df = reddit_data['subreddit', 'self_text']\n",
    "\n",
    "sent_df.reset_index(drop=True, inplace=True)"
   ]
  },
  {
   "cell_type": "code",
   "execution_count": null,
   "id": "10c4d7ea",
   "metadata": {},
   "outputs": [],
   "source": [
    "# Instantiate Sentiment Intensity Analyzer\n",
    "sent = SentimentIntensityAnalyzer()\n",
    "\n",
    "# Get the sentiment scores\n",
    "sentiment = [sent.polarity_scores(i) for i in sent_df.self_text]"
   ]
  },
  {
   "cell_type": "code",
   "execution_count": null,
   "id": "6582ca37",
   "metadata": {},
   "outputs": [],
   "source": [
    "sent_df"
   ]
  },
  {
   "cell_type": "code",
   "execution_count": null,
   "id": "90ef33dc",
   "metadata": {},
   "outputs": [],
   "source": [
    "sent_score_df = pd.DataFrame(sentiment)\n",
    "sent_score_df"
   ]
  },
  {
   "cell_type": "code",
   "execution_count": null,
   "id": "55fa4770",
   "metadata": {},
   "outputs": [],
   "source": [
    "sent_combine = pd.concat([sent_df, sent_score_df], axis=1)"
   ]
  },
  {
   "cell_type": "code",
   "execution_count": null,
   "id": "4788d3a5",
   "metadata": {},
   "outputs": [],
   "source": [
    "# Create column 'overall' to get a rough understanding on the sentiments\n",
    "\n",
    "sent_combine['overall'] = 'neu'\n",
    "for index, row in enumerate(sent_combine['compound']):\n",
    "    if row <= -0.05:\n",
    "        sent_combine['overall'][index] = 'neg'\n",
    "    elif row >= 0.05:\n",
    "        sent_combine['overall'][index] = 'pos'"
   ]
  },
  {
   "cell_type": "code",
   "execution_count": null,
   "id": "2c770572",
   "metadata": {},
   "outputs": [],
   "source": [
    "sent_combine"
   ]
  },
  {
   "cell_type": "code",
   "execution_count": null,
   "id": "dd284aa5",
   "metadata": {},
   "outputs": [],
   "source": [
    "sent_combine.groupby('subreddit').mean()"
   ]
  },
  {
   "cell_type": "code",
   "execution_count": null,
   "id": "a4dc46ca",
   "metadata": {},
   "outputs": [],
   "source": [
    "reddit_data_sent = sent_combine[sent_combine.subreddit=='UnresolvedMysteries']\n",
    "reddit_data_sent.overall.value_counts()*100/len(reddit_data_sent)"
   ]
  },
  {
   "cell_type": "code",
   "execution_count": null,
   "id": "31035288",
   "metadata": {},
   "outputs": [],
   "source": [
    "reddit_data_sent = sent_combine[sent_combine.subreddit=='FanTheories']\n",
    "reddit_data_sent.overall.value_counts()*100/len(reddit_data_sent)"
   ]
  },
  {
   "cell_type": "code",
   "execution_count": null,
   "id": "e2029874",
   "metadata": {},
   "outputs": [],
   "source": [
    "sns.histplot(data=sent_combine, x='compound', hue='subreddit')\n",
    "plt.title('Distribution of Compound Score between UnresolvedMysteries and FanTheories');"
   ]
  },
  {
   "cell_type": "code",
   "execution_count": null,
   "id": "a21a3d40",
   "metadata": {},
   "outputs": [],
   "source": [
    "sns.histplot(data=sent_combine, x='neg', hue='subreddit')\n",
    "plt.title('Distribution of Negative Score between UnresolvedMysteries and FanTheories');"
   ]
  },
  {
   "cell_type": "code",
   "execution_count": null,
   "id": "0cf29c8b",
   "metadata": {},
   "outputs": [],
   "source": [
    "sns.histplot(data=sent_combine, x='pos', hue='subreddit')\n",
    "plt.title('Distribution of Positive Score between UnresolvedMysteries and FanTheories')"
   ]
  },
  {
   "cell_type": "code",
   "execution_count": null,
   "id": "7d745d70",
   "metadata": {},
   "outputs": [],
   "source": [
    "sns.histplot(data=sent_combine, x='neu', hue='subreddit');\n",
    "plt.title('Distribution of Neutral Score between UnresolvedMysteries and FanTheories')"
   ]
  },
  {
   "cell_type": "markdown",
   "id": "483871af",
   "metadata": {},
   "source": [
    "Write clean copy of dataset to use for preprocessing and modeling"
   ]
  },
  {
   "cell_type": "code",
   "execution_count": null,
   "id": "544bbcf5",
   "metadata": {},
   "outputs": [],
   "source": [
    "# vertical concatenate the 2 dataframes\n",
    "nlp_df = reddit_data['subreddit', 'self_text']\n",
    "\n",
    "# map them to the respective binary\n",
    "nlp_df['subreddit'] = nlp_df['subreddit'].map({'UnresolvedMysteries': 1, 'FanTheories': 0})\n",
    "nlp_df"
   ]
  },
  {
   "cell_type": "code",
   "execution_count": null,
   "id": "168d3d37",
   "metadata": {},
   "outputs": [],
   "source": [
    "# randomize the order, note that by right it shouldnt matter when doing the train test split later on\n",
    "nlp_df = nlp_df.sample(frac=1, random_state = 2024).reset_index(drop=True)\n",
    "nlp_df.head()"
   ]
  },
  {
   "cell_type": "code",
   "execution_count": null,
   "id": "a8ce1eb3",
   "metadata": {},
   "outputs": [],
   "source": [
    "# Export the main nlp_df into csv file for preprocessing and modelling\n",
    "nlp_df.to_csv('../data/reddit_data_cleaned.csv', index=False)"
   ]
  }
 ],
 "metadata": {
  "kernelspec": {
   "display_name": "Python 3 (ipykernel)",
   "language": "python",
   "name": "python3"
  },
  "language_info": {
   "codemirror_mode": {
    "name": "ipython",
    "version": 3
   },
   "file_extension": ".py",
   "mimetype": "text/x-python",
   "name": "python",
   "nbconvert_exporter": "python",
   "pygments_lexer": "ipython3",
   "version": "3.11.5"
  }
 },
 "nbformat": 4,
 "nbformat_minor": 5
}
