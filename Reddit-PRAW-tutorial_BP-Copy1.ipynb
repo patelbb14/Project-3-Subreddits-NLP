{
 "cells": [
  {
   "cell_type": "markdown",
   "id": "bc426077-0da2-49af-8e9f-e7a27ebaadd9",
   "metadata": {},
   "source": [
    "# **1. Install PRAW**"
   ]
  },
  {
   "cell_type": "code",
   "execution_count": 1,
   "id": "6a3e56be-a4bf-43d4-8c57-7f9954b44b46",
   "metadata": {},
   "outputs": [],
   "source": [
    "#!pip install praw\n",
    "import praw"
   ]
  },
  {
   "cell_type": "markdown",
   "id": "78ecd0ed-d601-4b45-b545-639d4a1e7b49",
   "metadata": {},
   "source": [
    "# **2. Create a Reddit App**"
   ]
  },
  {
   "cell_type": "markdown",
   "id": "da49f3cc-1cec-4917-90f4-7b639d7a145a",
   "metadata": {},
   "source": [
    "To access the Reddit API, you'll need to create an application on Reddit and obtain your API credentials. Follow these steps:\n",
    "\n",
    "- Go to the Reddit website (https://www.reddit.com/) and log in to your account. Feel free to create a throwaway account for this project!\n",
    "- Navigate to the Reddit Apps page (https://www.reddit.com/prefs/apps).\n",
    "- Click the \"are you a developer? create an app...\" button in the top left.\n",
    "- Provide a name for your app (e.g., \"PRAW\"), select the app type ('script') , and optionally add a description. Use http://localhost:8080 as your redirect URI.\n",
    "- After submitting the form, you will reach a page that looks like the following image. You'll see your application's details, including the client ID and client secret. Keep these credentials handy for the next step.\n"
   ]
  },
  {
   "cell_type": "markdown",
   "id": "b3997780-adc4-4ee2-91e3-6a296587cdf8",
   "metadata": {},
   "source": [
    "![Praw](https://www.honchosearch.com/hubfs/Imported_Blog_Media/Client-ID-Client-Secret.png)"
   ]
  },
  {
   "cell_type": "markdown",
   "id": "2b71b52e-05db-4a47-8c8c-ec8f4fd9c283",
   "metadata": {},
   "source": [
    "# **3. Initialize PRAW**"
   ]
  },
  {
   "cell_type": "code",
   "execution_count": 2,
   "id": "103d7151-cf2e-47cb-82c2-578faa763888",
   "metadata": {},
   "outputs": [],
   "source": [
    "reddit = praw.Reddit(\n",
    "    client_id='2H3B2NBxh9P_qMJw2dId5A',\n",
    "    client_secret='GzJrjhrOXbgHrgjxr6wZxM97owcjOA',\n",
    "    user_agent='Due_Truth_6829_GA_user',\n",
    "    username='Due_Truth_6829',\n",
    "    password='Tushar1014!'\n",
    ")"
   ]
  },
  {
   "cell_type": "markdown",
   "id": "204db51a-ee1d-4180-839b-67bdecea4fe5",
   "metadata": {},
   "source": [
    "Replace 'YOUR_CLIENT_ID', 'YOUR_CLIENT_SECRET', 'YOUR_USER_AGENT', 'YOUR_REDDIT_USERNAME', and 'YOUR_REDDIT_PASSWORD' with your actual Reddit API credentials."
   ]
  },
  {
   "cell_type": "markdown",
   "id": "95b298a6-1aa9-4690-8447-6f717c24e9cc",
   "metadata": {},
   "source": [
    "Your user agent is an identifier used by reddit to identify the source of requests. You can make it whatever you want, but you'll want to choose something descriptive and unique, and it's recommended that your username is included."
   ]
  },
  {
   "cell_type": "markdown",
   "id": "d9006de6-d5ce-4537-a9c7-ca5bdd4ee630",
   "metadata": {},
   "source": [
    "**I have removed my own credentials from this workbook. We can show you how to hide your credentials before submitting the project! The following code will need your own credentials in order to successfully work.**"
   ]
  },
  {
   "cell_type": "markdown",
   "id": "072ea3ea-ab20-4fe5-8711-dbe220400fa3",
   "metadata": {},
   "source": [
    "# 4. Take a look at the documentation [here](https://praw.readthedocs.io/)!"
   ]
  },
  {
   "cell_type": "code",
   "execution_count": 3,
   "id": "17aa261b-f63a-4437-ac41-242982cb546c",
   "metadata": {},
   "outputs": [],
   "source": [
    "# Below is JUST an example of how you can use PRAW\n",
    "\n",
    "# Choose your subreddit\n",
    "subreddit1 = reddit.subreddit('UnresolvedMysteries')\n",
    "\n",
    "# Adjust the limit as needed -- Note that this will grab the 25 most recent posts\n",
    "posts1_new = subreddit1.new(limit=1000)"
   ]
  },
  {
   "cell_type": "code",
   "execution_count": 4,
   "id": "ae257c08",
   "metadata": {},
   "outputs": [],
   "source": [
    "# Choose your subreddit\n",
    "subreddit1 = reddit.subreddit('UnresolvedMysteries')\n",
    "\n",
    "# Adjust the limit as needed -- Note that this will grab the 25 most recent posts\n",
    "posts1_hot = subreddit1.hot(limit=1000)"
   ]
  },
  {
   "cell_type": "code",
   "execution_count": 5,
   "id": "b1109d5b",
   "metadata": {},
   "outputs": [],
   "source": [
    "# Choose your subreddit\n",
    "subreddit1 = reddit.subreddit('UnresolvedMysteries')\n",
    "\n",
    "# Adjust the limit as needed -- Note that this will grab the 25 most recent posts\n",
    "posts1_top = subreddit1.top(limit=1000)"
   ]
  },
  {
   "cell_type": "code",
   "execution_count": 6,
   "id": "18b03730",
   "metadata": {},
   "outputs": [],
   "source": [
    "# Choose your subreddit\n",
    "subreddit2 = reddit.subreddit('FanTheories')\n",
    "\n",
    "# Adjust the limit as needed -- Note that this will grab the 25 most recent posts\n",
    "posts2_new = subreddit2.new(limit=1000)"
   ]
  },
  {
   "cell_type": "code",
   "execution_count": 7,
   "id": "76cd6e1f",
   "metadata": {},
   "outputs": [],
   "source": [
    "subreddit2 = reddit.subreddit('FanTheories')\n",
    "\n",
    "# Adjust the limit as needed -- Note that this will grab the 25 most recent posts\n",
    "posts2_hot = subreddit2.hot(limit=1000)"
   ]
  },
  {
   "cell_type": "code",
   "execution_count": 8,
   "id": "53fad876",
   "metadata": {},
   "outputs": [],
   "source": [
    "subreddit2 = reddit.subreddit('FanTheories')\n",
    "\n",
    "# Adjust the limit as needed -- Note that this will grab the 25 most recent posts\n",
    "posts2_top = subreddit2.top(limit=1000)"
   ]
  },
  {
   "cell_type": "markdown",
   "id": "ad8eb1f6-449f-4bc9-9d56-1fe03739ff50",
   "metadata": {},
   "source": [
    "## NOTE\n",
    "- Reddit API Limitations: The Reddit API imposes limitations on the number of posts you can retrieve in a single request. The maximum number of posts per request is typically 100. Therefore, if you set the limit parameter to a value greater than 100, PRAW will make multiple requests behind the scenes to fetch the desired number of posts.\n",
    "- Rate Limiting: The Reddit API also enforces rate limits to prevent abuse and ensure fair usage. The specific rate limits can vary depending on factors such as your Reddit account's age and karma. As a standard user, you're typically allowed to make 60 requests per minute. If you exceed the rate limit, you may receive an error response until the rate limit resets.\n",
    "- TIP: You can use the created_utc attribute of a post to keep track of the timestamp and ensure non-overlapping pulls. The created_utc attribute represents the post's creation time in UTC."
   ]
  },
  {
   "cell_type": "code",
   "execution_count": 9,
   "id": "a1b221e2-244d-42dc-9c89-1d04134fc7d2",
   "metadata": {
    "tags": []
   },
   "outputs": [
    {
     "data": {
      "text/html": [
       "<div>\n",
       "<style scoped>\n",
       "    .dataframe tbody tr th:only-of-type {\n",
       "        vertical-align: middle;\n",
       "    }\n",
       "\n",
       "    .dataframe tbody tr th {\n",
       "        vertical-align: top;\n",
       "    }\n",
       "\n",
       "    .dataframe thead th {\n",
       "        text-align: right;\n",
       "    }\n",
       "</style>\n",
       "<table border=\"1\" class=\"dataframe\">\n",
       "  <thead>\n",
       "    <tr style=\"text-align: right;\">\n",
       "      <th></th>\n",
       "      <th>created_utc</th>\n",
       "      <th>title</th>\n",
       "      <th>self_text</th>\n",
       "      <th>subreddit</th>\n",
       "    </tr>\n",
       "  </thead>\n",
       "  <tbody>\n",
       "    <tr>\n",
       "      <th>0</th>\n",
       "      <td>1.709053e+09</td>\n",
       "      <td>A body of a young man is found near a parkway,...</td>\n",
       "      <td>Hello everyone! Thank you for all your comment...</td>\n",
       "      <td>UnresolvedMysteries</td>\n",
       "    </tr>\n",
       "    <tr>\n",
       "      <th>1</th>\n",
       "      <td>1.709046e+09</td>\n",
       "      <td>Grief and Gratitude / Being the daughter of a ...</td>\n",
       "      <td>I've come on before to share my statement rega...</td>\n",
       "      <td>UnresolvedMysteries</td>\n",
       "    </tr>\n",
       "    <tr>\n",
       "      <th>2</th>\n",
       "      <td>1.709007e+09</td>\n",
       "      <td>Did Super Bowl champion Jim Duncan really kill...</td>\n",
       "      <td>On October 20th, 1972, an \"unidentified man\" w...</td>\n",
       "      <td>UnresolvedMysteries</td>\n",
       "    </tr>\n",
       "    <tr>\n",
       "      <th>3</th>\n",
       "      <td>1.708997e+09</td>\n",
       "      <td>John Wayne Gacy's unidentified victims,an endu...</td>\n",
       "      <td>\\n\"Body 10\" was one of five still as of now (2...</td>\n",
       "      <td>UnresolvedMysteries</td>\n",
       "    </tr>\n",
       "    <tr>\n",
       "      <th>4</th>\n",
       "      <td>1.708996e+09</td>\n",
       "      <td>Ebays Most Mysterious Song!</td>\n",
       "      <td>Hello, I am trying to find this album thats on...</td>\n",
       "      <td>UnresolvedMysteries</td>\n",
       "    </tr>\n",
       "  </tbody>\n",
       "</table>\n",
       "</div>"
      ],
      "text/plain": [
       "    created_utc                                              title  \\\n",
       "0  1.709053e+09  A body of a young man is found near a parkway,...   \n",
       "1  1.709046e+09  Grief and Gratitude / Being the daughter of a ...   \n",
       "2  1.709007e+09  Did Super Bowl champion Jim Duncan really kill...   \n",
       "3  1.708997e+09  John Wayne Gacy's unidentified victims,an endu...   \n",
       "4  1.708996e+09                        Ebays Most Mysterious Song!   \n",
       "\n",
       "                                           self_text            subreddit  \n",
       "0  Hello everyone! Thank you for all your comment...  UnresolvedMysteries  \n",
       "1  I've come on before to share my statement rega...  UnresolvedMysteries  \n",
       "2  On October 20th, 1972, an \"unidentified man\" w...  UnresolvedMysteries  \n",
       "3  \\n\"Body 10\" was one of five still as of now (2...  UnresolvedMysteries  \n",
       "4  Hello, I am trying to find this album thats on...  UnresolvedMysteries  "
      ]
     },
     "execution_count": 9,
     "metadata": {},
     "output_type": "execute_result"
    }
   ],
   "source": [
    "import pandas as pd\n",
    "\n",
    "data = []\n",
    "for post in posts1_new:\n",
    "    data.append([post.created_utc, post.title, post.selftext, post.subreddit])\n",
    "\n",
    "# Turn into a dataframe\n",
    "mysteries_new = pd.DataFrame(data, columns = ['created_utc', 'title', 'self_text', 'subreddit'])\n",
    "mysteries_new.head()"
   ]
  },
  {
   "cell_type": "code",
   "execution_count": 10,
   "id": "c4856bb3",
   "metadata": {},
   "outputs": [
    {
     "data": {
      "text/plain": [
       "(932, 4)"
      ]
     },
     "execution_count": 10,
     "metadata": {},
     "output_type": "execute_result"
    }
   ],
   "source": [
    "mysteries_new.shape"
   ]
  },
  {
   "cell_type": "code",
   "execution_count": 11,
   "id": "0d5ab59b",
   "metadata": {},
   "outputs": [
    {
     "data": {
      "text/html": [
       "<div>\n",
       "<style scoped>\n",
       "    .dataframe tbody tr th:only-of-type {\n",
       "        vertical-align: middle;\n",
       "    }\n",
       "\n",
       "    .dataframe tbody tr th {\n",
       "        vertical-align: top;\n",
       "    }\n",
       "\n",
       "    .dataframe thead th {\n",
       "        text-align: right;\n",
       "    }\n",
       "</style>\n",
       "<table border=\"1\" class=\"dataframe\">\n",
       "  <thead>\n",
       "    <tr style=\"text-align: right;\">\n",
       "      <th></th>\n",
       "      <th>created_utc</th>\n",
       "      <th>title</th>\n",
       "      <th>self_text</th>\n",
       "      <th>subreddit</th>\n",
       "    </tr>\n",
       "  </thead>\n",
       "  <tbody>\n",
       "    <tr>\n",
       "      <th>0</th>\n",
       "      <td>1.708949e+09</td>\n",
       "      <td>Meta Monday! - February 26, 2024 Talk about an...</td>\n",
       "      <td>This is a weekly thread for off topic discussi...</td>\n",
       "      <td>UnresolvedMysteries</td>\n",
       "    </tr>\n",
       "    <tr>\n",
       "      <th>1</th>\n",
       "      <td>1.706616e+09</td>\n",
       "      <td>What are you listening to, watching, or readin...</td>\n",
       "      <td>This is a weekly thread for media recommendati...</td>\n",
       "      <td>UnresolvedMysteries</td>\n",
       "    </tr>\n",
       "    <tr>\n",
       "      <th>2</th>\n",
       "      <td>1.709046e+09</td>\n",
       "      <td>Grief and Gratitude / Being the daughter of a ...</td>\n",
       "      <td>I've come on before to share my statement rega...</td>\n",
       "      <td>UnresolvedMysteries</td>\n",
       "    </tr>\n",
       "    <tr>\n",
       "      <th>3</th>\n",
       "      <td>1.709053e+09</td>\n",
       "      <td>A body of a young man is found near a parkway,...</td>\n",
       "      <td>Hello everyone! Thank you for all your comment...</td>\n",
       "      <td>UnresolvedMysteries</td>\n",
       "    </tr>\n",
       "    <tr>\n",
       "      <th>4</th>\n",
       "      <td>1.709007e+09</td>\n",
       "      <td>Did Super Bowl champion Jim Duncan really kill...</td>\n",
       "      <td>On October 20th, 1972, an \"unidentified man\" w...</td>\n",
       "      <td>UnresolvedMysteries</td>\n",
       "    </tr>\n",
       "  </tbody>\n",
       "</table>\n",
       "</div>"
      ],
      "text/plain": [
       "    created_utc                                              title  \\\n",
       "0  1.708949e+09  Meta Monday! - February 26, 2024 Talk about an...   \n",
       "1  1.706616e+09  What are you listening to, watching, or readin...   \n",
       "2  1.709046e+09  Grief and Gratitude / Being the daughter of a ...   \n",
       "3  1.709053e+09  A body of a young man is found near a parkway,...   \n",
       "4  1.709007e+09  Did Super Bowl champion Jim Duncan really kill...   \n",
       "\n",
       "                                           self_text            subreddit  \n",
       "0  This is a weekly thread for off topic discussi...  UnresolvedMysteries  \n",
       "1  This is a weekly thread for media recommendati...  UnresolvedMysteries  \n",
       "2  I've come on before to share my statement rega...  UnresolvedMysteries  \n",
       "3  Hello everyone! Thank you for all your comment...  UnresolvedMysteries  \n",
       "4  On October 20th, 1972, an \"unidentified man\" w...  UnresolvedMysteries  "
      ]
     },
     "execution_count": 11,
     "metadata": {},
     "output_type": "execute_result"
    }
   ],
   "source": [
    "data = []\n",
    "for post in posts1_hot:\n",
    "    data.append([post.created_utc, post.title, post.selftext, post.subreddit])\n",
    "\n",
    "# Turn into a dataframe\n",
    "mysteries_hot = pd.DataFrame(data, columns = ['created_utc', 'title', 'self_text', 'subreddit'])\n",
    "mysteries_hot.head()"
   ]
  },
  {
   "cell_type": "code",
   "execution_count": 12,
   "id": "11154e00",
   "metadata": {},
   "outputs": [
    {
     "data": {
      "text/plain": [
       "(463, 4)"
      ]
     },
     "execution_count": 12,
     "metadata": {},
     "output_type": "execute_result"
    }
   ],
   "source": [
    "mysteries_hot.shape"
   ]
  },
  {
   "cell_type": "code",
   "execution_count": 13,
   "id": "f930a3a0",
   "metadata": {},
   "outputs": [
    {
     "data": {
      "text/html": [
       "<div>\n",
       "<style scoped>\n",
       "    .dataframe tbody tr th:only-of-type {\n",
       "        vertical-align: middle;\n",
       "    }\n",
       "\n",
       "    .dataframe tbody tr th {\n",
       "        vertical-align: top;\n",
       "    }\n",
       "\n",
       "    .dataframe thead th {\n",
       "        text-align: right;\n",
       "    }\n",
       "</style>\n",
       "<table border=\"1\" class=\"dataframe\">\n",
       "  <thead>\n",
       "    <tr style=\"text-align: right;\">\n",
       "      <th></th>\n",
       "      <th>created_utc</th>\n",
       "      <th>title</th>\n",
       "      <th>self_text</th>\n",
       "      <th>subreddit</th>\n",
       "    </tr>\n",
       "  </thead>\n",
       "  <tbody>\n",
       "    <tr>\n",
       "      <th>0</th>\n",
       "      <td>1.607713e+09</td>\n",
       "      <td>FBI confirms that the Zodiac Killer’s “340 Cyp...</td>\n",
       "      <td>The Zodiac Killer is an unidentified serial ki...</td>\n",
       "      <td>UnresolvedMysteries</td>\n",
       "    </tr>\n",
       "    <tr>\n",
       "      <th>1</th>\n",
       "      <td>1.579803e+09</td>\n",
       "      <td>The mystery surrounding Britney Spears</td>\n",
       "      <td>I know this isn’t the typical content usually ...</td>\n",
       "      <td>UnresolvedMysteries</td>\n",
       "    </tr>\n",
       "    <tr>\n",
       "      <th>2</th>\n",
       "      <td>1.613172e+09</td>\n",
       "      <td>Why I stopped watching the Elisa Lam documentary</td>\n",
       "      <td>Right, I'm sure I'm gonna get some flack for t...</td>\n",
       "      <td>UnresolvedMysteries</td>\n",
       "    </tr>\n",
       "    <tr>\n",
       "      <th>3</th>\n",
       "      <td>1.524647e+09</td>\n",
       "      <td>East Area Rapist/Original Night Stalker OFFICI...</td>\n",
       "      <td>It's real, the EAR/ONS has been **officially c...</td>\n",
       "      <td>UnresolvedMysteries</td>\n",
       "    </tr>\n",
       "    <tr>\n",
       "      <th>4</th>\n",
       "      <td>1.653236e+09</td>\n",
       "      <td>8 months ago, the Sandy Hook shooter Adam Lanz...</td>\n",
       "      <td>https://www.reddit.com/r/masskillers/comments/...</td>\n",
       "      <td>UnresolvedMysteries</td>\n",
       "    </tr>\n",
       "  </tbody>\n",
       "</table>\n",
       "</div>"
      ],
      "text/plain": [
       "    created_utc                                              title  \\\n",
       "0  1.607713e+09  FBI confirms that the Zodiac Killer’s “340 Cyp...   \n",
       "1  1.579803e+09             The mystery surrounding Britney Spears   \n",
       "2  1.613172e+09   Why I stopped watching the Elisa Lam documentary   \n",
       "3  1.524647e+09  East Area Rapist/Original Night Stalker OFFICI...   \n",
       "4  1.653236e+09  8 months ago, the Sandy Hook shooter Adam Lanz...   \n",
       "\n",
       "                                           self_text            subreddit  \n",
       "0  The Zodiac Killer is an unidentified serial ki...  UnresolvedMysteries  \n",
       "1  I know this isn’t the typical content usually ...  UnresolvedMysteries  \n",
       "2  Right, I'm sure I'm gonna get some flack for t...  UnresolvedMysteries  \n",
       "3  It's real, the EAR/ONS has been **officially c...  UnresolvedMysteries  \n",
       "4  https://www.reddit.com/r/masskillers/comments/...  UnresolvedMysteries  "
      ]
     },
     "execution_count": 13,
     "metadata": {},
     "output_type": "execute_result"
    }
   ],
   "source": [
    "data = []\n",
    "for post in posts1_top:\n",
    "    data.append([post.created_utc, post.title, post.selftext, post.subreddit])\n",
    "\n",
    "# Turn into a dataframe\n",
    "mysteries_top = pd.DataFrame(data, columns = ['created_utc', 'title', 'self_text', 'subreddit'])\n",
    "mysteries_top.head()"
   ]
  },
  {
   "cell_type": "code",
   "execution_count": 14,
   "id": "bbbe9dd9",
   "metadata": {},
   "outputs": [
    {
     "data": {
      "text/plain": [
       "(997, 4)"
      ]
     },
     "execution_count": 14,
     "metadata": {},
     "output_type": "execute_result"
    }
   ],
   "source": [
    "mysteries_top.shape"
   ]
  },
  {
   "cell_type": "code",
   "execution_count": 15,
   "id": "b73b85e3",
   "metadata": {},
   "outputs": [],
   "source": [
    "frames = [mysteries_new, mysteries_hot, mysteries_top]\n",
    "unresolved_mysteries = pd.concat(frames)"
   ]
  },
  {
   "cell_type": "code",
   "execution_count": 16,
   "id": "536ab46c",
   "metadata": {},
   "outputs": [
    {
     "data": {
      "text/plain": [
       "(2392, 4)"
      ]
     },
     "execution_count": 16,
     "metadata": {},
     "output_type": "execute_result"
    }
   ],
   "source": [
    "unresolved_mysteries.shape"
   ]
  },
  {
   "cell_type": "code",
   "execution_count": 17,
   "id": "a14d8a06",
   "metadata": {},
   "outputs": [],
   "source": [
    "unresolved_mysteries = unresolved_mysteries.drop_duplicates()"
   ]
  },
  {
   "cell_type": "code",
   "execution_count": 18,
   "id": "4d8159e9",
   "metadata": {},
   "outputs": [
    {
     "data": {
      "text/plain": [
       "(1920, 4)"
      ]
     },
     "execution_count": 18,
     "metadata": {},
     "output_type": "execute_result"
    }
   ],
   "source": [
    "unresolved_mysteries.shape"
   ]
  },
  {
   "cell_type": "code",
   "execution_count": 19,
   "id": "8743cc05",
   "metadata": {},
   "outputs": [
    {
     "data": {
      "text/html": [
       "<div>\n",
       "<style scoped>\n",
       "    .dataframe tbody tr th:only-of-type {\n",
       "        vertical-align: middle;\n",
       "    }\n",
       "\n",
       "    .dataframe tbody tr th {\n",
       "        vertical-align: top;\n",
       "    }\n",
       "\n",
       "    .dataframe thead th {\n",
       "        text-align: right;\n",
       "    }\n",
       "</style>\n",
       "<table border=\"1\" class=\"dataframe\">\n",
       "  <thead>\n",
       "    <tr style=\"text-align: right;\">\n",
       "      <th></th>\n",
       "      <th>created_utc</th>\n",
       "      <th>title</th>\n",
       "      <th>self_text</th>\n",
       "      <th>subreddit</th>\n",
       "    </tr>\n",
       "  </thead>\n",
       "  <tbody>\n",
       "    <tr>\n",
       "      <th>0</th>\n",
       "      <td>1.709065e+09</td>\n",
       "      <td>(Reservoir Dogs) Mr. Blond Was Specifically NO...</td>\n",
       "      <td>This just occurred to me the other day so apol...</td>\n",
       "      <td>FanTheories</td>\n",
       "    </tr>\n",
       "    <tr>\n",
       "      <th>1</th>\n",
       "      <td>1.709048e+09</td>\n",
       "      <td>(MCU) the 6 original avengers represent the 6 ...</td>\n",
       "      <td>This theory I found some others had already su...</td>\n",
       "      <td>FanTheories</td>\n",
       "    </tr>\n",
       "    <tr>\n",
       "      <th>2</th>\n",
       "      <td>1.709040e+09</td>\n",
       "      <td>Gideon Gleeful and the Pinetrees. (Gravity Fal...</td>\n",
       "      <td>Yes. Two posts within 5 minutes. \\nIn Hebrew, ...</td>\n",
       "      <td>FanTheories</td>\n",
       "    </tr>\n",
       "    <tr>\n",
       "      <th>3</th>\n",
       "      <td>1.708994e+09</td>\n",
       "      <td>[ATLA] The (Very) Small World of Avatar: The L...</td>\n",
       "      <td>I dove head-first into a [rabbit hole](https:/...</td>\n",
       "      <td>FanTheories</td>\n",
       "    </tr>\n",
       "    <tr>\n",
       "      <th>4</th>\n",
       "      <td>1.708990e+09</td>\n",
       "      <td>[Calvin and Hobbes/The Mysteries] The now adul...</td>\n",
       "      <td>Calvin and Hobbes author Bill Watterson disapp...</td>\n",
       "      <td>FanTheories</td>\n",
       "    </tr>\n",
       "  </tbody>\n",
       "</table>\n",
       "</div>"
      ],
      "text/plain": [
       "    created_utc                                              title  \\\n",
       "0  1.709065e+09  (Reservoir Dogs) Mr. Blond Was Specifically NO...   \n",
       "1  1.709048e+09  (MCU) the 6 original avengers represent the 6 ...   \n",
       "2  1.709040e+09  Gideon Gleeful and the Pinetrees. (Gravity Fal...   \n",
       "3  1.708994e+09  [ATLA] The (Very) Small World of Avatar: The L...   \n",
       "4  1.708990e+09  [Calvin and Hobbes/The Mysteries] The now adul...   \n",
       "\n",
       "                                           self_text    subreddit  \n",
       "0  This just occurred to me the other day so apol...  FanTheories  \n",
       "1  This theory I found some others had already su...  FanTheories  \n",
       "2  Yes. Two posts within 5 minutes. \\nIn Hebrew, ...  FanTheories  \n",
       "3  I dove head-first into a [rabbit hole](https:/...  FanTheories  \n",
       "4  Calvin and Hobbes author Bill Watterson disapp...  FanTheories  "
      ]
     },
     "execution_count": 19,
     "metadata": {},
     "output_type": "execute_result"
    }
   ],
   "source": [
    "data = []\n",
    "for post in posts2_new:\n",
    "    data.append([post.created_utc, post.title, post.selftext, post.subreddit])\n",
    "\n",
    "# Turn into a dataframe\n",
    "fantheories_new = pd.DataFrame(data, columns = ['created_utc', 'title', 'self_text', 'subreddit'])\n",
    "fantheories_new.head()"
   ]
  },
  {
   "cell_type": "code",
   "execution_count": 20,
   "id": "daedb473",
   "metadata": {},
   "outputs": [
    {
     "data": {
      "text/plain": [
       "(860, 4)"
      ]
     },
     "execution_count": 20,
     "metadata": {},
     "output_type": "execute_result"
    }
   ],
   "source": [
    "fantheories_new.shape"
   ]
  },
  {
   "cell_type": "code",
   "execution_count": 21,
   "id": "408f3716",
   "metadata": {},
   "outputs": [
    {
     "data": {
      "text/html": [
       "<div>\n",
       "<style scoped>\n",
       "    .dataframe tbody tr th:only-of-type {\n",
       "        vertical-align: middle;\n",
       "    }\n",
       "\n",
       "    .dataframe tbody tr th {\n",
       "        vertical-align: top;\n",
       "    }\n",
       "\n",
       "    .dataframe thead th {\n",
       "        text-align: right;\n",
       "    }\n",
       "</style>\n",
       "<table border=\"1\" class=\"dataframe\">\n",
       "  <thead>\n",
       "    <tr style=\"text-align: right;\">\n",
       "      <th></th>\n",
       "      <th>created_utc</th>\n",
       "      <th>title</th>\n",
       "      <th>self_text</th>\n",
       "      <th>subreddit</th>\n",
       "    </tr>\n",
       "  </thead>\n",
       "  <tbody>\n",
       "    <tr>\n",
       "      <th>0</th>\n",
       "      <td>1.634130e+09</td>\n",
       "      <td>Welcome to r/FanTheories! Please read this pos...</td>\n",
       "      <td>Recently, the moderation team has noticed an u...</td>\n",
       "      <td>FanTheories</td>\n",
       "    </tr>\n",
       "    <tr>\n",
       "      <th>1</th>\n",
       "      <td>1.708465e+09</td>\n",
       "      <td>Reminder: All fan theories must be in-universe...</td>\n",
       "      <td>Recently, it came to the attention of the r/fa...</td>\n",
       "      <td>FanTheories</td>\n",
       "    </tr>\n",
       "    <tr>\n",
       "      <th>2</th>\n",
       "      <td>1.709065e+09</td>\n",
       "      <td>(Reservoir Dogs) Mr. Blond Was Specifically NO...</td>\n",
       "      <td>This just occurred to me the other day so apol...</td>\n",
       "      <td>FanTheories</td>\n",
       "    </tr>\n",
       "    <tr>\n",
       "      <th>3</th>\n",
       "      <td>1.709048e+09</td>\n",
       "      <td>(MCU) the 6 original avengers represent the 6 ...</td>\n",
       "      <td>This theory I found some others had already su...</td>\n",
       "      <td>FanTheories</td>\n",
       "    </tr>\n",
       "    <tr>\n",
       "      <th>4</th>\n",
       "      <td>1.708994e+09</td>\n",
       "      <td>[ATLA] The (Very) Small World of Avatar: The L...</td>\n",
       "      <td>I dove head-first into a [rabbit hole](https:/...</td>\n",
       "      <td>FanTheories</td>\n",
       "    </tr>\n",
       "  </tbody>\n",
       "</table>\n",
       "</div>"
      ],
      "text/plain": [
       "    created_utc                                              title  \\\n",
       "0  1.634130e+09  Welcome to r/FanTheories! Please read this pos...   \n",
       "1  1.708465e+09  Reminder: All fan theories must be in-universe...   \n",
       "2  1.709065e+09  (Reservoir Dogs) Mr. Blond Was Specifically NO...   \n",
       "3  1.709048e+09  (MCU) the 6 original avengers represent the 6 ...   \n",
       "4  1.708994e+09  [ATLA] The (Very) Small World of Avatar: The L...   \n",
       "\n",
       "                                           self_text    subreddit  \n",
       "0  Recently, the moderation team has noticed an u...  FanTheories  \n",
       "1  Recently, it came to the attention of the r/fa...  FanTheories  \n",
       "2  This just occurred to me the other day so apol...  FanTheories  \n",
       "3  This theory I found some others had already su...  FanTheories  \n",
       "4  I dove head-first into a [rabbit hole](https:/...  FanTheories  "
      ]
     },
     "execution_count": 21,
     "metadata": {},
     "output_type": "execute_result"
    }
   ],
   "source": [
    "data = []\n",
    "for post in posts2_hot:\n",
    "    data.append([post.created_utc, post.title, post.selftext, post.subreddit])\n",
    "\n",
    "# Turn into a dataframe\n",
    "fantheories_hot = pd.DataFrame(data, columns = ['created_utc', 'title', 'self_text', 'subreddit'])\n",
    "fantheories_hot.head()"
   ]
  },
  {
   "cell_type": "code",
   "execution_count": 22,
   "id": "e01be115",
   "metadata": {},
   "outputs": [
    {
     "data": {
      "text/plain": [
       "(876, 4)"
      ]
     },
     "execution_count": 22,
     "metadata": {},
     "output_type": "execute_result"
    }
   ],
   "source": [
    "fantheories_hot.shape"
   ]
  },
  {
   "cell_type": "code",
   "execution_count": 23,
   "id": "ea7b6be7",
   "metadata": {},
   "outputs": [
    {
     "data": {
      "text/html": [
       "<div>\n",
       "<style scoped>\n",
       "    .dataframe tbody tr th:only-of-type {\n",
       "        vertical-align: middle;\n",
       "    }\n",
       "\n",
       "    .dataframe tbody tr th {\n",
       "        vertical-align: top;\n",
       "    }\n",
       "\n",
       "    .dataframe thead th {\n",
       "        text-align: right;\n",
       "    }\n",
       "</style>\n",
       "<table border=\"1\" class=\"dataframe\">\n",
       "  <thead>\n",
       "    <tr style=\"text-align: right;\">\n",
       "      <th></th>\n",
       "      <th>created_utc</th>\n",
       "      <th>title</th>\n",
       "      <th>self_text</th>\n",
       "      <th>subreddit</th>\n",
       "    </tr>\n",
       "  </thead>\n",
       "  <tbody>\n",
       "    <tr>\n",
       "      <th>0</th>\n",
       "      <td>1.531675e+09</td>\n",
       "      <td>[SPOILERS] Infinity War: \"...you never once us...</td>\n",
       "      <td>The title quote comes from Thanos speaking to ...</td>\n",
       "      <td>FanTheories</td>\n",
       "    </tr>\n",
       "    <tr>\n",
       "      <th>1</th>\n",
       "      <td>1.481235e+09</td>\n",
       "      <td>The entire movie of Aladdin was simply the ful...</td>\n",
       "      <td>Something that always bothered and confused me...</td>\n",
       "      <td>FanTheories</td>\n",
       "    </tr>\n",
       "    <tr>\n",
       "      <th>2</th>\n",
       "      <td>1.555263e+09</td>\n",
       "      <td>Why Steve Rogers was able to resist Thanos.</td>\n",
       "      <td>I'm referring to at 0:33 in this video:  [http...</td>\n",
       "      <td>FanTheories</td>\n",
       "    </tr>\n",
       "    <tr>\n",
       "      <th>3</th>\n",
       "      <td>1.542909e+09</td>\n",
       "      <td>[Harry Potter] [Spoilers] Ron Weasley used the...</td>\n",
       "      <td>**WARNING: SPOILERS ARE ALL OVER THIS THEORY L...</td>\n",
       "      <td>FanTheories</td>\n",
       "    </tr>\n",
       "    <tr>\n",
       "      <th>4</th>\n",
       "      <td>1.482197e+09</td>\n",
       "      <td>Predator (1987): The alien tries each man's ma...</td>\n",
       "      <td>It's a well-worn idea that _Predator_ is a fil...</td>\n",
       "      <td>FanTheories</td>\n",
       "    </tr>\n",
       "  </tbody>\n",
       "</table>\n",
       "</div>"
      ],
      "text/plain": [
       "    created_utc                                              title  \\\n",
       "0  1.531675e+09  [SPOILERS] Infinity War: \"...you never once us...   \n",
       "1  1.481235e+09  The entire movie of Aladdin was simply the ful...   \n",
       "2  1.555263e+09        Why Steve Rogers was able to resist Thanos.   \n",
       "3  1.542909e+09  [Harry Potter] [Spoilers] Ron Weasley used the...   \n",
       "4  1.482197e+09  Predator (1987): The alien tries each man's ma...   \n",
       "\n",
       "                                           self_text    subreddit  \n",
       "0  The title quote comes from Thanos speaking to ...  FanTheories  \n",
       "1  Something that always bothered and confused me...  FanTheories  \n",
       "2  I'm referring to at 0:33 in this video:  [http...  FanTheories  \n",
       "3  **WARNING: SPOILERS ARE ALL OVER THIS THEORY L...  FanTheories  \n",
       "4  It's a well-worn idea that _Predator_ is a fil...  FanTheories  "
      ]
     },
     "execution_count": 23,
     "metadata": {},
     "output_type": "execute_result"
    }
   ],
   "source": [
    "data = []\n",
    "for post in posts2_top:\n",
    "    data.append([post.created_utc, post.title, post.selftext, post.subreddit])\n",
    "\n",
    "# Turn into a dataframe\n",
    "fantheories_top = pd.DataFrame(data, columns = ['created_utc', 'title', 'self_text', 'subreddit'])\n",
    "fantheories_top.head()"
   ]
  },
  {
   "cell_type": "code",
   "execution_count": 24,
   "id": "2cb03b4a",
   "metadata": {},
   "outputs": [
    {
     "data": {
      "text/plain": [
       "(998, 4)"
      ]
     },
     "execution_count": 24,
     "metadata": {},
     "output_type": "execute_result"
    }
   ],
   "source": [
    "fantheories_top.shape"
   ]
  },
  {
   "cell_type": "code",
   "execution_count": 25,
   "id": "68225387",
   "metadata": {},
   "outputs": [],
   "source": [
    "frames = [fantheories_new, fantheories_hot, fantheories_top]\n",
    "fan_theories = pd.concat(frames)"
   ]
  },
  {
   "cell_type": "code",
   "execution_count": 26,
   "id": "e9a248ca",
   "metadata": {},
   "outputs": [
    {
     "data": {
      "text/plain": [
       "(2734, 4)"
      ]
     },
     "execution_count": 26,
     "metadata": {},
     "output_type": "execute_result"
    }
   ],
   "source": [
    "fan_theories.shape"
   ]
  },
  {
   "cell_type": "code",
   "execution_count": 27,
   "id": "ce672187",
   "metadata": {},
   "outputs": [],
   "source": [
    "fan_theories = fan_theories.drop_duplicates()"
   ]
  },
  {
   "cell_type": "code",
   "execution_count": 28,
   "id": "7e204e6d",
   "metadata": {},
   "outputs": [
    {
     "data": {
      "text/plain": [
       "(1871, 4)"
      ]
     },
     "execution_count": 28,
     "metadata": {},
     "output_type": "execute_result"
    }
   ],
   "source": [
    "fan_theories.shape"
   ]
  },
  {
   "cell_type": "code",
   "execution_count": 29,
   "id": "e7c44903",
   "metadata": {},
   "outputs": [
    {
     "data": {
      "text/html": [
       "<div>\n",
       "<style scoped>\n",
       "    .dataframe tbody tr th:only-of-type {\n",
       "        vertical-align: middle;\n",
       "    }\n",
       "\n",
       "    .dataframe tbody tr th {\n",
       "        vertical-align: top;\n",
       "    }\n",
       "\n",
       "    .dataframe thead th {\n",
       "        text-align: right;\n",
       "    }\n",
       "</style>\n",
       "<table border=\"1\" class=\"dataframe\">\n",
       "  <thead>\n",
       "    <tr style=\"text-align: right;\">\n",
       "      <th></th>\n",
       "      <th>created_utc</th>\n",
       "      <th>title</th>\n",
       "      <th>self_text</th>\n",
       "      <th>subreddit</th>\n",
       "    </tr>\n",
       "  </thead>\n",
       "  <tbody>\n",
       "    <tr>\n",
       "      <th>0</th>\n",
       "      <td>1.709053e+09</td>\n",
       "      <td>A body of a young man is found near a parkway,...</td>\n",
       "      <td>Hello everyone! Thank you for all your comment...</td>\n",
       "      <td>UnresolvedMysteries</td>\n",
       "    </tr>\n",
       "    <tr>\n",
       "      <th>1</th>\n",
       "      <td>1.709046e+09</td>\n",
       "      <td>Grief and Gratitude / Being the daughter of a ...</td>\n",
       "      <td>I've come on before to share my statement rega...</td>\n",
       "      <td>UnresolvedMysteries</td>\n",
       "    </tr>\n",
       "    <tr>\n",
       "      <th>2</th>\n",
       "      <td>1.709007e+09</td>\n",
       "      <td>Did Super Bowl champion Jim Duncan really kill...</td>\n",
       "      <td>On October 20th, 1972, an \"unidentified man\" w...</td>\n",
       "      <td>UnresolvedMysteries</td>\n",
       "    </tr>\n",
       "    <tr>\n",
       "      <th>3</th>\n",
       "      <td>1.708997e+09</td>\n",
       "      <td>John Wayne Gacy's unidentified victims,an endu...</td>\n",
       "      <td>\\n\"Body 10\" was one of five still as of now (2...</td>\n",
       "      <td>UnresolvedMysteries</td>\n",
       "    </tr>\n",
       "    <tr>\n",
       "      <th>4</th>\n",
       "      <td>1.708996e+09</td>\n",
       "      <td>Ebays Most Mysterious Song!</td>\n",
       "      <td>Hello, I am trying to find this album thats on...</td>\n",
       "      <td>UnresolvedMysteries</td>\n",
       "    </tr>\n",
       "  </tbody>\n",
       "</table>\n",
       "</div>"
      ],
      "text/plain": [
       "    created_utc                                              title  \\\n",
       "0  1.709053e+09  A body of a young man is found near a parkway,...   \n",
       "1  1.709046e+09  Grief and Gratitude / Being the daughter of a ...   \n",
       "2  1.709007e+09  Did Super Bowl champion Jim Duncan really kill...   \n",
       "3  1.708997e+09  John Wayne Gacy's unidentified victims,an endu...   \n",
       "4  1.708996e+09                        Ebays Most Mysterious Song!   \n",
       "\n",
       "                                           self_text            subreddit  \n",
       "0  Hello everyone! Thank you for all your comment...  UnresolvedMysteries  \n",
       "1  I've come on before to share my statement rega...  UnresolvedMysteries  \n",
       "2  On October 20th, 1972, an \"unidentified man\" w...  UnresolvedMysteries  \n",
       "3  \\n\"Body 10\" was one of five still as of now (2...  UnresolvedMysteries  \n",
       "4  Hello, I am trying to find this album thats on...  UnresolvedMysteries  "
      ]
     },
     "execution_count": 29,
     "metadata": {},
     "output_type": "execute_result"
    }
   ],
   "source": [
    "reddits = [unresolved_mysteries, fan_theories]\n",
    "redditdata1 =  pd.concat(reddits)\n",
    "redditdata1.head()"
   ]
  },
  {
   "cell_type": "code",
   "execution_count": 30,
   "id": "f77544a1",
   "metadata": {},
   "outputs": [
    {
     "data": {
      "text/plain": [
       "(3791, 4)"
      ]
     },
     "execution_count": 30,
     "metadata": {},
     "output_type": "execute_result"
    }
   ],
   "source": [
    "redditdata1.shape"
   ]
  },
  {
   "cell_type": "code",
   "execution_count": 31,
   "id": "ca357f04",
   "metadata": {},
   "outputs": [],
   "source": [
    "redditdata1.to_csv('./data/reddit_data.csv')"
   ]
  },
  {
   "cell_type": "markdown",
   "id": "2eb4c19d-f9d9-4be8-9ca5-5ecbbde48970",
   "metadata": {},
   "source": [
    "Remember, you will need to pull *at least* 1000 posts from each subreddit, not just 25. Like I mentioned above, you can use the created_utc attribute of a post to keep track of the timestamp and ensure non-overlapping pulls. We will leave this work for you all to complete.\n",
    "\n",
    "Once you have at least 1000 posts from each subreddit, you can do some EDA (perhaps maybe the most common words in each subreddit..?) Eventually, you will want to combine your two dataframes together to do modeling."
   ]
  },
  {
   "cell_type": "markdown",
   "id": "d0785dc1-075d-4bd4-8c34-4dd2978d7dfb",
   "metadata": {},
   "source": [
    "### Hopefully this is enough of a tutorial to help get you started! If you have any questions, let us know!"
   ]
  },
  {
   "cell_type": "markdown",
   "id": "8f942833-8fdb-46d1-9182-b672e49434a5",
   "metadata": {},
   "source": [
    "### Note: Rather than working in this template notebook, make a brand new \"scraping\" notebook (or script), with your own comments, so you can use this project in a portfolio!"
   ]
  }
 ],
 "metadata": {
  "kernelspec": {
   "display_name": "Python 3 (ipykernel)",
   "language": "python",
   "name": "python3"
  },
  "language_info": {
   "codemirror_mode": {
    "name": "ipython",
    "version": 3
   },
   "file_extension": ".py",
   "mimetype": "text/x-python",
   "name": "python",
   "nbconvert_exporter": "python",
   "pygments_lexer": "ipython3",
   "version": "3.11.5"
  }
 },
 "nbformat": 4,
 "nbformat_minor": 5
}
