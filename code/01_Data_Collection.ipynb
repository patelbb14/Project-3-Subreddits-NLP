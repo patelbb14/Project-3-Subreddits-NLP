{
 "cells": [
  {
   "cell_type": "markdown",
   "id": "dfda79e6",
   "metadata": {},
   "source": [
    "# Project 3: Web APIs & NLP\n",
    "\n",
    "In week four we learned about a few different classifiers. In week five we're learning about webscraping, APIs, and Natural Language Processing (NLP). This project will put those skills to the test.\n",
    "\n",
    "For project 3, your goal is two-fold:\n",
    "1. Using [PRAW](https://praw.readthedocs.io/en/stable/index.html), you'll collect posts from two subreddits of your choosing.\n",
    "2. You'll then use NLP to train a classifier on which subreddit a given post came from. This is a binary classification problem."
   ]
  },
  {
   "cell_type": "markdown",
   "id": "f8bbf471",
   "metadata": {},
   "source": [
    "## Part 1: Data Collection\n",
    "\n",
    "For this project, you will be using [PRAW](https://praw.readthedocs.io/en/stable/index.html) to collect posts from two different subreddits. The subreddits we will use in this project will be 'UnresolvedMysteries' and 'FanTheories'."
   ]
  },
  {
   "cell_type": "markdown",
   "id": "bc426077-0da2-49af-8e9f-e7a27ebaadd9",
   "metadata": {},
   "source": [
    "# **1. Install and Import PRAW and Pandas**"
   ]
  },
  {
   "cell_type": "code",
   "execution_count": 1,
   "id": "6a3e56be-a4bf-43d4-8c57-7f9954b44b46",
   "metadata": {},
   "outputs": [],
   "source": [
    "# Import packages\n",
    "\n",
    "#!pip install praw\n",
    "import praw\n",
    "\n",
    "import pandas as pd"
   ]
  },
  {
   "cell_type": "markdown",
   "id": "2b71b52e-05db-4a47-8c8c-ec8f4fd9c283",
   "metadata": {},
   "source": [
    "# **2. Initialize PRAW**"
   ]
  },
  {
   "cell_type": "code",
   "execution_count": 2,
   "id": "103d7151-cf2e-47cb-82c2-578faa763888",
   "metadata": {},
   "outputs": [],
   "source": [
    "# Dummified my credentials\n",
    "# Saved my credentials in a secret spot\n",
    "\n",
    "reddit = praw.Reddit(\n",
    "    client_id='dummy',\n",
    "    client_secret='dummy',\n",
    "    user_agent='dummy',\n",
    "    username='dummy',\n",
    "    password='dummy'\n",
    ")"
   ]
  },
  {
   "cell_type": "markdown",
   "id": "072ea3ea-ab20-4fe5-8711-dbe220400fa3",
   "metadata": {},
   "source": [
    "# **3. Read in Subreddits**"
   ]
  },
  {
   "cell_type": "code",
   "execution_count": 3,
   "id": "17aa261b-f63a-4437-ac41-242982cb546c",
   "metadata": {},
   "outputs": [],
   "source": [
    "# Reading in subreddit UnresolvedMysteries\n",
    "subreddit1 = reddit.subreddit('UnresolvedMysteries')\n",
    "\n",
    "# Pulling new, hot and top subreddits\n",
    "# Adjusting the limit to 1000 since we need at least 1000 posts\n",
    "posts1_new = subreddit1.new(limit=1000)\n",
    "posts1_hot = subreddit1.hot(limit=1000)\n",
    "posts1_top = subreddit1.top(limit=1000)"
   ]
  },
  {
   "cell_type": "code",
   "execution_count": 4,
   "id": "18b03730",
   "metadata": {},
   "outputs": [],
   "source": [
    "# Reading in subreddit FanTheories\n",
    "subreddit2 = reddit.subreddit('FanTheories')\n",
    "\n",
    "# Pulling new, hot and top subreddits\n",
    "# Adjusting the limit to 1000 since we need at least 1000 posts\n",
    "posts2_new = subreddit2.new(limit=1000)\n",
    "posts2_hot = subreddit2.hot(limit=1000)\n",
    "posts2_top = subreddit2.top(limit=1000)"
   ]
  },
  {
   "cell_type": "code",
   "execution_count": 5,
   "id": "a1b221e2-244d-42dc-9c89-1d04134fc7d2",
   "metadata": {
    "tags": []
   },
   "outputs": [
    {
     "data": {
      "text/html": [
       "<div>\n",
       "<style scoped>\n",
       "    .dataframe tbody tr th:only-of-type {\n",
       "        vertical-align: middle;\n",
       "    }\n",
       "\n",
       "    .dataframe tbody tr th {\n",
       "        vertical-align: top;\n",
       "    }\n",
       "\n",
       "    .dataframe thead th {\n",
       "        text-align: right;\n",
       "    }\n",
       "</style>\n",
       "<table border=\"1\" class=\"dataframe\">\n",
       "  <thead>\n",
       "    <tr style=\"text-align: right;\">\n",
       "      <th></th>\n",
       "      <th>created_utc</th>\n",
       "      <th>title</th>\n",
       "      <th>self_text</th>\n",
       "      <th>subreddit</th>\n",
       "      <th>score</th>\n",
       "      <th>num_comments</th>\n",
       "    </tr>\n",
       "  </thead>\n",
       "  <tbody>\n",
       "    <tr>\n",
       "      <th>0</th>\n",
       "      <td>1.709228e+09</td>\n",
       "      <td>A ten year old goes out to run errands and nev...</td>\n",
       "      <td>Ten-year-old Mary Ann Verdecchia was excited o...</td>\n",
       "      <td>UnresolvedMysteries</td>\n",
       "      <td>346</td>\n",
       "      <td>39</td>\n",
       "    </tr>\n",
       "    <tr>\n",
       "      <th>1</th>\n",
       "      <td>1.709215e+09</td>\n",
       "      <td>A Shadow Over Leigh: The Unsolved Murder of 14...</td>\n",
       "      <td>**Background**  \\nLisa Hession was a 14 year o...</td>\n",
       "      <td>UnresolvedMysteries</td>\n",
       "      <td>217</td>\n",
       "      <td>23</td>\n",
       "    </tr>\n",
       "    <tr>\n",
       "      <th>2</th>\n",
       "      <td>1.709175e+09</td>\n",
       "      <td>Tera Tracy</td>\n",
       "      <td>Saw this story online and thought it was worth...</td>\n",
       "      <td>UnresolvedMysteries</td>\n",
       "      <td>67</td>\n",
       "      <td>10</td>\n",
       "    </tr>\n",
       "    <tr>\n",
       "      <th>3</th>\n",
       "      <td>1.709069e+09</td>\n",
       "      <td>The Boy and the Bike: the Disappearance of Dav...</td>\n",
       "      <td>I know this has been covered a few times, but ...</td>\n",
       "      <td>UnresolvedMysteries</td>\n",
       "      <td>348</td>\n",
       "      <td>54</td>\n",
       "    </tr>\n",
       "    <tr>\n",
       "      <th>4</th>\n",
       "      <td>1.709053e+09</td>\n",
       "      <td>A body of a young man is found near a parkway,...</td>\n",
       "      <td>Hello everyone! Thank you for all your comment...</td>\n",
       "      <td>UnresolvedMysteries</td>\n",
       "      <td>231</td>\n",
       "      <td>35</td>\n",
       "    </tr>\n",
       "  </tbody>\n",
       "</table>\n",
       "</div>"
      ],
      "text/plain": [
       "    created_utc                                              title  \\\n",
       "0  1.709228e+09  A ten year old goes out to run errands and nev...   \n",
       "1  1.709215e+09  A Shadow Over Leigh: The Unsolved Murder of 14...   \n",
       "2  1.709175e+09                                         Tera Tracy   \n",
       "3  1.709069e+09  The Boy and the Bike: the Disappearance of Dav...   \n",
       "4  1.709053e+09  A body of a young man is found near a parkway,...   \n",
       "\n",
       "                                           self_text            subreddit  \\\n",
       "0  Ten-year-old Mary Ann Verdecchia was excited o...  UnresolvedMysteries   \n",
       "1  **Background**  \\nLisa Hession was a 14 year o...  UnresolvedMysteries   \n",
       "2  Saw this story online and thought it was worth...  UnresolvedMysteries   \n",
       "3  I know this has been covered a few times, but ...  UnresolvedMysteries   \n",
       "4  Hello everyone! Thank you for all your comment...  UnresolvedMysteries   \n",
       "\n",
       "   score  num_comments  \n",
       "0    346            39  \n",
       "1    217            23  \n",
       "2     67            10  \n",
       "3    348            54  \n",
       "4    231            35  "
      ]
     },
     "execution_count": 5,
     "metadata": {},
     "output_type": "execute_result"
    }
   ],
   "source": [
    "# Looping through new posts and creating dataframe with needed columns\n",
    "data = []\n",
    "for post in posts1_new:\n",
    "    data.append([post.created_utc, post.title, post.selftext, post.subreddit, post.score, post.num_comments])\n",
    "\n",
    "# Turn into a dataframe\n",
    "mysteries_new = pd.DataFrame(data, columns = ['created_utc', 'title', 'self_text', 'subreddit', 'score', 'num_comments'])\n",
    "mysteries_new.head()"
   ]
  },
  {
   "cell_type": "code",
   "execution_count": 6,
   "id": "e72fadef",
   "metadata": {},
   "outputs": [],
   "source": [
    "# Below is a function I was working on to use but did not get the time to implement\n",
    "\n",
    "# def subreddit(mysubreddit):\n",
    "#     subreddit = reddit.subreddit(mysubreddit)\n",
    "#     post = subreddit.top(limit=1000)\n",
    "#     data = []\n",
    "    \n",
    "#     for row in post:\n",
    "#         data.append([row.created_utc, row.title, row.selftext, row.subreddit])\n",
    "#         df = pd.DataFrame(data, columns = ['created_utc', 'title', 'self_text', 'subreddit'])\n",
    "#     return df"
   ]
  },
  {
   "cell_type": "code",
   "execution_count": 7,
   "id": "81f495e6",
   "metadata": {},
   "outputs": [],
   "source": [
    "# subreddit('UnresolvedMysteries')"
   ]
  },
  {
   "cell_type": "code",
   "execution_count": 8,
   "id": "c4856bb3",
   "metadata": {},
   "outputs": [
    {
     "data": {
      "text/plain": [
       "(931, 6)"
      ]
     },
     "execution_count": 8,
     "metadata": {},
     "output_type": "execute_result"
    }
   ],
   "source": [
    "# Looking at how many rows of data we got\n",
    "mysteries_new.shape"
   ]
  },
  {
   "cell_type": "code",
   "execution_count": 9,
   "id": "0d5ab59b",
   "metadata": {},
   "outputs": [
    {
     "data": {
      "text/html": [
       "<div>\n",
       "<style scoped>\n",
       "    .dataframe tbody tr th:only-of-type {\n",
       "        vertical-align: middle;\n",
       "    }\n",
       "\n",
       "    .dataframe tbody tr th {\n",
       "        vertical-align: top;\n",
       "    }\n",
       "\n",
       "    .dataframe thead th {\n",
       "        text-align: right;\n",
       "    }\n",
       "</style>\n",
       "<table border=\"1\" class=\"dataframe\">\n",
       "  <thead>\n",
       "    <tr style=\"text-align: right;\">\n",
       "      <th></th>\n",
       "      <th>created_utc</th>\n",
       "      <th>title</th>\n",
       "      <th>self_text</th>\n",
       "      <th>subreddit</th>\n",
       "      <th>score</th>\n",
       "      <th>num_comments</th>\n",
       "    </tr>\n",
       "  </thead>\n",
       "  <tbody>\n",
       "    <tr>\n",
       "      <th>0</th>\n",
       "      <td>1.708949e+09</td>\n",
       "      <td>Meta Monday! - February 26, 2024 Talk about an...</td>\n",
       "      <td>This is a weekly thread for off topic discussi...</td>\n",
       "      <td>UnresolvedMysteries</td>\n",
       "      <td>15</td>\n",
       "      <td>4</td>\n",
       "    </tr>\n",
       "    <tr>\n",
       "      <th>1</th>\n",
       "      <td>1.706616e+09</td>\n",
       "      <td>What are you listening to, watching, or readin...</td>\n",
       "      <td>This is a weekly thread for media recommendati...</td>\n",
       "      <td>UnresolvedMysteries</td>\n",
       "      <td>27</td>\n",
       "      <td>57</td>\n",
       "    </tr>\n",
       "    <tr>\n",
       "      <th>2</th>\n",
       "      <td>1.709228e+09</td>\n",
       "      <td>A ten year old goes out to run errands and nev...</td>\n",
       "      <td>Ten-year-old Mary Ann Verdecchia was excited o...</td>\n",
       "      <td>UnresolvedMysteries</td>\n",
       "      <td>344</td>\n",
       "      <td>39</td>\n",
       "    </tr>\n",
       "    <tr>\n",
       "      <th>3</th>\n",
       "      <td>1.709215e+09</td>\n",
       "      <td>A Shadow Over Leigh: The Unsolved Murder of 14...</td>\n",
       "      <td>**Background**  \\nLisa Hession was a 14 year o...</td>\n",
       "      <td>UnresolvedMysteries</td>\n",
       "      <td>214</td>\n",
       "      <td>23</td>\n",
       "    </tr>\n",
       "    <tr>\n",
       "      <th>4</th>\n",
       "      <td>1.709175e+09</td>\n",
       "      <td>Tera Tracy</td>\n",
       "      <td>Saw this story online and thought it was worth...</td>\n",
       "      <td>UnresolvedMysteries</td>\n",
       "      <td>68</td>\n",
       "      <td>10</td>\n",
       "    </tr>\n",
       "  </tbody>\n",
       "</table>\n",
       "</div>"
      ],
      "text/plain": [
       "    created_utc                                              title  \\\n",
       "0  1.708949e+09  Meta Monday! - February 26, 2024 Talk about an...   \n",
       "1  1.706616e+09  What are you listening to, watching, or readin...   \n",
       "2  1.709228e+09  A ten year old goes out to run errands and nev...   \n",
       "3  1.709215e+09  A Shadow Over Leigh: The Unsolved Murder of 14...   \n",
       "4  1.709175e+09                                         Tera Tracy   \n",
       "\n",
       "                                           self_text            subreddit  \\\n",
       "0  This is a weekly thread for off topic discussi...  UnresolvedMysteries   \n",
       "1  This is a weekly thread for media recommendati...  UnresolvedMysteries   \n",
       "2  Ten-year-old Mary Ann Verdecchia was excited o...  UnresolvedMysteries   \n",
       "3  **Background**  \\nLisa Hession was a 14 year o...  UnresolvedMysteries   \n",
       "4  Saw this story online and thought it was worth...  UnresolvedMysteries   \n",
       "\n",
       "   score  num_comments  \n",
       "0     15             4  \n",
       "1     27            57  \n",
       "2    344            39  \n",
       "3    214            23  \n",
       "4     68            10  "
      ]
     },
     "execution_count": 9,
     "metadata": {},
     "output_type": "execute_result"
    }
   ],
   "source": [
    "# Looping through hot posts and creating dataframe with needed columns\n",
    "data = []\n",
    "for post in posts1_hot:\n",
    "    data.append([post.created_utc, post.title, post.selftext, post.subreddit, post.score, post.num_comments])\n",
    "\n",
    "# Turn into a dataframe\n",
    "mysteries_hot = pd.DataFrame(data, columns = ['created_utc', 'title', 'self_text', 'subreddit', 'score', 'num_comments'])\n",
    "mysteries_hot.head()"
   ]
  },
  {
   "cell_type": "code",
   "execution_count": 10,
   "id": "11154e00",
   "metadata": {},
   "outputs": [
    {
     "data": {
      "text/plain": [
       "(459, 6)"
      ]
     },
     "execution_count": 10,
     "metadata": {},
     "output_type": "execute_result"
    }
   ],
   "source": [
    "# Looking at how many rows of data we got\n",
    "mysteries_hot.shape"
   ]
  },
  {
   "cell_type": "code",
   "execution_count": 11,
   "id": "f930a3a0",
   "metadata": {},
   "outputs": [
    {
     "data": {
      "text/html": [
       "<div>\n",
       "<style scoped>\n",
       "    .dataframe tbody tr th:only-of-type {\n",
       "        vertical-align: middle;\n",
       "    }\n",
       "\n",
       "    .dataframe tbody tr th {\n",
       "        vertical-align: top;\n",
       "    }\n",
       "\n",
       "    .dataframe thead th {\n",
       "        text-align: right;\n",
       "    }\n",
       "</style>\n",
       "<table border=\"1\" class=\"dataframe\">\n",
       "  <thead>\n",
       "    <tr style=\"text-align: right;\">\n",
       "      <th></th>\n",
       "      <th>created_utc</th>\n",
       "      <th>title</th>\n",
       "      <th>self_text</th>\n",
       "      <th>subreddit</th>\n",
       "      <th>score</th>\n",
       "      <th>num_comments</th>\n",
       "    </tr>\n",
       "  </thead>\n",
       "  <tbody>\n",
       "    <tr>\n",
       "      <th>0</th>\n",
       "      <td>1.607713e+09</td>\n",
       "      <td>FBI confirms that the Zodiac Killer’s “340 Cyp...</td>\n",
       "      <td>The Zodiac Killer is an unidentified serial ki...</td>\n",
       "      <td>UnresolvedMysteries</td>\n",
       "      <td>62426</td>\n",
       "      <td>2844</td>\n",
       "    </tr>\n",
       "    <tr>\n",
       "      <th>1</th>\n",
       "      <td>1.579803e+09</td>\n",
       "      <td>The mystery surrounding Britney Spears</td>\n",
       "      <td>I know this isn’t the typical content usually ...</td>\n",
       "      <td>UnresolvedMysteries</td>\n",
       "      <td>30001</td>\n",
       "      <td>1703</td>\n",
       "    </tr>\n",
       "    <tr>\n",
       "      <th>2</th>\n",
       "      <td>1.613172e+09</td>\n",
       "      <td>Why I stopped watching the Elisa Lam documentary</td>\n",
       "      <td>Right, I'm sure I'm gonna get some flack for t...</td>\n",
       "      <td>UnresolvedMysteries</td>\n",
       "      <td>26696</td>\n",
       "      <td>3417</td>\n",
       "    </tr>\n",
       "    <tr>\n",
       "      <th>3</th>\n",
       "      <td>1.524647e+09</td>\n",
       "      <td>East Area Rapist/Original Night Stalker OFFICI...</td>\n",
       "      <td>It's real, the EAR/ONS has been **officially c...</td>\n",
       "      <td>UnresolvedMysteries</td>\n",
       "      <td>25025</td>\n",
       "      <td>5137</td>\n",
       "    </tr>\n",
       "    <tr>\n",
       "      <th>4</th>\n",
       "      <td>1.653236e+09</td>\n",
       "      <td>8 months ago, the Sandy Hook shooter Adam Lanz...</td>\n",
       "      <td>https://www.reddit.com/r/masskillers/comments/...</td>\n",
       "      <td>UnresolvedMysteries</td>\n",
       "      <td>24934</td>\n",
       "      <td>1351</td>\n",
       "    </tr>\n",
       "  </tbody>\n",
       "</table>\n",
       "</div>"
      ],
      "text/plain": [
       "    created_utc                                              title  \\\n",
       "0  1.607713e+09  FBI confirms that the Zodiac Killer’s “340 Cyp...   \n",
       "1  1.579803e+09             The mystery surrounding Britney Spears   \n",
       "2  1.613172e+09   Why I stopped watching the Elisa Lam documentary   \n",
       "3  1.524647e+09  East Area Rapist/Original Night Stalker OFFICI...   \n",
       "4  1.653236e+09  8 months ago, the Sandy Hook shooter Adam Lanz...   \n",
       "\n",
       "                                           self_text            subreddit  \\\n",
       "0  The Zodiac Killer is an unidentified serial ki...  UnresolvedMysteries   \n",
       "1  I know this isn’t the typical content usually ...  UnresolvedMysteries   \n",
       "2  Right, I'm sure I'm gonna get some flack for t...  UnresolvedMysteries   \n",
       "3  It's real, the EAR/ONS has been **officially c...  UnresolvedMysteries   \n",
       "4  https://www.reddit.com/r/masskillers/comments/...  UnresolvedMysteries   \n",
       "\n",
       "   score  num_comments  \n",
       "0  62426          2844  \n",
       "1  30001          1703  \n",
       "2  26696          3417  \n",
       "3  25025          5137  \n",
       "4  24934          1351  "
      ]
     },
     "execution_count": 11,
     "metadata": {},
     "output_type": "execute_result"
    }
   ],
   "source": [
    "# Looping through top posts and creating dataframe with needed columns\n",
    "data = []\n",
    "for post in posts1_top:\n",
    "    data.append([post.created_utc, post.title, post.selftext, post.subreddit, post.score, post.num_comments])\n",
    "\n",
    "# Turn into a dataframe\n",
    "mysteries_top = pd.DataFrame(data, columns = ['created_utc', 'title', 'self_text', 'subreddit', 'score', 'num_comments'])\n",
    "mysteries_top.head()"
   ]
  },
  {
   "cell_type": "code",
   "execution_count": 12,
   "id": "bbbe9dd9",
   "metadata": {},
   "outputs": [
    {
     "data": {
      "text/plain": [
       "(997, 6)"
      ]
     },
     "execution_count": 12,
     "metadata": {},
     "output_type": "execute_result"
    }
   ],
   "source": [
    "# Looking at how many rows of data we got\n",
    "mysteries_top.shape"
   ]
  },
  {
   "cell_type": "code",
   "execution_count": 13,
   "id": "b73b85e3",
   "metadata": {},
   "outputs": [],
   "source": [
    "# Combining new, hot and top together to make one dataframe for mysteries\n",
    "frames = [mysteries_new, mysteries_hot, mysteries_top]\n",
    "unresolved_mysteries = pd.concat(frames)"
   ]
  },
  {
   "cell_type": "code",
   "execution_count": 14,
   "id": "536ab46c",
   "metadata": {},
   "outputs": [
    {
     "data": {
      "text/plain": [
       "(2387, 6)"
      ]
     },
     "execution_count": 14,
     "metadata": {},
     "output_type": "execute_result"
    }
   ],
   "source": [
    "# Looking at how many total rows of data we have\n",
    "unresolved_mysteries.shape"
   ]
  },
  {
   "cell_type": "code",
   "execution_count": 15,
   "id": "a14d8a06",
   "metadata": {},
   "outputs": [],
   "source": [
    "# Removing any duplicates\n",
    "unresolved_mysteries = unresolved_mysteries.drop_duplicates()"
   ]
  },
  {
   "cell_type": "code",
   "execution_count": 16,
   "id": "4d8159e9",
   "metadata": {},
   "outputs": [
    {
     "data": {
      "text/plain": [
       "(2324, 6)"
      ]
     },
     "execution_count": 16,
     "metadata": {},
     "output_type": "execute_result"
    }
   ],
   "source": [
    "# Checking again for how many rows we have\n",
    "unresolved_mysteries.shape"
   ]
  },
  {
   "cell_type": "code",
   "execution_count": 17,
   "id": "8743cc05",
   "metadata": {},
   "outputs": [
    {
     "data": {
      "text/html": [
       "<div>\n",
       "<style scoped>\n",
       "    .dataframe tbody tr th:only-of-type {\n",
       "        vertical-align: middle;\n",
       "    }\n",
       "\n",
       "    .dataframe tbody tr th {\n",
       "        vertical-align: top;\n",
       "    }\n",
       "\n",
       "    .dataframe thead th {\n",
       "        text-align: right;\n",
       "    }\n",
       "</style>\n",
       "<table border=\"1\" class=\"dataframe\">\n",
       "  <thead>\n",
       "    <tr style=\"text-align: right;\">\n",
       "      <th></th>\n",
       "      <th>created_utc</th>\n",
       "      <th>title</th>\n",
       "      <th>self_text</th>\n",
       "      <th>subreddit</th>\n",
       "      <th>score</th>\n",
       "      <th>num_comments</th>\n",
       "    </tr>\n",
       "  </thead>\n",
       "  <tbody>\n",
       "    <tr>\n",
       "      <th>0</th>\n",
       "      <td>1.709327e+09</td>\n",
       "      <td>(Girl, Interrupted) Lisa and Susanna are in lo...</td>\n",
       "      <td>Girl Interrupted is my favorite movie ever and...</td>\n",
       "      <td>FanTheories</td>\n",
       "      <td>0</td>\n",
       "      <td>0</td>\n",
       "    </tr>\n",
       "    <tr>\n",
       "      <th>1</th>\n",
       "      <td>1.709310e+09</td>\n",
       "      <td>[The Butterfly Effect 3: Revelations] What Hap...</td>\n",
       "      <td>An older movie with a story that is left open ...</td>\n",
       "      <td>FanTheories</td>\n",
       "      <td>4</td>\n",
       "      <td>2</td>\n",
       "    </tr>\n",
       "    <tr>\n",
       "      <th>2</th>\n",
       "      <td>1.709308e+09</td>\n",
       "      <td>[Ratatouille] Gusteau is Disney himself</td>\n",
       "      <td>Just like most Pixar movies in the Lasseter er...</td>\n",
       "      <td>FanTheories</td>\n",
       "      <td>44</td>\n",
       "      <td>5</td>\n",
       "    </tr>\n",
       "    <tr>\n",
       "      <th>3</th>\n",
       "      <td>1.709261e+09</td>\n",
       "      <td>The Hateful Eight: Warren didn't know Sandy's ...</td>\n",
       "      <td>Sandy Smithers: \"he came up this mountain look...</td>\n",
       "      <td>FanTheories</td>\n",
       "      <td>72</td>\n",
       "      <td>16</td>\n",
       "    </tr>\n",
       "    <tr>\n",
       "      <th>4</th>\n",
       "      <td>1.709234e+09</td>\n",
       "      <td>(Wallace and gromit) Wallace is abusive to gro...</td>\n",
       "      <td>throughout the series, Wallace continually pat...</td>\n",
       "      <td>FanTheories</td>\n",
       "      <td>0</td>\n",
       "      <td>8</td>\n",
       "    </tr>\n",
       "  </tbody>\n",
       "</table>\n",
       "</div>"
      ],
      "text/plain": [
       "    created_utc                                              title  \\\n",
       "0  1.709327e+09  (Girl, Interrupted) Lisa and Susanna are in lo...   \n",
       "1  1.709310e+09  [The Butterfly Effect 3: Revelations] What Hap...   \n",
       "2  1.709308e+09            [Ratatouille] Gusteau is Disney himself   \n",
       "3  1.709261e+09  The Hateful Eight: Warren didn't know Sandy's ...   \n",
       "4  1.709234e+09  (Wallace and gromit) Wallace is abusive to gro...   \n",
       "\n",
       "                                           self_text    subreddit  score  \\\n",
       "0  Girl Interrupted is my favorite movie ever and...  FanTheories      0   \n",
       "1  An older movie with a story that is left open ...  FanTheories      4   \n",
       "2  Just like most Pixar movies in the Lasseter er...  FanTheories     44   \n",
       "3  Sandy Smithers: \"he came up this mountain look...  FanTheories     72   \n",
       "4  throughout the series, Wallace continually pat...  FanTheories      0   \n",
       "\n",
       "   num_comments  \n",
       "0             0  \n",
       "1             2  \n",
       "2             5  \n",
       "3            16  \n",
       "4             8  "
      ]
     },
     "execution_count": 17,
     "metadata": {},
     "output_type": "execute_result"
    }
   ],
   "source": [
    "# Looping through new posts and creating dataframe with needed columns\n",
    "data = []\n",
    "for post in posts2_new:\n",
    "    data.append([post.created_utc, post.title, post.selftext, post.subreddit, post.score, post.num_comments])\n",
    "\n",
    "# Turn into a dataframe\n",
    "fantheories_new = pd.DataFrame(data, columns = ['created_utc', 'title', 'self_text', 'subreddit', 'score', 'num_comments'])\n",
    "fantheories_new.head()"
   ]
  },
  {
   "cell_type": "code",
   "execution_count": 18,
   "id": "daedb473",
   "metadata": {},
   "outputs": [
    {
     "data": {
      "text/plain": [
       "(867, 6)"
      ]
     },
     "execution_count": 18,
     "metadata": {},
     "output_type": "execute_result"
    }
   ],
   "source": [
    "# Looking at how many rows of data we got \n",
    "fantheories_new.shape"
   ]
  },
  {
   "cell_type": "code",
   "execution_count": 19,
   "id": "408f3716",
   "metadata": {},
   "outputs": [
    {
     "data": {
      "text/html": [
       "<div>\n",
       "<style scoped>\n",
       "    .dataframe tbody tr th:only-of-type {\n",
       "        vertical-align: middle;\n",
       "    }\n",
       "\n",
       "    .dataframe tbody tr th {\n",
       "        vertical-align: top;\n",
       "    }\n",
       "\n",
       "    .dataframe thead th {\n",
       "        text-align: right;\n",
       "    }\n",
       "</style>\n",
       "<table border=\"1\" class=\"dataframe\">\n",
       "  <thead>\n",
       "    <tr style=\"text-align: right;\">\n",
       "      <th></th>\n",
       "      <th>created_utc</th>\n",
       "      <th>title</th>\n",
       "      <th>self_text</th>\n",
       "      <th>subreddit</th>\n",
       "      <th>score</th>\n",
       "      <th>num_comments</th>\n",
       "    </tr>\n",
       "  </thead>\n",
       "  <tbody>\n",
       "    <tr>\n",
       "      <th>0</th>\n",
       "      <td>1.634130e+09</td>\n",
       "      <td>Welcome to r/FanTheories! Please read this pos...</td>\n",
       "      <td>Recently, the moderation team has noticed an u...</td>\n",
       "      <td>FanTheories</td>\n",
       "      <td>352</td>\n",
       "      <td>0</td>\n",
       "    </tr>\n",
       "    <tr>\n",
       "      <th>1</th>\n",
       "      <td>1.708465e+09</td>\n",
       "      <td>Reminder: All fan theories must be in-universe...</td>\n",
       "      <td>Recently, it came to the attention of the r/fa...</td>\n",
       "      <td>FanTheories</td>\n",
       "      <td>109</td>\n",
       "      <td>26</td>\n",
       "    </tr>\n",
       "    <tr>\n",
       "      <th>2</th>\n",
       "      <td>1.709308e+09</td>\n",
       "      <td>[Ratatouille] Gusteau is Disney himself</td>\n",
       "      <td>Just like most Pixar movies in the Lasseter er...</td>\n",
       "      <td>FanTheories</td>\n",
       "      <td>43</td>\n",
       "      <td>5</td>\n",
       "    </tr>\n",
       "    <tr>\n",
       "      <th>3</th>\n",
       "      <td>1.709261e+09</td>\n",
       "      <td>The Hateful Eight: Warren didn't know Sandy's ...</td>\n",
       "      <td>Sandy Smithers: \"he came up this mountain look...</td>\n",
       "      <td>FanTheories</td>\n",
       "      <td>72</td>\n",
       "      <td>16</td>\n",
       "    </tr>\n",
       "    <tr>\n",
       "      <th>4</th>\n",
       "      <td>1.709310e+09</td>\n",
       "      <td>[The Butterfly Effect 3: Revelations] What Hap...</td>\n",
       "      <td>An older movie with a story that is left open ...</td>\n",
       "      <td>FanTheories</td>\n",
       "      <td>5</td>\n",
       "      <td>2</td>\n",
       "    </tr>\n",
       "  </tbody>\n",
       "</table>\n",
       "</div>"
      ],
      "text/plain": [
       "    created_utc                                              title  \\\n",
       "0  1.634130e+09  Welcome to r/FanTheories! Please read this pos...   \n",
       "1  1.708465e+09  Reminder: All fan theories must be in-universe...   \n",
       "2  1.709308e+09            [Ratatouille] Gusteau is Disney himself   \n",
       "3  1.709261e+09  The Hateful Eight: Warren didn't know Sandy's ...   \n",
       "4  1.709310e+09  [The Butterfly Effect 3: Revelations] What Hap...   \n",
       "\n",
       "                                           self_text    subreddit  score  \\\n",
       "0  Recently, the moderation team has noticed an u...  FanTheories    352   \n",
       "1  Recently, it came to the attention of the r/fa...  FanTheories    109   \n",
       "2  Just like most Pixar movies in the Lasseter er...  FanTheories     43   \n",
       "3  Sandy Smithers: \"he came up this mountain look...  FanTheories     72   \n",
       "4  An older movie with a story that is left open ...  FanTheories      5   \n",
       "\n",
       "   num_comments  \n",
       "0             0  \n",
       "1            26  \n",
       "2             5  \n",
       "3            16  \n",
       "4             2  "
      ]
     },
     "execution_count": 19,
     "metadata": {},
     "output_type": "execute_result"
    }
   ],
   "source": [
    "# Looping through hot posts and creating dataframe with needed columns\n",
    "data = []\n",
    "for post in posts2_hot:\n",
    "    data.append([post.created_utc, post.title, post.selftext, post.subreddit, post.score, post.num_comments])\n",
    "\n",
    "# Turn into a dataframe\n",
    "fantheories_hot = pd.DataFrame(data, columns = ['created_utc', 'title', 'self_text', 'subreddit', 'score', 'num_comments'])\n",
    "fantheories_hot.head()"
   ]
  },
  {
   "cell_type": "code",
   "execution_count": 20,
   "id": "e01be115",
   "metadata": {},
   "outputs": [
    {
     "data": {
      "text/plain": [
       "(874, 6)"
      ]
     },
     "execution_count": 20,
     "metadata": {},
     "output_type": "execute_result"
    }
   ],
   "source": [
    "# Looking at how many rows of data we got\n",
    "fantheories_hot.shape"
   ]
  },
  {
   "cell_type": "code",
   "execution_count": 21,
   "id": "ea7b6be7",
   "metadata": {},
   "outputs": [
    {
     "data": {
      "text/html": [
       "<div>\n",
       "<style scoped>\n",
       "    .dataframe tbody tr th:only-of-type {\n",
       "        vertical-align: middle;\n",
       "    }\n",
       "\n",
       "    .dataframe tbody tr th {\n",
       "        vertical-align: top;\n",
       "    }\n",
       "\n",
       "    .dataframe thead th {\n",
       "        text-align: right;\n",
       "    }\n",
       "</style>\n",
       "<table border=\"1\" class=\"dataframe\">\n",
       "  <thead>\n",
       "    <tr style=\"text-align: right;\">\n",
       "      <th></th>\n",
       "      <th>created_utc</th>\n",
       "      <th>title</th>\n",
       "      <th>self_text</th>\n",
       "      <th>subreddit</th>\n",
       "      <th>score</th>\n",
       "      <th>num_comments</th>\n",
       "    </tr>\n",
       "  </thead>\n",
       "  <tbody>\n",
       "    <tr>\n",
       "      <th>0</th>\n",
       "      <td>1.531675e+09</td>\n",
       "      <td>[SPOILERS] Infinity War: \"...you never once us...</td>\n",
       "      <td>The title quote comes from Thanos speaking to ...</td>\n",
       "      <td>FanTheories</td>\n",
       "      <td>13542</td>\n",
       "      <td>819</td>\n",
       "    </tr>\n",
       "    <tr>\n",
       "      <th>1</th>\n",
       "      <td>1.481235e+09</td>\n",
       "      <td>The entire movie of Aladdin was simply the ful...</td>\n",
       "      <td>Something that always bothered and confused me...</td>\n",
       "      <td>FanTheories</td>\n",
       "      <td>13246</td>\n",
       "      <td>686</td>\n",
       "    </tr>\n",
       "    <tr>\n",
       "      <th>2</th>\n",
       "      <td>1.555263e+09</td>\n",
       "      <td>Why Steve Rogers was able to resist Thanos.</td>\n",
       "      <td>I'm referring to at 0:33 in this video:  [http...</td>\n",
       "      <td>FanTheories</td>\n",
       "      <td>12128</td>\n",
       "      <td>598</td>\n",
       "    </tr>\n",
       "    <tr>\n",
       "      <th>3</th>\n",
       "      <td>1.542909e+09</td>\n",
       "      <td>[Harry Potter] [Spoilers] Ron Weasley used the...</td>\n",
       "      <td>**WARNING: SPOILERS ARE ALL OVER THIS THEORY L...</td>\n",
       "      <td>FanTheories</td>\n",
       "      <td>11322</td>\n",
       "      <td>864</td>\n",
       "    </tr>\n",
       "    <tr>\n",
       "      <th>4</th>\n",
       "      <td>1.482197e+09</td>\n",
       "      <td>Predator (1987): The alien tries each man's ma...</td>\n",
       "      <td>It's a well-worn idea that _Predator_ is a fil...</td>\n",
       "      <td>FanTheories</td>\n",
       "      <td>11010</td>\n",
       "      <td>298</td>\n",
       "    </tr>\n",
       "  </tbody>\n",
       "</table>\n",
       "</div>"
      ],
      "text/plain": [
       "    created_utc                                              title  \\\n",
       "0  1.531675e+09  [SPOILERS] Infinity War: \"...you never once us...   \n",
       "1  1.481235e+09  The entire movie of Aladdin was simply the ful...   \n",
       "2  1.555263e+09        Why Steve Rogers was able to resist Thanos.   \n",
       "3  1.542909e+09  [Harry Potter] [Spoilers] Ron Weasley used the...   \n",
       "4  1.482197e+09  Predator (1987): The alien tries each man's ma...   \n",
       "\n",
       "                                           self_text    subreddit  score  \\\n",
       "0  The title quote comes from Thanos speaking to ...  FanTheories  13542   \n",
       "1  Something that always bothered and confused me...  FanTheories  13246   \n",
       "2  I'm referring to at 0:33 in this video:  [http...  FanTheories  12128   \n",
       "3  **WARNING: SPOILERS ARE ALL OVER THIS THEORY L...  FanTheories  11322   \n",
       "4  It's a well-worn idea that _Predator_ is a fil...  FanTheories  11010   \n",
       "\n",
       "   num_comments  \n",
       "0           819  \n",
       "1           686  \n",
       "2           598  \n",
       "3           864  \n",
       "4           298  "
      ]
     },
     "execution_count": 21,
     "metadata": {},
     "output_type": "execute_result"
    }
   ],
   "source": [
    "# Looping through top posts and creating dataframe with needed columns\n",
    "data = []\n",
    "for post in posts2_top:\n",
    "    data.append([post.created_utc, post.title, post.selftext, post.subreddit, post.score, post.num_comments])\n",
    "\n",
    "# Turn into a dataframe\n",
    "fantheories_top = pd.DataFrame(data, columns = ['created_utc', 'title', 'self_text', 'subreddit', 'score', 'num_comments'])\n",
    "fantheories_top.head()"
   ]
  },
  {
   "cell_type": "code",
   "execution_count": 22,
   "id": "2cb03b4a",
   "metadata": {},
   "outputs": [
    {
     "data": {
      "text/plain": [
       "(998, 6)"
      ]
     },
     "execution_count": 22,
     "metadata": {},
     "output_type": "execute_result"
    }
   ],
   "source": [
    "# Looking at how many rows of data we got\n",
    "fantheories_top.shape"
   ]
  },
  {
   "cell_type": "code",
   "execution_count": 23,
   "id": "68225387",
   "metadata": {},
   "outputs": [],
   "source": [
    "# Combining new, hot and top together to make one dataframe for fantheories\n",
    "frames = [fantheories_new, fantheories_hot, fantheories_top]\n",
    "fan_theories = pd.concat(frames)"
   ]
  },
  {
   "cell_type": "code",
   "execution_count": 24,
   "id": "e9a248ca",
   "metadata": {},
   "outputs": [
    {
     "data": {
      "text/plain": [
       "(2739, 6)"
      ]
     },
     "execution_count": 24,
     "metadata": {},
     "output_type": "execute_result"
    }
   ],
   "source": [
    "# Looking at how many total rows of data we have\n",
    "fan_theories.shape"
   ]
  },
  {
   "cell_type": "code",
   "execution_count": 25,
   "id": "ce672187",
   "metadata": {},
   "outputs": [],
   "source": [
    "# Removing any duplicates\n",
    "fan_theories = fan_theories.drop_duplicates()"
   ]
  },
  {
   "cell_type": "code",
   "execution_count": 26,
   "id": "7e204e6d",
   "metadata": {},
   "outputs": [
    {
     "data": {
      "text/plain": [
       "(2461, 6)"
      ]
     },
     "execution_count": 26,
     "metadata": {},
     "output_type": "execute_result"
    }
   ],
   "source": [
    "# Checking again for how many rows we have\n",
    "fan_theories.shape"
   ]
  },
  {
   "cell_type": "code",
   "execution_count": 27,
   "id": "e7c44903",
   "metadata": {},
   "outputs": [
    {
     "data": {
      "text/html": [
       "<div>\n",
       "<style scoped>\n",
       "    .dataframe tbody tr th:only-of-type {\n",
       "        vertical-align: middle;\n",
       "    }\n",
       "\n",
       "    .dataframe tbody tr th {\n",
       "        vertical-align: top;\n",
       "    }\n",
       "\n",
       "    .dataframe thead th {\n",
       "        text-align: right;\n",
       "    }\n",
       "</style>\n",
       "<table border=\"1\" class=\"dataframe\">\n",
       "  <thead>\n",
       "    <tr style=\"text-align: right;\">\n",
       "      <th></th>\n",
       "      <th>created_utc</th>\n",
       "      <th>title</th>\n",
       "      <th>self_text</th>\n",
       "      <th>subreddit</th>\n",
       "      <th>score</th>\n",
       "      <th>num_comments</th>\n",
       "    </tr>\n",
       "  </thead>\n",
       "  <tbody>\n",
       "    <tr>\n",
       "      <th>0</th>\n",
       "      <td>1.709228e+09</td>\n",
       "      <td>A ten year old goes out to run errands and nev...</td>\n",
       "      <td>Ten-year-old Mary Ann Verdecchia was excited o...</td>\n",
       "      <td>UnresolvedMysteries</td>\n",
       "      <td>346</td>\n",
       "      <td>39</td>\n",
       "    </tr>\n",
       "    <tr>\n",
       "      <th>1</th>\n",
       "      <td>1.709215e+09</td>\n",
       "      <td>A Shadow Over Leigh: The Unsolved Murder of 14...</td>\n",
       "      <td>**Background**  \\nLisa Hession was a 14 year o...</td>\n",
       "      <td>UnresolvedMysteries</td>\n",
       "      <td>217</td>\n",
       "      <td>23</td>\n",
       "    </tr>\n",
       "    <tr>\n",
       "      <th>2</th>\n",
       "      <td>1.709175e+09</td>\n",
       "      <td>Tera Tracy</td>\n",
       "      <td>Saw this story online and thought it was worth...</td>\n",
       "      <td>UnresolvedMysteries</td>\n",
       "      <td>67</td>\n",
       "      <td>10</td>\n",
       "    </tr>\n",
       "    <tr>\n",
       "      <th>3</th>\n",
       "      <td>1.709069e+09</td>\n",
       "      <td>The Boy and the Bike: the Disappearance of Dav...</td>\n",
       "      <td>I know this has been covered a few times, but ...</td>\n",
       "      <td>UnresolvedMysteries</td>\n",
       "      <td>348</td>\n",
       "      <td>54</td>\n",
       "    </tr>\n",
       "    <tr>\n",
       "      <th>4</th>\n",
       "      <td>1.709053e+09</td>\n",
       "      <td>A body of a young man is found near a parkway,...</td>\n",
       "      <td>Hello everyone! Thank you for all your comment...</td>\n",
       "      <td>UnresolvedMysteries</td>\n",
       "      <td>231</td>\n",
       "      <td>35</td>\n",
       "    </tr>\n",
       "  </tbody>\n",
       "</table>\n",
       "</div>"
      ],
      "text/plain": [
       "    created_utc                                              title  \\\n",
       "0  1.709228e+09  A ten year old goes out to run errands and nev...   \n",
       "1  1.709215e+09  A Shadow Over Leigh: The Unsolved Murder of 14...   \n",
       "2  1.709175e+09                                         Tera Tracy   \n",
       "3  1.709069e+09  The Boy and the Bike: the Disappearance of Dav...   \n",
       "4  1.709053e+09  A body of a young man is found near a parkway,...   \n",
       "\n",
       "                                           self_text            subreddit  \\\n",
       "0  Ten-year-old Mary Ann Verdecchia was excited o...  UnresolvedMysteries   \n",
       "1  **Background**  \\nLisa Hession was a 14 year o...  UnresolvedMysteries   \n",
       "2  Saw this story online and thought it was worth...  UnresolvedMysteries   \n",
       "3  I know this has been covered a few times, but ...  UnresolvedMysteries   \n",
       "4  Hello everyone! Thank you for all your comment...  UnresolvedMysteries   \n",
       "\n",
       "   score  num_comments  \n",
       "0    346            39  \n",
       "1    217            23  \n",
       "2     67            10  \n",
       "3    348            54  \n",
       "4    231            35  "
      ]
     },
     "execution_count": 27,
     "metadata": {},
     "output_type": "execute_result"
    }
   ],
   "source": [
    "# Combining unresolved_mysteries and fan_theories together to get one dataframe\n",
    "reddits = [unresolved_mysteries, fan_theories]\n",
    "redditdata1 =  pd.concat(reddits)\n",
    "redditdata1.head()"
   ]
  },
  {
   "cell_type": "code",
   "execution_count": 28,
   "id": "f77544a1",
   "metadata": {},
   "outputs": [
    {
     "data": {
      "text/plain": [
       "(4785, 6)"
      ]
     },
     "execution_count": 28,
     "metadata": {},
     "output_type": "execute_result"
    }
   ],
   "source": [
    "# Checking how many total rows we have\n",
    "redditdata1.shape"
   ]
  },
  {
   "cell_type": "code",
   "execution_count": 29,
   "id": "ca357f04",
   "metadata": {},
   "outputs": [],
   "source": [
    "# Writing the data out to be cleaned in the next step\n",
    "redditdata1.to_csv('./data/reddit_data.csv')"
   ]
  }
 ],
 "metadata": {
  "kernelspec": {
   "display_name": "Python 3 (ipykernel)",
   "language": "python",
   "name": "python3"
  },
  "language_info": {
   "codemirror_mode": {
    "name": "ipython",
    "version": 3
   },
   "file_extension": ".py",
   "mimetype": "text/x-python",
   "name": "python",
   "nbconvert_exporter": "python",
   "pygments_lexer": "ipython3",
   "version": "3.11.5"
  }
 },
 "nbformat": 4,
 "nbformat_minor": 5
}
