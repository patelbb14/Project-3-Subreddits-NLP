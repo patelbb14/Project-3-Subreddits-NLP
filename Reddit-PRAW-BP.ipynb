{
 "cells": [
  {
   "cell_type": "markdown",
   "id": "bc426077-0da2-49af-8e9f-e7a27ebaadd9",
   "metadata": {},
   "source": [
    "# **1. Install PRAW and Pandas**"
   ]
  },
  {
   "cell_type": "code",
   "execution_count": 16,
   "id": "6a3e56be-a4bf-43d4-8c57-7f9954b44b46",
   "metadata": {},
   "outputs": [],
   "source": [
    "#!pip install praw\n",
    "import praw\n",
    "\n",
    "# Install pandas\n",
    "import pandas as pd"
   ]
  },
  {
   "cell_type": "markdown",
   "id": "2b71b52e-05db-4a47-8c8c-ec8f4fd9c283",
   "metadata": {},
   "source": [
    "# **2. Initialize PRAW**"
   ]
  },
  {
   "cell_type": "code",
   "execution_count": 17,
   "id": "103d7151-cf2e-47cb-82c2-578faa763888",
   "metadata": {},
   "outputs": [],
   "source": [
    "reddit = praw.Reddit(\n",
    "    client_id='2H3B2NBxh9P_qMJw2dId5A',\n",
    "    client_secret='GzJrjhrOXbgHrgjxr6wZxM97owcjOA',\n",
    "    user_agent='Due_Truth_6829_GA_user',\n",
    "    username='Due_Truth_6829',\n",
    "    password='Tushar1014!'\n",
    ")"
   ]
  },
  {
   "cell_type": "markdown",
   "id": "072ea3ea-ab20-4fe5-8711-dbe220400fa3",
   "metadata": {},
   "source": [
    "# **3. Read in Subreddits**"
   ]
  },
  {
   "cell_type": "code",
   "execution_count": 18,
   "id": "17aa261b-f63a-4437-ac41-242982cb546c",
   "metadata": {},
   "outputs": [],
   "source": [
    "# Reading in subreddit UnresolvedMysteries\n",
    "subreddit1 = reddit.subreddit('UnresolvedMysteries')\n",
    "\n",
    "# Pulling new, hot and top subreddits\n",
    "# Adjusting the limit to 1000 since we need at least 1000 posts\n",
    "posts1_new = subreddit1.new(limit=1000)\n",
    "posts1_hot = subreddit1.hot(limit=1000)\n",
    "posts1_top = subreddit1.top(limit=1000)"
   ]
  },
  {
   "cell_type": "code",
   "execution_count": 19,
   "id": "18b03730",
   "metadata": {},
   "outputs": [],
   "source": [
    "# Reading in subreddit FanTheories\n",
    "subreddit2 = reddit.subreddit('FanTheories')\n",
    "\n",
    "# Pulling new, hot and top subreddits\n",
    "# Adjusting the limit to 1000 since we need at least 1000 posts\n",
    "posts2_new = subreddit2.new(limit=1000)\n",
    "posts2_hot = subreddit2.hot(limit=1000)\n",
    "posts2_top = subreddit2.top(limit=1000)"
   ]
  },
  {
   "cell_type": "code",
   "execution_count": 20,
   "id": "a1b221e2-244d-42dc-9c89-1d04134fc7d2",
   "metadata": {
    "tags": []
   },
   "outputs": [
    {
     "data": {
      "text/html": [
       "<div>\n",
       "<style scoped>\n",
       "    .dataframe tbody tr th:only-of-type {\n",
       "        vertical-align: middle;\n",
       "    }\n",
       "\n",
       "    .dataframe tbody tr th {\n",
       "        vertical-align: top;\n",
       "    }\n",
       "\n",
       "    .dataframe thead th {\n",
       "        text-align: right;\n",
       "    }\n",
       "</style>\n",
       "<table border=\"1\" class=\"dataframe\">\n",
       "  <thead>\n",
       "    <tr style=\"text-align: right;\">\n",
       "      <th></th>\n",
       "      <th>created_utc</th>\n",
       "      <th>title</th>\n",
       "      <th>self_text</th>\n",
       "      <th>subreddit</th>\n",
       "      <th>score</th>\n",
       "      <th>num_comments</th>\n",
       "    </tr>\n",
       "  </thead>\n",
       "  <tbody>\n",
       "    <tr>\n",
       "      <th>0</th>\n",
       "      <td>1.709248e+09</td>\n",
       "      <td>Jim Mordecai and the Santa Rosa Hitchhiker Mur...</td>\n",
       "      <td>Was Mordecai the serial killer who abducted an...</td>\n",
       "      <td>UnresolvedMysteries</td>\n",
       "      <td>20</td>\n",
       "      <td>10</td>\n",
       "    </tr>\n",
       "    <tr>\n",
       "      <th>1</th>\n",
       "      <td>1.709228e+09</td>\n",
       "      <td>A ten year old goes out to run errands and nev...</td>\n",
       "      <td>Ten-year-old Mary Ann Verdecchia was excited o...</td>\n",
       "      <td>UnresolvedMysteries</td>\n",
       "      <td>168</td>\n",
       "      <td>20</td>\n",
       "    </tr>\n",
       "    <tr>\n",
       "      <th>2</th>\n",
       "      <td>1.709215e+09</td>\n",
       "      <td>A Shadow Over Leigh: The Unsolved Murder of 14...</td>\n",
       "      <td>**Background**  \\nLisa Hession was a 14 year o...</td>\n",
       "      <td>UnresolvedMysteries</td>\n",
       "      <td>121</td>\n",
       "      <td>13</td>\n",
       "    </tr>\n",
       "    <tr>\n",
       "      <th>3</th>\n",
       "      <td>1.709175e+09</td>\n",
       "      <td>Tera Tracy</td>\n",
       "      <td>Saw this story online and thought it was worth...</td>\n",
       "      <td>UnresolvedMysteries</td>\n",
       "      <td>53</td>\n",
       "      <td>8</td>\n",
       "    </tr>\n",
       "    <tr>\n",
       "      <th>4</th>\n",
       "      <td>1.709069e+09</td>\n",
       "      <td>The Boy and the Bike: the Disappearance of Dav...</td>\n",
       "      <td>I know this has been covered a few times, but ...</td>\n",
       "      <td>UnresolvedMysteries</td>\n",
       "      <td>337</td>\n",
       "      <td>51</td>\n",
       "    </tr>\n",
       "  </tbody>\n",
       "</table>\n",
       "</div>"
      ],
      "text/plain": [
       "    created_utc                                              title  \\\n",
       "0  1.709248e+09  Jim Mordecai and the Santa Rosa Hitchhiker Mur...   \n",
       "1  1.709228e+09  A ten year old goes out to run errands and nev...   \n",
       "2  1.709215e+09  A Shadow Over Leigh: The Unsolved Murder of 14...   \n",
       "3  1.709175e+09                                         Tera Tracy   \n",
       "4  1.709069e+09  The Boy and the Bike: the Disappearance of Dav...   \n",
       "\n",
       "                                           self_text            subreddit  \\\n",
       "0  Was Mordecai the serial killer who abducted an...  UnresolvedMysteries   \n",
       "1  Ten-year-old Mary Ann Verdecchia was excited o...  UnresolvedMysteries   \n",
       "2  **Background**  \\nLisa Hession was a 14 year o...  UnresolvedMysteries   \n",
       "3  Saw this story online and thought it was worth...  UnresolvedMysteries   \n",
       "4  I know this has been covered a few times, but ...  UnresolvedMysteries   \n",
       "\n",
       "   score  num_comments  \n",
       "0     20            10  \n",
       "1    168            20  \n",
       "2    121            13  \n",
       "3     53             8  \n",
       "4    337            51  "
      ]
     },
     "execution_count": 20,
     "metadata": {},
     "output_type": "execute_result"
    }
   ],
   "source": [
    "data = []\n",
    "for post in posts1_new:\n",
    "    data.append([post.created_utc, post.title, post.selftext, post.subreddit, post.score, post.num_comments])\n",
    "\n",
    "# Turn into a dataframe\n",
    "mysteries_new = pd.DataFrame(data, columns = ['created_utc', 'title', 'self_text', 'subreddit', 'score', 'num_comments'])\n",
    "mysteries_new.head()"
   ]
  },
  {
   "cell_type": "code",
   "execution_count": 21,
   "id": "e72fadef",
   "metadata": {},
   "outputs": [],
   "source": [
    "# def subreddit(mysubreddit):\n",
    "#     subreddit = reddit.subreddit(mysubreddit)\n",
    "#     post = subreddit.top(limit=1000)\n",
    "#     data = []\n",
    "    \n",
    "#     for row in post:\n",
    "#         data.append([row.created_utc, row.title, row.selftext, row.subreddit])\n",
    "#         df = pd.DataFrame(data, columns = ['created_utc', 'title', 'self_text', 'subreddit'])\n",
    "#     return df"
   ]
  },
  {
   "cell_type": "code",
   "execution_count": 22,
   "id": "81f495e6",
   "metadata": {},
   "outputs": [],
   "source": [
    "# subreddit('UnresolvedMysteries')"
   ]
  },
  {
   "cell_type": "code",
   "execution_count": 23,
   "id": "c4856bb3",
   "metadata": {},
   "outputs": [
    {
     "data": {
      "text/plain": [
       "(932, 6)"
      ]
     },
     "execution_count": 23,
     "metadata": {},
     "output_type": "execute_result"
    }
   ],
   "source": [
    "mysteries_new.shape"
   ]
  },
  {
   "cell_type": "code",
   "execution_count": 24,
   "id": "0d5ab59b",
   "metadata": {},
   "outputs": [
    {
     "data": {
      "text/html": [
       "<div>\n",
       "<style scoped>\n",
       "    .dataframe tbody tr th:only-of-type {\n",
       "        vertical-align: middle;\n",
       "    }\n",
       "\n",
       "    .dataframe tbody tr th {\n",
       "        vertical-align: top;\n",
       "    }\n",
       "\n",
       "    .dataframe thead th {\n",
       "        text-align: right;\n",
       "    }\n",
       "</style>\n",
       "<table border=\"1\" class=\"dataframe\">\n",
       "  <thead>\n",
       "    <tr style=\"text-align: right;\">\n",
       "      <th></th>\n",
       "      <th>created_utc</th>\n",
       "      <th>title</th>\n",
       "      <th>self_text</th>\n",
       "      <th>subreddit</th>\n",
       "      <th>score</th>\n",
       "      <th>num_comments</th>\n",
       "    </tr>\n",
       "  </thead>\n",
       "  <tbody>\n",
       "    <tr>\n",
       "      <th>0</th>\n",
       "      <td>1.708949e+09</td>\n",
       "      <td>Meta Monday! - February 26, 2024 Talk about an...</td>\n",
       "      <td>This is a weekly thread for off topic discussi...</td>\n",
       "      <td>UnresolvedMysteries</td>\n",
       "      <td>14</td>\n",
       "      <td>3</td>\n",
       "    </tr>\n",
       "    <tr>\n",
       "      <th>1</th>\n",
       "      <td>1.706616e+09</td>\n",
       "      <td>What are you listening to, watching, or readin...</td>\n",
       "      <td>This is a weekly thread for media recommendati...</td>\n",
       "      <td>UnresolvedMysteries</td>\n",
       "      <td>28</td>\n",
       "      <td>56</td>\n",
       "    </tr>\n",
       "    <tr>\n",
       "      <th>2</th>\n",
       "      <td>1.709228e+09</td>\n",
       "      <td>A ten year old goes out to run errands and nev...</td>\n",
       "      <td>Ten-year-old Mary Ann Verdecchia was excited o...</td>\n",
       "      <td>UnresolvedMysteries</td>\n",
       "      <td>172</td>\n",
       "      <td>20</td>\n",
       "    </tr>\n",
       "    <tr>\n",
       "      <th>3</th>\n",
       "      <td>1.709215e+09</td>\n",
       "      <td>A Shadow Over Leigh: The Unsolved Murder of 14...</td>\n",
       "      <td>**Background**  \\nLisa Hession was a 14 year o...</td>\n",
       "      <td>UnresolvedMysteries</td>\n",
       "      <td>122</td>\n",
       "      <td>13</td>\n",
       "    </tr>\n",
       "    <tr>\n",
       "      <th>4</th>\n",
       "      <td>1.709248e+09</td>\n",
       "      <td>Jim Mordecai and the Santa Rosa Hitchhiker Mur...</td>\n",
       "      <td>Was Mordecai the serial killer who abducted an...</td>\n",
       "      <td>UnresolvedMysteries</td>\n",
       "      <td>21</td>\n",
       "      <td>10</td>\n",
       "    </tr>\n",
       "  </tbody>\n",
       "</table>\n",
       "</div>"
      ],
      "text/plain": [
       "    created_utc                                              title  \\\n",
       "0  1.708949e+09  Meta Monday! - February 26, 2024 Talk about an...   \n",
       "1  1.706616e+09  What are you listening to, watching, or readin...   \n",
       "2  1.709228e+09  A ten year old goes out to run errands and nev...   \n",
       "3  1.709215e+09  A Shadow Over Leigh: The Unsolved Murder of 14...   \n",
       "4  1.709248e+09  Jim Mordecai and the Santa Rosa Hitchhiker Mur...   \n",
       "\n",
       "                                           self_text            subreddit  \\\n",
       "0  This is a weekly thread for off topic discussi...  UnresolvedMysteries   \n",
       "1  This is a weekly thread for media recommendati...  UnresolvedMysteries   \n",
       "2  Ten-year-old Mary Ann Verdecchia was excited o...  UnresolvedMysteries   \n",
       "3  **Background**  \\nLisa Hession was a 14 year o...  UnresolvedMysteries   \n",
       "4  Was Mordecai the serial killer who abducted an...  UnresolvedMysteries   \n",
       "\n",
       "   score  num_comments  \n",
       "0     14             3  \n",
       "1     28            56  \n",
       "2    172            20  \n",
       "3    122            13  \n",
       "4     21            10  "
      ]
     },
     "execution_count": 24,
     "metadata": {},
     "output_type": "execute_result"
    }
   ],
   "source": [
    "data = []\n",
    "for post in posts1_hot:\n",
    "    data.append([post.created_utc, post.title, post.selftext, post.subreddit, post.score, post.num_comments])\n",
    "\n",
    "# Turn into a dataframe\n",
    "mysteries_hot = pd.DataFrame(data, columns = ['created_utc', 'title', 'self_text', 'subreddit', 'score', 'num_comments'])\n",
    "mysteries_hot.head()"
   ]
  },
  {
   "cell_type": "code",
   "execution_count": 25,
   "id": "11154e00",
   "metadata": {},
   "outputs": [
    {
     "data": {
      "text/plain": [
       "(461, 6)"
      ]
     },
     "execution_count": 25,
     "metadata": {},
     "output_type": "execute_result"
    }
   ],
   "source": [
    "mysteries_hot.shape"
   ]
  },
  {
   "cell_type": "code",
   "execution_count": 26,
   "id": "f930a3a0",
   "metadata": {},
   "outputs": [
    {
     "data": {
      "text/html": [
       "<div>\n",
       "<style scoped>\n",
       "    .dataframe tbody tr th:only-of-type {\n",
       "        vertical-align: middle;\n",
       "    }\n",
       "\n",
       "    .dataframe tbody tr th {\n",
       "        vertical-align: top;\n",
       "    }\n",
       "\n",
       "    .dataframe thead th {\n",
       "        text-align: right;\n",
       "    }\n",
       "</style>\n",
       "<table border=\"1\" class=\"dataframe\">\n",
       "  <thead>\n",
       "    <tr style=\"text-align: right;\">\n",
       "      <th></th>\n",
       "      <th>created_utc</th>\n",
       "      <th>title</th>\n",
       "      <th>self_text</th>\n",
       "      <th>subreddit</th>\n",
       "      <th>score</th>\n",
       "      <th>num_comments</th>\n",
       "    </tr>\n",
       "  </thead>\n",
       "  <tbody>\n",
       "    <tr>\n",
       "      <th>0</th>\n",
       "      <td>1.607713e+09</td>\n",
       "      <td>FBI confirms that the Zodiac Killer’s “340 Cyp...</td>\n",
       "      <td>The Zodiac Killer is an unidentified serial ki...</td>\n",
       "      <td>UnresolvedMysteries</td>\n",
       "      <td>62418</td>\n",
       "      <td>2844</td>\n",
       "    </tr>\n",
       "    <tr>\n",
       "      <th>1</th>\n",
       "      <td>1.579803e+09</td>\n",
       "      <td>The mystery surrounding Britney Spears</td>\n",
       "      <td>I know this isn’t the typical content usually ...</td>\n",
       "      <td>UnresolvedMysteries</td>\n",
       "      <td>29997</td>\n",
       "      <td>1703</td>\n",
       "    </tr>\n",
       "    <tr>\n",
       "      <th>2</th>\n",
       "      <td>1.613172e+09</td>\n",
       "      <td>Why I stopped watching the Elisa Lam documentary</td>\n",
       "      <td>Right, I'm sure I'm gonna get some flack for t...</td>\n",
       "      <td>UnresolvedMysteries</td>\n",
       "      <td>26693</td>\n",
       "      <td>3417</td>\n",
       "    </tr>\n",
       "    <tr>\n",
       "      <th>3</th>\n",
       "      <td>1.524647e+09</td>\n",
       "      <td>East Area Rapist/Original Night Stalker OFFICI...</td>\n",
       "      <td>It's real, the EAR/ONS has been **officially c...</td>\n",
       "      <td>UnresolvedMysteries</td>\n",
       "      <td>25025</td>\n",
       "      <td>5137</td>\n",
       "    </tr>\n",
       "    <tr>\n",
       "      <th>4</th>\n",
       "      <td>1.653236e+09</td>\n",
       "      <td>8 months ago, the Sandy Hook shooter Adam Lanz...</td>\n",
       "      <td>https://www.reddit.com/r/masskillers/comments/...</td>\n",
       "      <td>UnresolvedMysteries</td>\n",
       "      <td>24939</td>\n",
       "      <td>1351</td>\n",
       "    </tr>\n",
       "  </tbody>\n",
       "</table>\n",
       "</div>"
      ],
      "text/plain": [
       "    created_utc                                              title  \\\n",
       "0  1.607713e+09  FBI confirms that the Zodiac Killer’s “340 Cyp...   \n",
       "1  1.579803e+09             The mystery surrounding Britney Spears   \n",
       "2  1.613172e+09   Why I stopped watching the Elisa Lam documentary   \n",
       "3  1.524647e+09  East Area Rapist/Original Night Stalker OFFICI...   \n",
       "4  1.653236e+09  8 months ago, the Sandy Hook shooter Adam Lanz...   \n",
       "\n",
       "                                           self_text            subreddit  \\\n",
       "0  The Zodiac Killer is an unidentified serial ki...  UnresolvedMysteries   \n",
       "1  I know this isn’t the typical content usually ...  UnresolvedMysteries   \n",
       "2  Right, I'm sure I'm gonna get some flack for t...  UnresolvedMysteries   \n",
       "3  It's real, the EAR/ONS has been **officially c...  UnresolvedMysteries   \n",
       "4  https://www.reddit.com/r/masskillers/comments/...  UnresolvedMysteries   \n",
       "\n",
       "   score  num_comments  \n",
       "0  62418          2844  \n",
       "1  29997          1703  \n",
       "2  26693          3417  \n",
       "3  25025          5137  \n",
       "4  24939          1351  "
      ]
     },
     "execution_count": 26,
     "metadata": {},
     "output_type": "execute_result"
    }
   ],
   "source": [
    "data = []\n",
    "for post in posts1_top:\n",
    "    data.append([post.created_utc, post.title, post.selftext, post.subreddit, post.score, post.num_comments])\n",
    "\n",
    "# Turn into a dataframe\n",
    "mysteries_top = pd.DataFrame(data, columns = ['created_utc', 'title', 'self_text', 'subreddit', 'score', 'num_comments'])\n",
    "mysteries_top.head()"
   ]
  },
  {
   "cell_type": "code",
   "execution_count": 27,
   "id": "bbbe9dd9",
   "metadata": {},
   "outputs": [
    {
     "data": {
      "text/plain": [
       "(997, 6)"
      ]
     },
     "execution_count": 27,
     "metadata": {},
     "output_type": "execute_result"
    }
   ],
   "source": [
    "mysteries_top.shape"
   ]
  },
  {
   "cell_type": "code",
   "execution_count": 28,
   "id": "b73b85e3",
   "metadata": {},
   "outputs": [],
   "source": [
    "frames = [mysteries_new, mysteries_hot, mysteries_top]\n",
    "unresolved_mysteries = pd.concat(frames)"
   ]
  },
  {
   "cell_type": "code",
   "execution_count": 29,
   "id": "536ab46c",
   "metadata": {},
   "outputs": [
    {
     "data": {
      "text/plain": [
       "(2390, 6)"
      ]
     },
     "execution_count": 29,
     "metadata": {},
     "output_type": "execute_result"
    }
   ],
   "source": [
    "unresolved_mysteries.shape"
   ]
  },
  {
   "cell_type": "code",
   "execution_count": 30,
   "id": "a14d8a06",
   "metadata": {},
   "outputs": [],
   "source": [
    "unresolved_mysteries = unresolved_mysteries.drop_duplicates()"
   ]
  },
  {
   "cell_type": "code",
   "execution_count": 31,
   "id": "4d8159e9",
   "metadata": {},
   "outputs": [
    {
     "data": {
      "text/plain": [
       "(2337, 6)"
      ]
     },
     "execution_count": 31,
     "metadata": {},
     "output_type": "execute_result"
    }
   ],
   "source": [
    "unresolved_mysteries.shape"
   ]
  },
  {
   "cell_type": "code",
   "execution_count": 32,
   "id": "8743cc05",
   "metadata": {},
   "outputs": [
    {
     "data": {
      "text/html": [
       "<div>\n",
       "<style scoped>\n",
       "    .dataframe tbody tr th:only-of-type {\n",
       "        vertical-align: middle;\n",
       "    }\n",
       "\n",
       "    .dataframe tbody tr th {\n",
       "        vertical-align: top;\n",
       "    }\n",
       "\n",
       "    .dataframe thead th {\n",
       "        text-align: right;\n",
       "    }\n",
       "</style>\n",
       "<table border=\"1\" class=\"dataframe\">\n",
       "  <thead>\n",
       "    <tr style=\"text-align: right;\">\n",
       "      <th></th>\n",
       "      <th>created_utc</th>\n",
       "      <th>title</th>\n",
       "      <th>self_text</th>\n",
       "      <th>subreddit</th>\n",
       "      <th>score</th>\n",
       "      <th>num_comments</th>\n",
       "    </tr>\n",
       "  </thead>\n",
       "  <tbody>\n",
       "    <tr>\n",
       "      <th>0</th>\n",
       "      <td>1.709234e+09</td>\n",
       "      <td>(Wallace and gromit) Wallace is abusive to gro...</td>\n",
       "      <td>throughout the series, Wallace continually pat...</td>\n",
       "      <td>FanTheories</td>\n",
       "      <td>0</td>\n",
       "      <td>3</td>\n",
       "    </tr>\n",
       "    <tr>\n",
       "      <th>1</th>\n",
       "      <td>1.709214e+09</td>\n",
       "      <td>[Mutant Turtle Ninjas] What if it represents G...</td>\n",
       "      <td>Hi guys i've been high for a while thinking ab...</td>\n",
       "      <td>FanTheories</td>\n",
       "      <td>0</td>\n",
       "      <td>5</td>\n",
       "    </tr>\n",
       "    <tr>\n",
       "      <th>2</th>\n",
       "      <td>1.709197e+09</td>\n",
       "      <td>Toy Story is just a delusional spirit that thi...</td>\n",
       "      <td>The sentient toys in Toy Story are posessed by...</td>\n",
       "      <td>FanTheories</td>\n",
       "      <td>0</td>\n",
       "      <td>57</td>\n",
       "    </tr>\n",
       "    <tr>\n",
       "      <th>3</th>\n",
       "      <td>1.709179e+09</td>\n",
       "      <td>The Shining - Worldbuilding</td>\n",
       "      <td>| English is not my first language please be f...</td>\n",
       "      <td>FanTheories</td>\n",
       "      <td>0</td>\n",
       "      <td>3</td>\n",
       "    </tr>\n",
       "    <tr>\n",
       "      <th>4</th>\n",
       "      <td>1.709173e+09</td>\n",
       "      <td>Rugrats Phill and Lil are Polar twins</td>\n",
       "      <td>because Polar Twins are Twins whose egg split ...</td>\n",
       "      <td>FanTheories</td>\n",
       "      <td>0</td>\n",
       "      <td>1</td>\n",
       "    </tr>\n",
       "  </tbody>\n",
       "</table>\n",
       "</div>"
      ],
      "text/plain": [
       "    created_utc                                              title  \\\n",
       "0  1.709234e+09  (Wallace and gromit) Wallace is abusive to gro...   \n",
       "1  1.709214e+09  [Mutant Turtle Ninjas] What if it represents G...   \n",
       "2  1.709197e+09  Toy Story is just a delusional spirit that thi...   \n",
       "3  1.709179e+09                        The Shining - Worldbuilding   \n",
       "4  1.709173e+09              Rugrats Phill and Lil are Polar twins   \n",
       "\n",
       "                                           self_text    subreddit  score  \\\n",
       "0  throughout the series, Wallace continually pat...  FanTheories      0   \n",
       "1  Hi guys i've been high for a while thinking ab...  FanTheories      0   \n",
       "2  The sentient toys in Toy Story are posessed by...  FanTheories      0   \n",
       "3  | English is not my first language please be f...  FanTheories      0   \n",
       "4  because Polar Twins are Twins whose egg split ...  FanTheories      0   \n",
       "\n",
       "   num_comments  \n",
       "0             3  \n",
       "1             5  \n",
       "2            57  \n",
       "3             3  \n",
       "4             1  "
      ]
     },
     "execution_count": 32,
     "metadata": {},
     "output_type": "execute_result"
    }
   ],
   "source": [
    "data = []\n",
    "for post in posts2_new:\n",
    "    data.append([post.created_utc, post.title, post.selftext, post.subreddit, post.score, post.num_comments])\n",
    "\n",
    "# Turn into a dataframe\n",
    "fantheories_new = pd.DataFrame(data, columns = ['created_utc', 'title', 'self_text', 'subreddit', 'score', 'num_comments'])\n",
    "fantheories_new.head()"
   ]
  },
  {
   "cell_type": "code",
   "execution_count": 33,
   "id": "daedb473",
   "metadata": {},
   "outputs": [
    {
     "data": {
      "text/plain": [
       "(866, 6)"
      ]
     },
     "execution_count": 33,
     "metadata": {},
     "output_type": "execute_result"
    }
   ],
   "source": [
    "fantheories_new.shape"
   ]
  },
  {
   "cell_type": "code",
   "execution_count": 34,
   "id": "408f3716",
   "metadata": {},
   "outputs": [
    {
     "data": {
      "text/html": [
       "<div>\n",
       "<style scoped>\n",
       "    .dataframe tbody tr th:only-of-type {\n",
       "        vertical-align: middle;\n",
       "    }\n",
       "\n",
       "    .dataframe tbody tr th {\n",
       "        vertical-align: top;\n",
       "    }\n",
       "\n",
       "    .dataframe thead th {\n",
       "        text-align: right;\n",
       "    }\n",
       "</style>\n",
       "<table border=\"1\" class=\"dataframe\">\n",
       "  <thead>\n",
       "    <tr style=\"text-align: right;\">\n",
       "      <th></th>\n",
       "      <th>created_utc</th>\n",
       "      <th>title</th>\n",
       "      <th>self_text</th>\n",
       "      <th>subreddit</th>\n",
       "      <th>score</th>\n",
       "      <th>num_comments</th>\n",
       "    </tr>\n",
       "  </thead>\n",
       "  <tbody>\n",
       "    <tr>\n",
       "      <th>0</th>\n",
       "      <td>1.634130e+09</td>\n",
       "      <td>Welcome to r/FanTheories! Please read this pos...</td>\n",
       "      <td>Recently, the moderation team has noticed an u...</td>\n",
       "      <td>FanTheories</td>\n",
       "      <td>353</td>\n",
       "      <td>0</td>\n",
       "    </tr>\n",
       "    <tr>\n",
       "      <th>1</th>\n",
       "      <td>1.708465e+09</td>\n",
       "      <td>Reminder: All fan theories must be in-universe...</td>\n",
       "      <td>Recently, it came to the attention of the r/fa...</td>\n",
       "      <td>FanTheories</td>\n",
       "      <td>111</td>\n",
       "      <td>26</td>\n",
       "    </tr>\n",
       "    <tr>\n",
       "      <th>2</th>\n",
       "      <td>1.709160e+09</td>\n",
       "      <td>The Good Place is a metaphor for Working Envir...</td>\n",
       "      <td>Is 'The Good Place' a metaphor for work enviro...</td>\n",
       "      <td>FanTheories</td>\n",
       "      <td>43</td>\n",
       "      <td>14</td>\n",
       "    </tr>\n",
       "    <tr>\n",
       "      <th>3</th>\n",
       "      <td>1.709134e+09</td>\n",
       "      <td>[Batman Arkham Knight] Jason was always going ...</td>\n",
       "      <td>Replayed Batman Arkham Knight on NG+. Great da...</td>\n",
       "      <td>FanTheories</td>\n",
       "      <td>25</td>\n",
       "      <td>3</td>\n",
       "    </tr>\n",
       "    <tr>\n",
       "      <th>4</th>\n",
       "      <td>1.709162e+09</td>\n",
       "      <td>the Spiderwick Chronicles are a Fablehaven pre...</td>\n",
       "      <td>I haven't read either series in a long while s...</td>\n",
       "      <td>FanTheories</td>\n",
       "      <td>5</td>\n",
       "      <td>1</td>\n",
       "    </tr>\n",
       "  </tbody>\n",
       "</table>\n",
       "</div>"
      ],
      "text/plain": [
       "    created_utc                                              title  \\\n",
       "0  1.634130e+09  Welcome to r/FanTheories! Please read this pos...   \n",
       "1  1.708465e+09  Reminder: All fan theories must be in-universe...   \n",
       "2  1.709160e+09  The Good Place is a metaphor for Working Envir...   \n",
       "3  1.709134e+09  [Batman Arkham Knight] Jason was always going ...   \n",
       "4  1.709162e+09  the Spiderwick Chronicles are a Fablehaven pre...   \n",
       "\n",
       "                                           self_text    subreddit  score  \\\n",
       "0  Recently, the moderation team has noticed an u...  FanTheories    353   \n",
       "1  Recently, it came to the attention of the r/fa...  FanTheories    111   \n",
       "2  Is 'The Good Place' a metaphor for work enviro...  FanTheories     43   \n",
       "3  Replayed Batman Arkham Knight on NG+. Great da...  FanTheories     25   \n",
       "4  I haven't read either series in a long while s...  FanTheories      5   \n",
       "\n",
       "   num_comments  \n",
       "0             0  \n",
       "1            26  \n",
       "2            14  \n",
       "3             3  \n",
       "4             1  "
      ]
     },
     "execution_count": 34,
     "metadata": {},
     "output_type": "execute_result"
    }
   ],
   "source": [
    "data = []\n",
    "for post in posts2_hot:\n",
    "    data.append([post.created_utc, post.title, post.selftext, post.subreddit, post.score, post.num_comments])\n",
    "\n",
    "# Turn into a dataframe\n",
    "fantheories_hot = pd.DataFrame(data, columns = ['created_utc', 'title', 'self_text', 'subreddit', 'score', 'num_comments'])\n",
    "fantheories_hot.head()"
   ]
  },
  {
   "cell_type": "code",
   "execution_count": 35,
   "id": "e01be115",
   "metadata": {},
   "outputs": [
    {
     "data": {
      "text/plain": [
       "(875, 6)"
      ]
     },
     "execution_count": 35,
     "metadata": {},
     "output_type": "execute_result"
    }
   ],
   "source": [
    "fantheories_hot.shape"
   ]
  },
  {
   "cell_type": "code",
   "execution_count": 36,
   "id": "ea7b6be7",
   "metadata": {},
   "outputs": [
    {
     "data": {
      "text/html": [
       "<div>\n",
       "<style scoped>\n",
       "    .dataframe tbody tr th:only-of-type {\n",
       "        vertical-align: middle;\n",
       "    }\n",
       "\n",
       "    .dataframe tbody tr th {\n",
       "        vertical-align: top;\n",
       "    }\n",
       "\n",
       "    .dataframe thead th {\n",
       "        text-align: right;\n",
       "    }\n",
       "</style>\n",
       "<table border=\"1\" class=\"dataframe\">\n",
       "  <thead>\n",
       "    <tr style=\"text-align: right;\">\n",
       "      <th></th>\n",
       "      <th>created_utc</th>\n",
       "      <th>title</th>\n",
       "      <th>self_text</th>\n",
       "      <th>subreddit</th>\n",
       "      <th>score</th>\n",
       "      <th>num_comments</th>\n",
       "    </tr>\n",
       "  </thead>\n",
       "  <tbody>\n",
       "    <tr>\n",
       "      <th>0</th>\n",
       "      <td>1.531675e+09</td>\n",
       "      <td>[SPOILERS] Infinity War: \"...you never once us...</td>\n",
       "      <td>The title quote comes from Thanos speaking to ...</td>\n",
       "      <td>FanTheories</td>\n",
       "      <td>13549</td>\n",
       "      <td>819</td>\n",
       "    </tr>\n",
       "    <tr>\n",
       "      <th>1</th>\n",
       "      <td>1.481235e+09</td>\n",
       "      <td>The entire movie of Aladdin was simply the ful...</td>\n",
       "      <td>Something that always bothered and confused me...</td>\n",
       "      <td>FanTheories</td>\n",
       "      <td>13248</td>\n",
       "      <td>686</td>\n",
       "    </tr>\n",
       "    <tr>\n",
       "      <th>2</th>\n",
       "      <td>1.555263e+09</td>\n",
       "      <td>Why Steve Rogers was able to resist Thanos.</td>\n",
       "      <td>I'm referring to at 0:33 in this video:  [http...</td>\n",
       "      <td>FanTheories</td>\n",
       "      <td>12130</td>\n",
       "      <td>598</td>\n",
       "    </tr>\n",
       "    <tr>\n",
       "      <th>3</th>\n",
       "      <td>1.542909e+09</td>\n",
       "      <td>[Harry Potter] [Spoilers] Ron Weasley used the...</td>\n",
       "      <td>**WARNING: SPOILERS ARE ALL OVER THIS THEORY L...</td>\n",
       "      <td>FanTheories</td>\n",
       "      <td>11330</td>\n",
       "      <td>864</td>\n",
       "    </tr>\n",
       "    <tr>\n",
       "      <th>4</th>\n",
       "      <td>1.482197e+09</td>\n",
       "      <td>Predator (1987): The alien tries each man's ma...</td>\n",
       "      <td>It's a well-worn idea that _Predator_ is a fil...</td>\n",
       "      <td>FanTheories</td>\n",
       "      <td>10998</td>\n",
       "      <td>298</td>\n",
       "    </tr>\n",
       "  </tbody>\n",
       "</table>\n",
       "</div>"
      ],
      "text/plain": [
       "    created_utc                                              title  \\\n",
       "0  1.531675e+09  [SPOILERS] Infinity War: \"...you never once us...   \n",
       "1  1.481235e+09  The entire movie of Aladdin was simply the ful...   \n",
       "2  1.555263e+09        Why Steve Rogers was able to resist Thanos.   \n",
       "3  1.542909e+09  [Harry Potter] [Spoilers] Ron Weasley used the...   \n",
       "4  1.482197e+09  Predator (1987): The alien tries each man's ma...   \n",
       "\n",
       "                                           self_text    subreddit  score  \\\n",
       "0  The title quote comes from Thanos speaking to ...  FanTheories  13549   \n",
       "1  Something that always bothered and confused me...  FanTheories  13248   \n",
       "2  I'm referring to at 0:33 in this video:  [http...  FanTheories  12130   \n",
       "3  **WARNING: SPOILERS ARE ALL OVER THIS THEORY L...  FanTheories  11330   \n",
       "4  It's a well-worn idea that _Predator_ is a fil...  FanTheories  10998   \n",
       "\n",
       "   num_comments  \n",
       "0           819  \n",
       "1           686  \n",
       "2           598  \n",
       "3           864  \n",
       "4           298  "
      ]
     },
     "execution_count": 36,
     "metadata": {},
     "output_type": "execute_result"
    }
   ],
   "source": [
    "data = []\n",
    "for post in posts2_top:\n",
    "    data.append([post.created_utc, post.title, post.selftext, post.subreddit, post.score, post.num_comments])\n",
    "\n",
    "# Turn into a dataframe\n",
    "fantheories_top = pd.DataFrame(data, columns = ['created_utc', 'title', 'self_text', 'subreddit', 'score', 'num_comments'])\n",
    "fantheories_top.head()"
   ]
  },
  {
   "cell_type": "code",
   "execution_count": 37,
   "id": "2cb03b4a",
   "metadata": {},
   "outputs": [
    {
     "data": {
      "text/plain": [
       "(998, 6)"
      ]
     },
     "execution_count": 37,
     "metadata": {},
     "output_type": "execute_result"
    }
   ],
   "source": [
    "fantheories_top.shape"
   ]
  },
  {
   "cell_type": "code",
   "execution_count": 38,
   "id": "68225387",
   "metadata": {},
   "outputs": [],
   "source": [
    "frames = [fantheories_new, fantheories_hot, fantheories_top]\n",
    "fan_theories = pd.concat(frames)"
   ]
  },
  {
   "cell_type": "code",
   "execution_count": 39,
   "id": "e9a248ca",
   "metadata": {},
   "outputs": [
    {
     "data": {
      "text/plain": [
       "(2739, 6)"
      ]
     },
     "execution_count": 39,
     "metadata": {},
     "output_type": "execute_result"
    }
   ],
   "source": [
    "fan_theories.shape"
   ]
  },
  {
   "cell_type": "code",
   "execution_count": 40,
   "id": "ce672187",
   "metadata": {},
   "outputs": [],
   "source": [
    "fan_theories = fan_theories.drop_duplicates()"
   ]
  },
  {
   "cell_type": "code",
   "execution_count": 41,
   "id": "7e204e6d",
   "metadata": {},
   "outputs": [
    {
     "data": {
      "text/plain": [
       "(2451, 6)"
      ]
     },
     "execution_count": 41,
     "metadata": {},
     "output_type": "execute_result"
    }
   ],
   "source": [
    "fan_theories.shape"
   ]
  },
  {
   "cell_type": "code",
   "execution_count": 42,
   "id": "e7c44903",
   "metadata": {},
   "outputs": [
    {
     "data": {
      "text/html": [
       "<div>\n",
       "<style scoped>\n",
       "    .dataframe tbody tr th:only-of-type {\n",
       "        vertical-align: middle;\n",
       "    }\n",
       "\n",
       "    .dataframe tbody tr th {\n",
       "        vertical-align: top;\n",
       "    }\n",
       "\n",
       "    .dataframe thead th {\n",
       "        text-align: right;\n",
       "    }\n",
       "</style>\n",
       "<table border=\"1\" class=\"dataframe\">\n",
       "  <thead>\n",
       "    <tr style=\"text-align: right;\">\n",
       "      <th></th>\n",
       "      <th>created_utc</th>\n",
       "      <th>title</th>\n",
       "      <th>self_text</th>\n",
       "      <th>subreddit</th>\n",
       "      <th>score</th>\n",
       "      <th>num_comments</th>\n",
       "    </tr>\n",
       "  </thead>\n",
       "  <tbody>\n",
       "    <tr>\n",
       "      <th>0</th>\n",
       "      <td>1.709248e+09</td>\n",
       "      <td>Jim Mordecai and the Santa Rosa Hitchhiker Mur...</td>\n",
       "      <td>Was Mordecai the serial killer who abducted an...</td>\n",
       "      <td>UnresolvedMysteries</td>\n",
       "      <td>20</td>\n",
       "      <td>10</td>\n",
       "    </tr>\n",
       "    <tr>\n",
       "      <th>1</th>\n",
       "      <td>1.709228e+09</td>\n",
       "      <td>A ten year old goes out to run errands and nev...</td>\n",
       "      <td>Ten-year-old Mary Ann Verdecchia was excited o...</td>\n",
       "      <td>UnresolvedMysteries</td>\n",
       "      <td>168</td>\n",
       "      <td>20</td>\n",
       "    </tr>\n",
       "    <tr>\n",
       "      <th>2</th>\n",
       "      <td>1.709215e+09</td>\n",
       "      <td>A Shadow Over Leigh: The Unsolved Murder of 14...</td>\n",
       "      <td>**Background**  \\nLisa Hession was a 14 year o...</td>\n",
       "      <td>UnresolvedMysteries</td>\n",
       "      <td>121</td>\n",
       "      <td>13</td>\n",
       "    </tr>\n",
       "    <tr>\n",
       "      <th>3</th>\n",
       "      <td>1.709175e+09</td>\n",
       "      <td>Tera Tracy</td>\n",
       "      <td>Saw this story online and thought it was worth...</td>\n",
       "      <td>UnresolvedMysteries</td>\n",
       "      <td>53</td>\n",
       "      <td>8</td>\n",
       "    </tr>\n",
       "    <tr>\n",
       "      <th>4</th>\n",
       "      <td>1.709069e+09</td>\n",
       "      <td>The Boy and the Bike: the Disappearance of Dav...</td>\n",
       "      <td>I know this has been covered a few times, but ...</td>\n",
       "      <td>UnresolvedMysteries</td>\n",
       "      <td>337</td>\n",
       "      <td>51</td>\n",
       "    </tr>\n",
       "  </tbody>\n",
       "</table>\n",
       "</div>"
      ],
      "text/plain": [
       "    created_utc                                              title  \\\n",
       "0  1.709248e+09  Jim Mordecai and the Santa Rosa Hitchhiker Mur...   \n",
       "1  1.709228e+09  A ten year old goes out to run errands and nev...   \n",
       "2  1.709215e+09  A Shadow Over Leigh: The Unsolved Murder of 14...   \n",
       "3  1.709175e+09                                         Tera Tracy   \n",
       "4  1.709069e+09  The Boy and the Bike: the Disappearance of Dav...   \n",
       "\n",
       "                                           self_text            subreddit  \\\n",
       "0  Was Mordecai the serial killer who abducted an...  UnresolvedMysteries   \n",
       "1  Ten-year-old Mary Ann Verdecchia was excited o...  UnresolvedMysteries   \n",
       "2  **Background**  \\nLisa Hession was a 14 year o...  UnresolvedMysteries   \n",
       "3  Saw this story online and thought it was worth...  UnresolvedMysteries   \n",
       "4  I know this has been covered a few times, but ...  UnresolvedMysteries   \n",
       "\n",
       "   score  num_comments  \n",
       "0     20            10  \n",
       "1    168            20  \n",
       "2    121            13  \n",
       "3     53             8  \n",
       "4    337            51  "
      ]
     },
     "execution_count": 42,
     "metadata": {},
     "output_type": "execute_result"
    }
   ],
   "source": [
    "reddits = [unresolved_mysteries, fan_theories]\n",
    "redditdata1 =  pd.concat(reddits)\n",
    "redditdata1.head()"
   ]
  },
  {
   "cell_type": "code",
   "execution_count": 43,
   "id": "f77544a1",
   "metadata": {},
   "outputs": [
    {
     "data": {
      "text/plain": [
       "(4788, 6)"
      ]
     },
     "execution_count": 43,
     "metadata": {},
     "output_type": "execute_result"
    }
   ],
   "source": [
    "redditdata1.shape"
   ]
  },
  {
   "cell_type": "code",
   "execution_count": 44,
   "id": "ca357f04",
   "metadata": {},
   "outputs": [],
   "source": [
    "redditdata1.to_csv('./data/reddit_data.csv')"
   ]
  },
  {
   "cell_type": "markdown",
   "id": "2eb4c19d-f9d9-4be8-9ca5-5ecbbde48970",
   "metadata": {},
   "source": [
    "Remember, you will need to pull *at least* 1000 posts from each subreddit, not just 25. Like I mentioned above, you can use the created_utc attribute of a post to keep track of the timestamp and ensure non-overlapping pulls. We will leave this work for you all to complete.\n",
    "\n",
    "Once you have at least 1000 posts from each subreddit, you can do some EDA (perhaps maybe the most common words in each subreddit..?) Eventually, you will want to combine your two dataframes together to do modeling."
   ]
  },
  {
   "cell_type": "markdown",
   "id": "d0785dc1-075d-4bd4-8c34-4dd2978d7dfb",
   "metadata": {},
   "source": [
    "### Hopefully this is enough of a tutorial to help get you started! If you have any questions, let us know!"
   ]
  },
  {
   "cell_type": "markdown",
   "id": "8f942833-8fdb-46d1-9182-b672e49434a5",
   "metadata": {},
   "source": [
    "### Note: Rather than working in this template notebook, make a brand new \"scraping\" notebook (or script), with your own comments, so you can use this project in a portfolio!"
   ]
  }
 ],
 "metadata": {
  "kernelspec": {
   "display_name": "Python 3 (ipykernel)",
   "language": "python",
   "name": "python3"
  },
  "language_info": {
   "codemirror_mode": {
    "name": "ipython",
    "version": 3
   },
   "file_extension": ".py",
   "mimetype": "text/x-python",
   "name": "python",
   "nbconvert_exporter": "python",
   "pygments_lexer": "ipython3",
   "version": "3.11.5"
  }
 },
 "nbformat": 4,
 "nbformat_minor": 5
}
